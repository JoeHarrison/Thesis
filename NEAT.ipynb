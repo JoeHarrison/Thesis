{
 "cells": [
  {
   "cell_type": "code",
   "execution_count": 1,
   "metadata": {},
   "outputs": [],
   "source": [
    "import neat\n",
    "\n",
    "import gym\n",
    "import rubiks\n",
    "import numpy as np\n",
    "import os"
   ]
  },
  {
   "cell_type": "code",
   "execution_count": null,
   "metadata": {},
   "outputs": [
    {
     "name": "stdout",
     "output_type": "stream",
     "text": [
      "[['-' '-' '0' '0' '-' '-' '-' '-']\n",
      " ['-' '-' '0' '0' '-' '-' '-' '-']\n",
      " ['1' '1' '2' '2' '3' '3' '4' '4']\n",
      " ['1' '1' '2' '2' '3' '3' '4' '4']\n",
      " ['-' '-' '5' '5' '-' '-' '-' '-']\n",
      " ['-' '-' '5' '5' '-' '-' '-' '-']]\n"
     ]
    }
   ],
   "source": [
    "env = rubiks.RubiksEnv(2)\n",
    "env.pretty_print()"
   ]
  },
  {
   "cell_type": "code",
   "execution_count": null,
   "metadata": {},
   "outputs": [
    {
     "name": "stdout",
     "output_type": "stream",
     "text": [
      "100.0\n",
      "\n",
      " ****** Running generation 0 ****** \n",
      "\n"
     ]
    }
   ],
   "source": [
    "def eval_genomes(genomes, config):\n",
    "    difficulty = 1\n",
    "\n",
    "    for genome_id, genome in genomes:\n",
    "        genome.fitness = 0.0\n",
    "        net = neat.nn.FeedForwardNetwork.create(genome, config)\n",
    "\n",
    "        for i in range(1000):\n",
    "            done = False\n",
    "            tries = 0\n",
    "            max_tries = difficulty\n",
    "            state = env.reset(difficulty)\n",
    "\n",
    "            while tries < max_tries and not done:\n",
    "                action_probabilities = net.activate(state)\n",
    "                action = np.argmax(action_probabilities)\n",
    "\n",
    "                next_state, reward, done, info = env.step(int(action))\n",
    "\n",
    "                tries += 1\n",
    "                state = next_state\n",
    "\n",
    "            if done:\n",
    "                genome.fitness += 1.0 \n",
    "\n",
    "    \n",
    "\n",
    "def run(config_file, generations):\n",
    "    # Load configuration.\n",
    "    config = neat.Config(neat.DefaultGenome, neat.DefaultReproduction,\n",
    "                         neat.DefaultSpeciesSet, neat.DefaultStagnation,\n",
    "                         config_file)\n",
    "\n",
    "    # Create the population, which is the top-level object for a NEAT run.\n",
    "    p = neat.Population(config)\n",
    "    p.add_reporter(neat.StdOutReporter(True))\n",
    "\n",
    "    # Run for up to 300 generations.\n",
    "    winner = p.run(eval_genomes, generations)\n",
    "    \n",
    "    print(winner)\n",
    "    \n",
    "run('./neat.config', 10000)"
   ]
  },
  {
   "cell_type": "code",
   "execution_count": null,
   "metadata": {},
   "outputs": [],
   "source": []
  },
  {
   "cell_type": "code",
   "execution_count": null,
   "metadata": {},
   "outputs": [],
   "source": []
  }
 ],
 "metadata": {
  "kernelspec": {
   "display_name": "Python 3",
   "language": "python",
   "name": "python3"
  },
  "language_info": {
   "codemirror_mode": {
    "name": "ipython",
    "version": 3
   },
   "file_extension": ".py",
   "mimetype": "text/x-python",
   "name": "python",
   "nbconvert_exporter": "python",
   "pygments_lexer": "ipython3",
   "version": "3.6.8"
  }
 },
 "nbformat": 4,
 "nbformat_minor": 2
}
