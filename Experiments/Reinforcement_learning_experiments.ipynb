{
 "cells": [
  {
   "cell_type": "markdown",
   "metadata": {},
   "source": [
    "# Imports"
   ]
  },
  {
   "cell_type": "code",
   "execution_count": 4,
   "metadata": {},
   "outputs": [],
   "source": [
    "import gym\n",
    "import rubiks\n",
    "import rubiks2\n",
    "\n",
    "import random\n",
    "import numpy as np\n",
    "from collections import namedtuple\n",
    "\n",
    "import torch\n",
    "import torch.nn as nn\n",
    "import torch.optim as optim\n",
    "import torch.nn.functional as F\n",
    "\n",
    "import os \n",
    "import copy\n",
    "import time\n",
    "\n",
    "from collections import defaultdict, deque\n",
    "\n",
    "from IPython.display import clear_output\n",
    "import matplotlib.pyplot as plt\n",
    "%matplotlib inline\n",
    "\n",
    "from replay_memories import ReplayMemory, PrioritizedReplayMemory\n",
    "from networks import DQN, DuelingDQN, DuelingDQNHER\n",
    "\n",
    "from tqdm import tqdm_notebook\n",
    "from EXP3S import EXP3S\n",
    "\n",
    "from MCTS import MonteCarloSearchTree\n",
    "\n",
    "from superflip import superflip_set"
   ]
  },
  {
   "cell_type": "code",
   "execution_count": 5,
   "metadata": {},
   "outputs": [
    {
     "name": "stdout",
     "output_type": "stream",
     "text": [
      "Device:  cuda\n",
      "Torch Version:  1.0.1.post2\n"
     ]
    }
   ],
   "source": [
    "device = torch.device(\"cuda\" if torch.cuda.is_available() else \"cpu\")\n",
    "print(\"Device: \", device)\n",
    "print(\"Torch Version: \", torch.__version__)"
   ]
  },
  {
   "cell_type": "code",
   "execution_count": 6,
   "metadata": {},
   "outputs": [
    {
     "ename": "FileExistsError",
     "evalue": "[Errno 17] File exists: 'models/Random/'",
     "output_type": "error",
     "traceback": [
      "\u001b[0;31m---------------------------------------------------------------------------\u001b[0m",
      "\u001b[0;31mFileExistsError\u001b[0m                           Traceback (most recent call last)",
      "\u001b[0;32m<ipython-input-6-058d3fb2b065>\u001b[0m in \u001b[0;36m<module>\u001b[0;34m()\u001b[0m\n\u001b[1;32m      1\u001b[0m \u001b[0mmodel\u001b[0m \u001b[0;34m=\u001b[0m \u001b[0mDuelingDQN\u001b[0m\u001b[0;34m(\u001b[0m\u001b[0;36m144\u001b[0m\u001b[0;34m,\u001b[0m \u001b[0;34m[\u001b[0m\u001b[0;36m4096\u001b[0m\u001b[0;34m,\u001b[0m \u001b[0;36m2048\u001b[0m\u001b[0;34m,\u001b[0m \u001b[0;36m512\u001b[0m\u001b[0;34m]\u001b[0m\u001b[0;34m,\u001b[0m \u001b[0;36m6\u001b[0m\u001b[0;34m,\u001b[0m \u001b[0mF\u001b[0m\u001b[0;34m.\u001b[0m\u001b[0melu\u001b[0m\u001b[0;34m)\u001b[0m\u001b[0;34m\u001b[0m\u001b[0;34m\u001b[0m\u001b[0m\n\u001b[0;32m----> 2\u001b[0;31m \u001b[0mos\u001b[0m\u001b[0;34m.\u001b[0m\u001b[0mmkdir\u001b[0m\u001b[0;34m(\u001b[0m\u001b[0;34m'models/Random/'\u001b[0m\u001b[0;34m)\u001b[0m\u001b[0;34m\u001b[0m\u001b[0;34m\u001b[0m\u001b[0m\n\u001b[0m\u001b[1;32m      3\u001b[0m \u001b[0mtorch\u001b[0m\u001b[0;34m.\u001b[0m\u001b[0msave\u001b[0m\u001b[0;34m(\u001b[0m\u001b[0mmodel\u001b[0m\u001b[0;34m,\u001b[0m \u001b[0;34m'models/Random/'\u001b[0m \u001b[0;34m+\u001b[0m \u001b[0;34m\"model.pt\"\u001b[0m\u001b[0;34m)\u001b[0m\u001b[0;34m\u001b[0m\u001b[0;34m\u001b[0m\u001b[0m\n",
      "\u001b[0;31mFileExistsError\u001b[0m: [Errno 17] File exists: 'models/Random/'"
     ]
    }
   ],
   "source": [
    "model = DuelingDQN(144, [4096, 2048, 512], 6, F.elu)\n",
    "os.mkdir('models/Random/')\n",
    "torch.save(model, 'models/Random/' + \"model.pt\")"
   ]
  },
  {
   "cell_type": "markdown",
   "metadata": {},
   "source": [
    "# Epsilon"
   ]
  },
  {
   "cell_type": "code",
   "execution_count": 7,
   "metadata": {},
   "outputs": [],
   "source": [
    "# Epsilon decay\n",
    "epsilon_start = 1.0\n",
    "epsilon_final = 0.01\n",
    "epsilon_decay = 100\n",
    "\n",
    "epsilon_by_exponential_step = lambda step_idx: epsilon_final + (epsilon_start - epsilon_final) * np.exp(-1. * step_idx / epsilon_decay)\n",
    "\n",
    "epsilon_by_linear_step = lambda step_idx: epsilon_final + (epsilon_start-epsilon_final)*((epsilon_decay-step_idx)/epsilon_decay) if step_idx < epsilon_decay else epsilon_final"
   ]
  },
  {
   "cell_type": "code",
   "execution_count": 8,
   "metadata": {},
   "outputs": [
    {
     "data": {
      "text/plain": [
       "[<matplotlib.lines.Line2D at 0x7f3af04e54e0>]"
      ]
     },
     "execution_count": 8,
     "metadata": {},
     "output_type": "execute_result"
    },
    {
     "data": {
      "image/png": "[encoded data removed]",
      "text/plain": [
       "<Figure size 432x288 with 1 Axes>"
      ]
     },
     "metadata": {},
     "output_type": "display_data"
    }
   ],
   "source": [
    "plt.figure\n",
    "plt.title('Epsilon decay')\n",
    "plt.xlabel('Global steps')\n",
    "plt.ylabel('Epsilon')\n",
    "plt.plot([epsilon_by_exponential_step(i) for i in range(1000)])\n",
    "plt.plot([epsilon_by_linear_step(i) for i in range(1000)])"
   ]
  },
  {
   "cell_type": "markdown",
   "metadata": {},
   "source": [
    "# Reward Scaling"
   ]
  },
  {
   "cell_type": "code",
   "execution_count": 9,
   "metadata": {},
   "outputs": [],
   "source": [
    "# Scales rewards. Have emailed about how to implement for when there is no history or an history of 1 reward. \n",
    "# No answer as of yet, but my guess is that returning 0 will not affect the probabilites\n",
    "def scale_reward(unscaled_reward, history_unscaled_rewards):\n",
    "    if not history_unscaled_rewards:\n",
    "        return 0\n",
    "\n",
    "    q_lo = np.quantile(history_unscaled_rewards, 0.2)\n",
    "    q_hi = np.quantile(history_unscaled_rewards, 0.8)\n",
    "    \n",
    "    if unscaled_reward < q_lo:\n",
    "        return -1\n",
    "    \n",
    "    if unscaled_reward > q_hi:\n",
    "        return 1\n",
    "    \n",
    "    if q_lo == q_hi:\n",
    "        return 0\n",
    "    \n",
    "    return (2*(unscaled_reward - q_lo)/(q_hi-q_lo)) - 1"
   ]
  },
  {
   "cell_type": "code",
   "execution_count": 10,
   "metadata": {},
   "outputs": [],
   "source": [
    "# Computes the q-values of an action in a state\n",
    "def compute_q_val(model, state, action):\n",
    "    qactions = model(state)\n",
    "    return torch.gather(qactions,1,action.view(-1,1))"
   ]
  },
  {
   "cell_type": "code",
   "execution_count": 11,
   "metadata": {},
   "outputs": [],
   "source": [
    "# Computes the target. When done, 0 is added to the reward as there is no next state.\n",
    "def compute_target_dqn(model, reward, next_state, done, gamma):\n",
    "    return reward + gamma * model(next_state).max(1)[0] * (1-done)\n",
    "\n",
    "# Computes the target. When done, 0 is added to the reward as there is no next state. But now for Double DQN\n",
    "def compute_target_ddqn(model, target_model, reward, next_state, done, gamma):\n",
    "    a = model(next_state)\n",
    "    return reward.view(-1,1) + gamma * torch.gather(target_model(next_state),1,model(next_state).max(1)[1].view(-1,1)) * (1-done).view(-1,1)"
   ]
  },
  {
   "cell_type": "markdown",
   "metadata": {},
   "source": [
    "# Training classes"
   ]
  },
  {
   "cell_type": "code",
   "execution_count": 37,
   "metadata": {},
   "outputs": [],
   "source": [
    "class Train(object):\n",
    "    def __init__(self, architecture, duelingDQN, doubleDQN, lr, frames, batch_size, gamma, capacity_increase, \n",
    "                        tau, non_linearity,\n",
    "                        verbose=False, load_path=None, save_path=None, seed=None, mode='14'):\n",
    "        \n",
    "        self.make_path(save_path)\n",
    "        \n",
    "        self.set_seed(seed)\n",
    "        self.mode = mode\n",
    "        \n",
    "        # Arrays to keep track of losses and accuracies over time\n",
    "        self.losses = []\n",
    "        self.accuracies = []\n",
    "        \n",
    "        # Global steps keeps track of the total number of optimisation steps\n",
    "        self.global_steps = 0\n",
    "        # Local steps keeps track of number of optimisation steps within a task\n",
    "        self.local_steps = 0\n",
    "        \n",
    "        # Epsilon exponential decay\n",
    "        self.epsilon_start = 1.0\n",
    "        self.epsilon_final = 0.01\n",
    "        self.epsilon_decay = 10000\n",
    "        \n",
    "        self.frames = frames\n",
    "        \n",
    "        self.verbose = verbose\n",
    "        \n",
    "        self.criterion = torch.nn.SmoothL1Loss(reduce=False)\n",
    "    \n",
    "    def make_path(self, save_path):\n",
    "        # If the directory does not exist, make one\n",
    "        if save_path:\n",
    "            if not os.path.isdir(save_path):\n",
    "                os.mkdir(save_path)\n",
    "                \n",
    "    def set_seed(self, seed):\n",
    "        # If a seed is set, set the seed for all sources of randomness\n",
    "        if seed:\n",
    "            np.random.seed(seed)\n",
    "            random.seed(seed)\n",
    "            torch.manual_seed(seed)\n",
    "    \n",
    "    def calculate_max_moves_from_difficulty(self, difficulty):\n",
    "        if self.mode is '14':\n",
    "            return difficulty\n",
    "        else:\n",
    "            return difficulty // 6 + 1\n",
    "    \n",
    "    def calculate_max_moves_from_scrambles(self, scrambles):\n",
    "        if self.mode is '14':\n",
    "            return min(scrambles, 14)\n",
    "        else:\n",
    "            return min(scrambles // 6 + 1, 14)\n",
    "            \n",
    "    def initialise_models(self, load_path):\n",
    "        raise NotImplementedError('Override initialise_models method in child class')\n",
    "    \n",
    "    def train(self):\n",
    "        raise NotImplementedError('Override train method in child class')"
   ]
  },
  {
   "cell_type": "markdown",
   "metadata": {},
   "source": [
    "# Handcrafted Curricula"
   ]
  },
  {
   "cell_type": "code",
   "execution_count": 43,
   "metadata": {},
   "outputs": [],
   "source": [
    "class TrainHandcrafted(Train):\n",
    "    def __init__(self, architecture, duelingDQN, doubleDQN, replay, prioritizedReplayMemory, alpha, \n",
    "                        memoryCapacity, lr, frames, batch_size, gamma, capacity_increase, \n",
    "                        threshold, evaluation_frequency, tau, curriculum, non_linearity,\n",
    "                        verbose=False, load_path=None, save_path=None, seed=None, mode='14'):\n",
    "        super().__init__(architecture, duelingDQN, doubleDQN, lr, frames, batch_size, gamma, capacity_increase, tau, non_linearity,\n",
    "                        verbose=verbose, load_path=load_path, save_path=save_path, seed=seed, mode=mode)\n",
    "        \n",
    "        print(architecture, duelingDQN, doubleDQN, prioritizedReplayMemory, alpha, \n",
    "                        memoryCapacity, lr, frames, batch_size, gamma,\n",
    "                        threshold, evaluation_frequency, tau, curriculum, non_linearity, mode)\n",
    "        print([cap(1) for cap in capacity_increase])\n",
    "        \n",
    "        # Difficulty the problem starts with\n",
    "        if mode=='14':\n",
    "            self.difficulty = 1\n",
    "        else:\n",
    "            self.difficulty = 0\n",
    "        \n",
    "        # Initialise current and target model\n",
    "        self.initialise_models(load_path)\n",
    "        self.models_to_device()\n",
    "        \n",
    "        # Initialise replay memory\n",
    "        self.memoryCapacity = memoryCapacity\n",
    "        self.initialise_memory(prioritizedReplayMemory, self.memoryCapacity, alpha)\n",
    "        \n",
    "        # Initialise optimiser\n",
    "        self.optimizer = optim.Adam(self.current_model.parameters(), lr=lr)\n",
    "        \n",
    "        self.curriculum = curriculum\n",
    "        self.batch_size = batch_size\n",
    "        self.gamma = gamma\n",
    "        self.save_path = save_path\n",
    "        self.tau = tau\n",
    "        self.evaluation_frequency = evaluation_frequency\n",
    "        self.threshold = threshold\n",
    "        self.capacity_increase = capacity_increase\n",
    "        self.lr = lr\n",
    "        \n",
    "        self.steps = []\n",
    "        self.changes = []\n",
    "        \n",
    "    def models_to_device(self):\n",
    "        # Decide what device to put the models on\n",
    "        if torch.cuda.is_available():\n",
    "            self.current_model.to('cuda')\n",
    "            self.target_model.to('cuda')\n",
    "        else:\n",
    "            self.current_model.to('cpu')\n",
    "            self.target_model.to('cpu')\n",
    "            \n",
    "    def initialise_memory(self, prioritizedReplayMemory, memoryCapacity, alpha):\n",
    "        # Uses prioritized replay sampling when set to true, otherwise uniform replay sampling is used\n",
    "        if prioritizedReplayMemory:\n",
    "            self.memory = PrioritizedReplayMemory(int(memoryCapacity), alpha)\n",
    "        else:\n",
    "            self.memory = ReplayMemory(int(memoryCapacity))\n",
    "    \n",
    "    def initialise_models(self, load_path):\n",
    "        # If a path with a model is provided certain variables are loaded\n",
    "        if load_path:\n",
    "            self.current_model = torch.load(load_path + 'model.pt')\n",
    "            self.target_model = copy.deepcopy(current_model)\n",
    "        else:\n",
    "            # n^2 per face, 6 faces, 6 colours one-hot encoded. 3x3x6x6=324, 2x2x6x6=144\n",
    "            state_size = env.size**2 * 6**2\n",
    "\n",
    "            # The number of output nodes is different for the 2x2x2. The move L is the same as the move R, except the orientation changes.\n",
    "            self.output_nodes = 12\n",
    "            if env.size == 2:\n",
    "                self.output_nodes = 6\n",
    "\n",
    "            # Initialising either a network with dueling architecture or regular network\n",
    "            if duelingDQN:\n",
    "                self.current_model = DuelingDQN(state_size, architecture, self.output_nodes, non_linearity)\n",
    "                self.target_model = DuelingDQN(state_size, copy.copy(architecture), self.output_nodes, non_linearity)\n",
    "            else:\n",
    "                self.current_model = DQN(state_size, architecture, self.output_nodes, non_linearity)\n",
    "                self.target_model = DQN(state_size, copy.copy(architecture), self.output_nodes, non_linearity)\n",
    "    \n",
    "    def save_model_parameters(self):\n",
    "        if self.save_path:\n",
    "            torch.save(self.current_model, self.save_path + \"model.pt\")\n",
    "                \n",
    "    def get_state(self):\n",
    "        # Decide what state to show the network next depending on the curriculum\n",
    "        state = None\n",
    "        max_tries = None\n",
    "        \n",
    "        if curriculum is 'Naive':\n",
    "            if self.mode is '14':\n",
    "                state = env.reset(self.difficulty)\n",
    "            else:\n",
    "                state = env.curriculum_reset(self.difficulty)\n",
    "            max_tries = self.calculate_max_moves_from_scrambles(self.difficulty)\n",
    "            \n",
    "        elif curriculum is 'LBF':\n",
    "            p = np.random.rand()\n",
    "            \n",
    "            if p < 0.2:\n",
    "                scrambles = np.random.randint(1, 1000)\n",
    "                state = env.reset(scrambles)\n",
    "                max_tries = self.calculate_max_moves_from_scrambles(scrambles)\n",
    "                \n",
    "            else:\n",
    "                if self.mode is '14':\n",
    "                    state = env.reset(self.difficulty)\n",
    "                else:\n",
    "                    state = env.curriculum_reset(self.difficulty)\n",
    "                max_tries = self.calculate_max_moves_from_scrambles(self.difficulty)\n",
    "                \n",
    "        elif curriculum is 'Mixed':\n",
    "            scrambles = np.random.randint(1,1000)\n",
    "            \n",
    "            state = env.reset(scrambles)\n",
    "\n",
    "            max_tries = self.calculate_max_moves_from_scrambles(scrambles)\n",
    "            \n",
    "        else:\n",
    "            scrambles = 1000\n",
    "            state = env.reset(scrambles)\n",
    "            max_tries = self.calculate_max_moves_from_scrambles(scrambles)\n",
    "            \n",
    "        return state, max_tries\n",
    "    \n",
    "    def train_dqn(self):\n",
    "        if len(self.memory)<self.batch_size:\n",
    "            return None\n",
    "        \n",
    "        batch, indices, weights = self.memory.sample(self.batch_size, self.local_steps, device)\n",
    "\n",
    "        state, action, reward, next_state, done = zip(*batch)\n",
    "\n",
    "        state = torch.tensor(state, dtype=torch.float32, device=device)\n",
    "        action = torch.tensor(action, dtype=torch.long, device=device)\n",
    "        next_state = torch.tensor(next_state, dtype=torch.float32, device=device)\n",
    "        reward = torch.tensor(reward, dtype=torch.float32, device=device)\n",
    "        done = torch.tensor(done, dtype=torch.float32, device=device)\n",
    "\n",
    "        weights.to(device)\n",
    "\n",
    "        self.optimizer.zero_grad()\n",
    "\n",
    "        q_val = compute_q_val(self.current_model, state, action)\n",
    "\n",
    "        with torch.no_grad():\n",
    "            if doubleDQN:\n",
    "                target = compute_target_ddqn(self.current_model, self.target_model, reward, next_state, done, self.gamma)\n",
    "            else:\n",
    "                target = compute_target_dqn(self.target_model, reward, next_state, done, gamma)        \n",
    "\n",
    "        loss = self.criterion(q_val, target.view(-1,1)) * weights.unsqueeze(1)\n",
    "\n",
    "        prios = loss + 1e-5\n",
    "        loss = loss.mean()\n",
    "\n",
    "        loss.backward()\n",
    "        \n",
    "        # Also taken from higgsfield\n",
    "        self.memory.update_priorities(indices, prios.detach().squeeze().abs().cpu().numpy().tolist())\n",
    "        self.optimizer.step()\n",
    "\n",
    "        return loss.item()\n",
    "    \n",
    "    def train_without_replay(self, state, action, next_state, reward, done):\n",
    "        self.optimizer.zero_grad()\n",
    "\n",
    "        state = torch.tensor([state], dtype=torch.float32, device=device)\n",
    "        action = torch.tensor([action], dtype=torch.long, device=device)\n",
    "        next_state = torch.tensor([next_state], dtype=torch.float32, device=device)\n",
    "        reward = torch.tensor([reward], dtype=torch.float32, device=device)\n",
    "        done = torch.tensor([done], dtype=torch.float32, device=device)\n",
    "\n",
    "        q_val = compute_q_val(self.current_model, state, action)\n",
    "\n",
    "        with torch.no_grad():\n",
    "            if doubleDQN:\n",
    "                target = compute_target_ddqn(self.current_model, self.target_model, reward, next_state, done, self.gamma)\n",
    "            else:\n",
    "                target = compute_target_dqn(self.target_model, reward, next_state, done, gamma)\n",
    "\n",
    "        difference = (q_val - target.view(-1,1))\n",
    "\n",
    "        loss = difference.pow(2)\n",
    "        loss = loss.mean()\n",
    "        loss.backward()\n",
    "        self.optimizer.step()\n",
    "        \n",
    "        return loss.item()\n",
    "    \n",
    "    def train(self):\n",
    "        accuracy = 0.0\n",
    "        try:\n",
    "            epsilon_by_step = lambda step_idx: self.epsilon_final + (self.epsilon_start - self.epsilon_final) * np.exp(-1. * step_idx / self.epsilon_decay)\n",
    "            for frame_idx in tqdm_notebook(range(self.frames)):\n",
    "                frame_losses = []\n",
    "                \n",
    "                # Main RL loop\n",
    "                state, max_tries = self.get_state()\n",
    "                done = 0\n",
    "                tries = 0\n",
    "                \n",
    "                while tries < max_tries and not done:\n",
    "                    epsilon = epsilon_by_step(self.local_steps)\n",
    "                    action = self.current_model.act(state, epsilon, [0]*env.action_space.n, device)\n",
    "                    next_state, reward, done, info = env.step(action)\n",
    "                    self.memory.push((state, action, reward, next_state, done))\n",
    "                    \n",
    "                    # Directly train on last tuple if no replay buffer is uses\n",
    "                    if not replay:\n",
    "                        \n",
    "                        loss = self.train_without_replay(state, action, next_state, reward, done)\n",
    "                        \n",
    "                    # Use replay memory to train\n",
    "                    if replay:\n",
    "                        loss = self.train_dqn()\n",
    "                        \n",
    "                    self.global_steps += 1\n",
    "                        \n",
    "                    self.local_steps += 1\n",
    "\n",
    "                    state = next_state\n",
    "\n",
    "                    tries += 1\n",
    "                \n",
    "                if loss:\n",
    "                    frame_losses.append(loss)   \n",
    "                \n",
    "                # Target model becomes the current model (Mnih)\n",
    "                if self.global_steps % self.tau == 0:\n",
    "                    self.target_model.load_state_dict(self.current_model.state_dict())\n",
    "                    self.save_model_parameters()\n",
    "                \n",
    "                \n",
    "                # Current model evaluated in raw fashion, i.e. no additional structures such as MCTS or second best\n",
    "                if self.global_steps % self.evaluation_frequency == 0 and self.curriculum is not None:\n",
    "                    total_done = 0\n",
    "                    for i in range(100):\n",
    "                        if mode is '14':\n",
    "                            state = env.reset(self.difficulty)\n",
    "                        else:\n",
    "                            state = env.curriculum_reset(self.difficulty)\n",
    "                        max_tries = self.calculate_max_moves_from_scrambles(self.difficulty)\n",
    "    \n",
    "                        done = 0\n",
    "                        tries = 0\n",
    "                        \n",
    "                        while tries < max_tries and not done:\n",
    "                            action = self.current_model.act(state, 0.0, [0]*env.action_space.n, device)\n",
    "                            next_state, reward, done, info = env.step(action)\n",
    "                            state = next_state    \n",
    "                        \n",
    "                            total_done += done\n",
    "                            tries += 1\n",
    "                        \n",
    "                    accuracy = total_done/100\n",
    "                    self.accuracies.append(accuracy)\n",
    "                    self.steps.append(self.global_steps)\n",
    "                    \n",
    "                    # Increment the current difficulty when the accuracy threshold is surpassed\n",
    "                    if accuracy >= self.threshold:\n",
    "                        self.best_accuracy = 0\n",
    "                        self.difficulty += 1\n",
    "                        self.local_steps = 0\n",
    "                        self.changes.append(self.global_steps)\n",
    "\n",
    "                        epsilon_by_step = lambda step_idx: self.epsilon_final + (self.epsilon_start - self.epsilon_final) * np.exp(-1. * step_idx / self.epsilon_decay)\n",
    "                    \n",
    "                    # Print information\n",
    "                    if self.verbose:\n",
    "                        clear_output(True)\n",
    "                        print(\"Frame: \", frame_idx, \"Global steps: \", self.global_steps)\n",
    "                        print(\"Difficulty: \", self.difficulty, \"Max tries:\", self.calculate_max_moves_from_scrambles(self.difficulty))\n",
    "                        print(\"Memory: \", len(self.memory), \"epsilon: \", epsilon, \"local steps: \", self.local_steps)\n",
    "                        print(\"Accuracy: \", accuracy, \"Threshold: \", self.threshold)\n",
    "                        print(self.current_model)\n",
    "\n",
    "            \n",
    "        except KeyboardInterrupt:\n",
    "            pass\n",
    "        \n",
    "        if self.save_path:\n",
    "            torch.save(self.current_model, self.save_path + \"model.pt\")\n",
    "        \n",
    "        return self.difficulty, accuracy, self.accuracies, self.steps, self.changes"
   ]
  },
  {
   "cell_type": "code",
   "execution_count": 44,
   "metadata": {},
   "outputs": [],
   "source": [
    "class TrainAutomated(Train):\n",
    "    def __init__(self, architecture, duelingDQN, doubleDQN, replay, prioritizedReplayMemory, alpha, \n",
    "                        memoryCapacity, lr, epochs, batch_size, gamma, capacity_increase, \n",
    "                        threshold, evaluation_frequency, tau, curriculum, non_linearity, PG_eta=10e-3, PG_beta=0, PG_epsilon=0.05,\n",
    "                        verbose=False, load_path=None, save_path=None, seed=None):\n",
    "        super().__init__(architecture, duelingDQN, doubleDQN, lr, epochs, batch_size, gamma, capacity_increase, tau, non_linearity,\n",
    "                        verbose=verbose, load_path=load_path, save_path=save_path, seed=seed)\n",
    "        \n",
    "        print(architecture, duelingDQN, doubleDQN, prioritizedReplayMemory, alpha, \n",
    "                        memoryCapacity, lr, epochs, batch_size, gamma,\n",
    "                        threshold, evaluation_frequency, tau, curriculum, non_linearity)\n",
    "        \n",
    "\n",
    "        \n",
    "        # Initialise current and target model\n",
    "        self.initialise_models(load_path)\n",
    "        self.models_to_device()\n",
    "\n",
    "        # Initialise optimiser\n",
    "        self.optimizer = optim.Adam(self.current_model.parameters(), lr=lr)\n",
    "        \n",
    "        # Initialise replay memory\n",
    "        self.memoryCapacity = memoryCapacity\n",
    "        self.initialise_memory(prioritizedReplayMemory, self.memoryCapacity, alpha)\n",
    "\n",
    "        self.gamma = gamma\n",
    "        self.save_path = save_path\n",
    "        self.tau = tau\n",
    "        self.evaluation_frequency = evaluation_frequency\n",
    "\n",
    "        self.capacity_increase = capacity_increase\n",
    "        self.lr = lr\n",
    "        self.batch_size = batch_size\n",
    "\n",
    "        self.exp3s = exp3s = EXP3S(14, PG_eta, PG_beta, PG_epsilon)\n",
    "    \n",
    "        self.history_unscaled_rewards = deque(maxlen=100)\n",
    "    \n",
    "    def models_to_device(self):\n",
    "        # Decide what device to put the models on\n",
    "        if torch.cuda.is_available():\n",
    "            self.current_model.to('cuda')\n",
    "            self.target_model.to('cuda')\n",
    "        else:\n",
    "            self.current_model.to('cpu')\n",
    "            self.target_model.to('cpu')\n",
    "        \n",
    "    def initialise_models(self, load_path):\n",
    "        # If a path with a model is provided certain variables are loaded\n",
    "        if load_path:\n",
    "            self.current_model = torch.load(load_path + 'model.pt')\n",
    "            self.target_model = copy.deepcopy(current_model)\n",
    "        else:\n",
    "            # n^2 per face, 6 faces, 6 colours one-hot encoded. 3x3x6x6=324, 2x2x6x6=144\n",
    "            state_size = env.size**2 * 6**2\n",
    "\n",
    "            # The number of output nodes is different for the 2x2x2. The move L is the same as the move R, except the orientation changes.\n",
    "            self.output_nodes = 12\n",
    "            if env.size == 2:\n",
    "                self.output_nodes = 6\n",
    "\n",
    "            # Initialising either a network with dueling architecture or regular network\n",
    "            if duelingDQN:\n",
    "                self.current_model = DuelingDQN(state_size, architecture, self.output_nodes, non_linearity)\n",
    "                self.target_model = DuelingDQN(state_size, copy.copy(architecture), self.output_nodes, non_linearity)\n",
    "            else:\n",
    "                self.current_model = DQN(state_size, architecture, self.output_nodes, non_linearity)\n",
    "                self.target_model = DQN(state_size, copy.copy(architecture), self.output_nodes, non_linearity)\n",
    "    \n",
    "    def initialise_memory(self, prioritizedReplayMemory, memoryCapacity, alpha):\n",
    "        # Uses prioritized replay sampling when set to true, otherwise uniform replay sampling is used\n",
    "        if prioritizedReplayMemory:\n",
    "            self.memory = PrioritizedReplayMemory(int(memoryCapacity), alpha)\n",
    "        else:\n",
    "            self.memory = ReplayMemory(int(memoryCapacity))\n",
    "    \n",
    "    def save_model_parameters(self):\n",
    "        if self.save_path:\n",
    "            torch.save(self.current_model, self.save_path + \"model.pt\")\n",
    "                \n",
    "    def get_state(self):\n",
    "        # Decide what state to show the network next depending on the curriculum\n",
    "        scrambles = np.random.choice([i + 1 for i in range(14)],size=1, p=self.exp3s.sample_probabilities())[0]\n",
    "\n",
    "        state = env.reset(scrambles)\n",
    "        \n",
    "        return state, scrambles\n",
    "    \n",
    "    def train_dqn(self):\n",
    "        if len(self.memory)<self.batch_size:\n",
    "            return None, None\n",
    "\n",
    "        batch, indices, weights = self.memory.sample(self.batch_size, self.local_steps, device)\n",
    "\n",
    "        state, action, reward, next_state, done = zip(*batch)\n",
    "\n",
    "        state = torch.tensor(state, dtype=torch.float32, device=device)\n",
    "        action = torch.tensor(action, dtype=torch.long, device=device)\n",
    "        next_state = torch.tensor(next_state, dtype=torch.float32, device=device)\n",
    "        reward = torch.tensor(reward, dtype=torch.float32, device=device)\n",
    "        done = torch.tensor(done, dtype=torch.float32, device=device)\n",
    "\n",
    "        weights.to(device)\n",
    "\n",
    "        self.optimizer.zero_grad()\n",
    "\n",
    "        q_val = compute_q_val(self.current_model, state, action)\n",
    "\n",
    "        with torch.no_grad():\n",
    "            if doubleDQN:\n",
    "                target = compute_target_ddqn(self.current_model, self.target_model, reward, next_state, done, self.gamma)\n",
    "            else:\n",
    "                target = compute_target_dqn(self.target_model, reward, next_state, done, gamma)\n",
    "\n",
    "        difference = (q_val - target.view(-1,1))\n",
    "\n",
    "        loss_before = difference.pow(2)*weights\n",
    "        loss_before = loss_before.mean()\n",
    "\n",
    "        loss_before.backward()\n",
    "        self.memory.update_priorities(indices, difference.detach().squeeze().abs().cpu().numpy().tolist())\n",
    "        self.optimizer.step()\n",
    "        \n",
    "        q_val = compute_q_val(self.current_model, state, action)\n",
    "\n",
    "        with torch.no_grad():\n",
    "            if doubleDQN:\n",
    "                target = compute_target_ddqn(self.current_model, self.target_model, reward, next_state, done, self.gamma)\n",
    "            else:\n",
    "                target = compute_target_dqn(self.target_model, reward, next_state, done, gamma)\n",
    "\n",
    "        difference = (q_val - target.view(-1,1))\n",
    "\n",
    "        loss_after = difference.pow(2)*weights\n",
    "        loss_after = loss_after.mean()\n",
    "\n",
    "        nu_PG = (loss_before - loss_after).item()\n",
    "\n",
    "        return loss_before.item(), nu_PG\n",
    "        \n",
    "    def train(self):\n",
    "        accuracy = 0.0\n",
    "        \n",
    "        try:\n",
    "            epsilon_by_step = lambda step_idx: self.epsilon_final + (self.epsilon_start - self.epsilon_final) * np.exp(-1. * step_idx / self.epsilon_decay)\n",
    "            for epoch in tqdm_notebook(range(self.epochs)):\n",
    "                epoch_losses = []\n",
    "                \n",
    "                # Main RL loop\n",
    "                state, max_tries = self.get_state()\n",
    "                done = 0\n",
    "                tries = 0\n",
    "                \n",
    "                while tries < max_tries + 14 and not done:\n",
    "                    epsilon = epsilon_by_step(self.local_steps)\n",
    "                    action = self.current_model.act(state, epsilon, [0]*env.action_space.n, device)\n",
    "                    next_state, reward, done, info = env.step(action)\n",
    "                    self.memory.push((state, action, reward, next_state, done))\n",
    "                \n",
    "                    state = next_state\n",
    "                    tries += 1\n",
    "                    \n",
    "                loss, nu_PG = self.train_dqn()\n",
    "                \n",
    "                if loss:\n",
    "                    reward = scale_reward(nu_PG, self.history_unscaled_rewards)\n",
    "            \n",
    "                    self.history_unscaled_rewards.append(nu_PG)\n",
    "                    self.exp3s.update_weights(reward, max_tries - 1)\n",
    "                \n",
    "                self.global_steps += 1\n",
    "                \n",
    "                if epoch%1000==0:\n",
    "                    clear_output(True)\n",
    "                    print(np.array(self.exp3s.sample_probabilities()))\n",
    "                    print((-np.array(self.exp3s.sample_probabilities())).argsort()[:14])\n",
    "                    \n",
    "                    env.seed(420)\n",
    "                    total_done = 0\n",
    "                    for i in range(14):\n",
    "                        for j in range(100):\n",
    "                            state = env.reset(i + 1)\n",
    "                            max_tries = self.calculate_max_moves_from_scrambles(i + 1)\n",
    "                        \n",
    "                            done = 0\n",
    "                            tries = 0\n",
    "                        \n",
    "                            while tries < max_tries and not done:\n",
    "                                action = self.current_model.act(state, 0.0, [0]*env.action_space.n, device)\n",
    "                                next_state, reward, done, info = env.step(action)\n",
    "                                state = next_state    \n",
    "\n",
    "                                total_done += done\n",
    "                                tries += 1\n",
    "                    env.seed(None)\n",
    "                        \n",
    "                    accuracy = total_done/1400\n",
    "                    print(accuracy)\n",
    "        except KeyboardInterrupt:\n",
    "            pass"
   ]
  },
  {
   "cell_type": "code",
   "execution_count": 45,
   "metadata": {
    "scrolled": true
   },
   "outputs": [
    {
     "name": "stderr",
     "output_type": "stream",
     "text": [
      "/home/joe/.local/lib/python3.6/site-packages/torch/nn/_reduction.py:49: UserWarning: size_average and reduce args will be deprecated, please use reduction='none' instead.\n",
      "  warnings.warn(warning.format(ret))\n"
     ]
    },
    {
     "name": "stdout",
     "output_type": "stream",
     "text": [
      "[4096, 2048, 512] True True True 0.5 1400000 0.001 100000 32 0.99 0.99 100 1000 LBF <function leaky_relu at 0x7f3af6fb71e0> 14x6\n",
      "[0, 0, 0]\n"
     ]
    },
    {
     "data": {
      "application/vnd.jupyter.widget-view+json": {
       "model_id": "b238cae28c0648819bd2509f930a60d0",
       "version_major": 2,
       "version_minor": 0
      },
      "text/html": [
       "<p>Failed to display Jupyter Widget of type <code>HBox</code>.</p>\n",
       "<p>\n",
       "  If you're reading this message in the Jupyter Notebook or JupyterLab Notebook, it may mean\n",
       "  that the widgets JavaScript is still loading. If this message persists, it\n",
       "  likely means that the widgets JavaScript library is either not installed or\n",
       "  not enabled. See the <a href=\"https://ipywidgets.readthedocs.io/en/stable/user_install.html\">Jupyter\n",
       "  Widgets Documentation</a> for setup instructions.\n",
       "</p>\n",
       "<p>\n",
       "  If you're reading this message in another frontend (for example, a static\n",
       "  rendering on GitHub or <a href=\"https://nbviewer.jupyter.org/\">NBViewer</a>),\n",
       "  it may mean that your frontend doesn't currently support widgets.\n",
       "</p>\n"
      ],
      "text/plain": [
       "HBox(children=(IntProgress(value=0, max=100000), HTML(value='')))"
      ]
     },
     "metadata": {},
     "output_type": "display_data"
    },
    {
     "name": "stdout",
     "output_type": "stream",
     "text": [
      "28 0.88\n"
     ]
    },
    {
     "data": {
      "image/png": "[encoded data removed]",
      "text/plain": [
       "<Figure size 432x288 with 1 Axes>"
      ]
     },
     "metadata": {},
     "output_type": "display_data"
    },
    {
     "name": "stdout",
     "output_type": "stream",
     "text": [
      "[4096, 2048, 512] True True True 0.5 1400000 0.001 100000 32 0.99 0.99 100 1000 Mixed <function leaky_relu at 0x7f3af6fb71e0> 14x6\n",
      "[0, 0, 0]\n"
     ]
    },
    {
     "data": {
      "application/vnd.jupyter.widget-view+json": {
       "model_id": "b8d31c8d7cad4a48adb965d1ded64199",
       "version_major": 2,
       "version_minor": 0
      },
      "text/html": [
       "<p>Failed to display Jupyter Widget of type <code>HBox</code>.</p>\n",
       "<p>\n",
       "  If you're reading this message in the Jupyter Notebook or JupyterLab Notebook, it may mean\n",
       "  that the widgets JavaScript is still loading. If this message persists, it\n",
       "  likely means that the widgets JavaScript library is either not installed or\n",
       "  not enabled. See the <a href=\"https://ipywidgets.readthedocs.io/en/stable/user_install.html\">Jupyter\n",
       "  Widgets Documentation</a> for setup instructions.\n",
       "</p>\n",
       "<p>\n",
       "  If you're reading this message in another frontend (for example, a static\n",
       "  rendering on GitHub or <a href=\"https://nbviewer.jupyter.org/\">NBViewer</a>),\n",
       "  it may mean that your frontend doesn't currently support widgets.\n",
       "</p>\n"
      ],
      "text/plain": [
       "HBox(children=(IntProgress(value=0, max=100000), HTML(value='')))"
      ]
     },
     "metadata": {},
     "output_type": "display_data"
    },
    {
     "name": "stdout",
     "output_type": "stream",
     "text": [
      "8 0.64\n"
     ]
    },
    {
     "data": {
      "image/png": "[encoded data removed]",
      "text/plain": [
       "<Figure size 432x288 with 1 Axes>"
      ]
     },
     "metadata": {},
     "output_type": "display_data"
    },
    {
     "name": "stdout",
     "output_type": "stream",
     "text": [
      "[4096, 2048, 512] True True True 0.5 1400000 0.001 100000 32 0.99 0.99 100 1000 Naive <function leaky_relu at 0x7f3af6fb71e0> 14x6\n",
      "[0, 0, 0]\n"
     ]
    },
    {
     "data": {
      "application/vnd.jupyter.widget-view+json": {
       "model_id": "5643a07f7080485bacc17c26d22ba5e1",
       "version_major": 2,
       "version_minor": 0
      },
      "text/html": [
       "<p>Failed to display Jupyter Widget of type <code>HBox</code>.</p>\n",
       "<p>\n",
       "  If you're reading this message in the Jupyter Notebook or JupyterLab Notebook, it may mean\n",
       "  that the widgets JavaScript is still loading. If this message persists, it\n",
       "  likely means that the widgets JavaScript library is either not installed or\n",
       "  not enabled. See the <a href=\"https://ipywidgets.readthedocs.io/en/stable/user_install.html\">Jupyter\n",
       "  Widgets Documentation</a> for setup instructions.\n",
       "</p>\n",
       "<p>\n",
       "  If you're reading this message in another frontend (for example, a static\n",
       "  rendering on GitHub or <a href=\"https://nbviewer.jupyter.org/\">NBViewer</a>),\n",
       "  it may mean that your frontend doesn't currently support widgets.\n",
       "</p>\n"
      ],
      "text/plain": [
       "HBox(children=(IntProgress(value=0, max=100000), HTML(value='')))"
      ]
     },
     "metadata": {},
     "output_type": "display_data"
    },
    {
     "name": "stdout",
     "output_type": "stream",
     "text": [
      "36 0.92\n"
     ]
    },
    {
     "data": {
      "image/png": "[encoded data removed]",
      "text/plain": [
       "<Figure size 432x288 with 1 Axes>"
      ]
     },
     "metadata": {},
     "output_type": "display_data"
    },
    {
     "name": "stdout",
     "output_type": "stream",
     "text": [
      "[4096, 2048, 512] True True True 0.5 1400000 0.001 100000 32 0.99 0.99 100 1000 None <function leaky_relu at 0x7f3af6fb71e0> 14x6\n",
      "[0, 0, 0]\n"
     ]
    },
    {
     "data": {
      "application/vnd.jupyter.widget-view+json": {
       "model_id": "c5e55f269c464cb7b76c793151a042b4",
       "version_major": 2,
       "version_minor": 0
      },
      "text/html": [
       "<p>Failed to display Jupyter Widget of type <code>HBox</code>.</p>\n",
       "<p>\n",
       "  If you're reading this message in the Jupyter Notebook or JupyterLab Notebook, it may mean\n",
       "  that the widgets JavaScript is still loading. If this message persists, it\n",
       "  likely means that the widgets JavaScript library is either not installed or\n",
       "  not enabled. See the <a href=\"https://ipywidgets.readthedocs.io/en/stable/user_install.html\">Jupyter\n",
       "  Widgets Documentation</a> for setup instructions.\n",
       "</p>\n",
       "<p>\n",
       "  If you're reading this message in another frontend (for example, a static\n",
       "  rendering on GitHub or <a href=\"https://nbviewer.jupyter.org/\">NBViewer</a>),\n",
       "  it may mean that your frontend doesn't currently support widgets.\n",
       "</p>\n"
      ],
      "text/plain": [
       "HBox(children=(IntProgress(value=0, max=100000), HTML(value='')))"
      ]
     },
     "metadata": {},
     "output_type": "display_data"
    },
    {
     "name": "stdout",
     "output_type": "stream",
     "text": [
      "2 0.0\n"
     ]
    },
    {
     "data": {
      "image/png": "[encoded data removed]",
      "text/plain": [
       "<Figure size 432x288 with 1 Axes>"
      ]
     },
     "metadata": {},
     "output_type": "display_data"
    }
   ],
   "source": [
    "np.set_printoptions(4)\n",
    "experiments = []\n",
    "epochs = 100*1000\n",
    "\n",
    "# experiments.append([\"LBF_14\", [4096, 2048, 512], True, True, True, True, 0.5, 14*100000, 1e-3, epochs, 32, 0.99, [lambda x: 0, lambda x: 0, lambda x: 0], 0.99, 100, 1000, 'LBF', F.leaky_relu, '14'])\n",
    "# experiments.append([\"Mixed_14\", [4096, 2048, 512], True, True, True, True, 0.5, 14*100000, 1e-3, epochs, 32, 0.99, [lambda x: 0, lambda x: 0, lambda x: 0], 0.99, 100, 1000, 'Mixed', F.leaky_relu, '14'])\n",
    "# experiments.append([\"Naive_14\", [4096, 2048, 512], True, True, True, True, 0.5, 14*100000, 1e-3, epochs, 32, 0.99, [lambda x: 0, lambda x: 0, lambda x: 0], 0.99, 100, 1000, 'Naive', F.leaky_relu, '14'])\n",
    "# experiments.append([\"None_14\", [4096, 2048, 512], True, True, True, True, 0.5, 14*100000, 1e-3, epochs, 32, 0.99, [lambda x: 0, lambda x: 0, lambda x: 0], 0.99, 100, 1000, 'None', F.leaky_relu, '14'])\n",
    "\n",
    "experiments.append([\"LBF_14x6\", [4096, 2048, 512], True, True, True, True, 0.5, 14*100000, 1e-3, epochs, 32, 0.99, [lambda x: 0, lambda x: 0, lambda x: 0], 0.99, 100, 1000, 'LBF', F.leaky_relu, '14x6'])\n",
    "experiments.append([\"Mixed_14x6\", [4096, 2048, 512], True, True, True, True, 0.5, 14*100000, 1e-3, epochs, 32, 0.99, [lambda x: 0, lambda x: 0, lambda x: 0], 0.99, 100, 1000, 'Mixed', F.leaky_relu, '14x6'])\n",
    "experiments.append([\"Naive_14x6\", [4096, 2048, 512], True, True, True, True, 0.5, 14*100000, 1e-3, epochs, 32, 0.99, [lambda x: 0, lambda x: 0, lambda x: 0], 0.99, 100, 1000, 'Naive', F.leaky_relu, '14x6'])\n",
    "experiments.append([\"None_14x6\", [4096, 2048, 512], True, True, True, True, 0.5, 14*100000, 1e-3, epochs, 32, 0.99, [lambda x: 0, lambda x: 0, lambda x: 0], 0.99, 100, 1000, 'None', F.leaky_relu, '14x6'])\n",
    "\n",
    "for experiment in experiments:\n",
    "    architecture, duelingDQN, doubleDQN, replay, prioritizedReplayMemory, alpha, memoryCapacity, lr, epochs, batch_size, gamma, capacity_increase, threshold, evaluation_frequency, tau, curriculum, non_linearity, mode = experiment[1:]\n",
    "\n",
    "    env = rubiks2.RubiksEnv2(2, unsolved_reward = -1.0)\n",
    "\n",
    "    trainer = TrainHandcrafted(architecture, duelingDQN, doubleDQN, replay, prioritizedReplayMemory, alpha, memoryCapacity, lr, epochs, batch_size, gamma, capacity_increase, threshold, evaluation_frequency, tau, curriculum, non_linearity, save_path='models/'+experiment[0]+'/', seed=40, verbose=False, mode=mode)\n",
    "    \n",
    "    difficulty, accuracy, accuracies, steps, changes = trainer.train()\n",
    "    \n",
    "    np.save('models/'+experiment[0]+'/accuracies.npy', accuracies)\n",
    "    np.save('models/'+experiment[0]+'/steps.npy', steps)\n",
    "    np.save('models/'+experiment[0]+'/changes.npy', changes)\n",
    "\n",
    "    print(difficulty, accuracy)\n",
    "    \n",
    "    plt.figure()\n",
    "    plt.plot(steps, accuracies)\n",
    "    plt.xlabel('steps')\n",
    "    plt.ylabel('Accuracy')\n",
    "    for change in changes:\n",
    "        idx = steps.index(change)\n",
    "        plt.plot(steps[idx], accuracies[idx], 'ro')\n",
    "    plt.show()"
   ]
  },
  {
   "cell_type": "code",
   "execution_count": 48,
   "metadata": {},
   "outputs": [],
   "source": [
    "def maxDistance(arr): \n",
    "      \n",
    "    # Used to store element to first index mapping \n",
    "    mp = {} \n",
    "  \n",
    "    # Traverse elements and find maximum distance between \n",
    "    # same occurrences with the help of map. \n",
    "    maxDict = 0\n",
    "    maxFirst_idx = 0\n",
    "    for i in range(len(arr)): \n",
    "  \n",
    "        # If this is first occurrence of element, insert its \n",
    "        # index in map \n",
    "        if arr[i] not in mp.keys(): \n",
    "            mp[arr[i]] = i \n",
    "  \n",
    "        # Else update max distance \n",
    "        else: \n",
    "            if i-mp[arr[i]]>maxDict:\n",
    "                maxDict = max(maxDict, i-mp[arr[i]])\n",
    "                maxFirst_idx = mp[arr[i]]\n",
    "  \n",
    "    return maxDict, maxFirst_idx"
   ]
  },
  {
   "cell_type": "code",
   "execution_count": 51,
   "metadata": {},
   "outputs": [],
   "source": [
    "def mcts_test(network, superflip, fifteen, thousand, max_tries=None):\n",
    "    print('MCTS, superflip')\n",
    "    c = 4.0\n",
    "    nu = 10.0\n",
    "\n",
    "    solve_rate_superflip = np.zeros(14)\n",
    "    counts_superflip = np.zeros(14)\n",
    "    seq_len_superflip = np.zeros(14)\n",
    "\n",
    "    try:\n",
    "        for i in range(14):\n",
    "            hashes = []\n",
    "            if i > 0:\n",
    "                if solve_rate_superflip[i-1]==0:\n",
    "                    break\n",
    "\n",
    "            for sequence in tqdm_notebook(superflip_set):\n",
    "                env = rubiks2.RubiksEnv2(2, unsolved_reward=-1.0)\n",
    "\n",
    "                hashed_sequence = hash(str(sequence[:i+1]))\n",
    "\n",
    "                if not hashed_sequence in hashes:\n",
    "\n",
    "                    hashes.append(hashed_sequence)\n",
    "\n",
    "\n",
    "                    counts_superflip[i] += 1\n",
    "\n",
    "                    for j in range(i + 1):\n",
    "                        env.step(sequence[j])\n",
    "\n",
    "                    MCTS = MonteCarloSearchTree(env, network, 1.21, device, c, nu)\n",
    "                    solved, solve_sequence = MCTS.search()\n",
    "                    solve_rate_superflip[i] += solved\n",
    "\n",
    "                    if solved:\n",
    "                        seq_len_superflip[i] += len(solve_sequence)\n",
    "\n",
    "    except KeyboardInterrupt:\n",
    "        pass\n",
    "    print('MCTS, 15 scrambles')\n",
    "    solve_rate_15 = 0\n",
    "    counts_15 = 0\n",
    "    seq_len_15 = 0\n",
    "\n",
    "    try:\n",
    "        for i in tqdm_notebook(range(640)):\n",
    "            env = rubiks2.RubiksEnv2(2, unsolved_reward=-1.0)\n",
    "            env.reset(15)\n",
    "\n",
    "            counts_15 += 1\n",
    "\n",
    "            MCTS = MonteCarloSearchTree(env, network, 1.21, device, c, nu)\n",
    "            solved, solve_sequence = MCTS.search()\n",
    "            solve_rate_15 += solved\n",
    "\n",
    "            if solved:\n",
    "                seq_len_15 += len(solve_sequence)\n",
    "\n",
    "    except KeyboardInterrupt:\n",
    "        pass\n",
    "    \n",
    "    solve_rate_1000 = 0\n",
    "    counts_1000 = 0\n",
    "    seq_len_1000 = 0\n",
    "\n",
    "    try:\n",
    "        for i in tqdm_notebook(range(640)):\n",
    "            env = rubiks2.RubiksEnv2(2, unsolved_reward=-1.0)\n",
    "            env.reset(1000)\n",
    "\n",
    "            counts_1000 += 1\n",
    "\n",
    "            MCTS = MonteCarloSearchTree(env, network, 1.21, device, c, nu)\n",
    "            solved, solve_sequence = MCTS.search()\n",
    "            solve_rate_1000 += solved\n",
    "\n",
    "            if solved:\n",
    "                seq_len_1000 += len(solve_sequence)\n",
    "\n",
    "    except KeyboardInterrupt:\n",
    "        pass\n",
    "\n",
    "    return (np.divide(solve_rate_superflip, counts_superflip),\n",
    "np.divide(seq_len_superflip, solve_rate_superflip),\n",
    "np.array(solve_rate_15)/np.array(counts_15),\n",
    "np.array(seq_len_15)/np.array(solve_rate_15),\n",
    "np.array(solve_rate_1000)/np.array(counts_1000),\n",
    "np.array(seq_len_1000)/np.array(solve_rate_1000))\n",
    "    \n",
    "def second_best_test(network, superflip, fifteen, thousand, max_tries=None):\n",
    "    print('Second best, superflip')\n",
    "    c = 4.0\n",
    "    nu = 10.0\n",
    "\n",
    "    solve_rate_superflip = np.zeros(14)\n",
    "    counts_superflip = np.zeros(14)\n",
    "    seq_len_superflip = np.zeros(14)\n",
    "    seq_len_superflip_heur = np.zeros(14)\n",
    "    puzzles = []\n",
    "    solution_sequences = []\n",
    "    \n",
    "    if superflip:\n",
    "        try:\n",
    "            for i in range(14):\n",
    "                hashes_seqs = []\n",
    "                if i > 0:\n",
    "                    if solve_rate_superflip[i-1]==0:\n",
    "                        break\n",
    "\n",
    "                for sequence in tqdm_notebook(superflip_set):\n",
    "                    env = rubiks2.RubiksEnv2(2, unsolved_reward=-1.0)\n",
    "\n",
    "                    hashed_sequence = hash(str(sequence[:i+1]))\n",
    "\n",
    "                    if not hashed_sequence in hashes_seqs:\n",
    "\n",
    "                        hashes_seqs.append(hashed_sequence)\n",
    "\n",
    "\n",
    "                        counts_superflip[i] += 1\n",
    "                        \n",
    "                        puzzle = []\n",
    "                        for j in range(i + 1):\n",
    "                            env.step(int(sequence[j]))\n",
    "                            puzzle.append(sequence[j])\n",
    "                        \n",
    "                        puzzles.append(puzzle)\n",
    "                            \n",
    "                        hashes = defaultdict(list)\n",
    "                        done = 0\n",
    "                        tries = 0\n",
    "                        t = time.time()\n",
    "                        state = env.get_observation()\n",
    "                        hashes[hash(state.tostring())] = [0]*env.action_space.n\n",
    "                        stop = False\n",
    "                        \n",
    "                        solution_sequence = []\n",
    "                        state_hash_seq = []\n",
    "                        \n",
    "                        while time.time()-t<1.21 and not done and not stop:\n",
    "                            mask = hashes[hash(state.tostring())]\n",
    "                            state_hash_seq.append(hash(state.tostring()))\n",
    "                            action = network.act(state, 0.0, mask, device)\n",
    "                            solution_sequence.append(action)\n",
    "                            \n",
    "                            next_state, reward, done, info = env.step(action)  \n",
    "\n",
    "                            hstate = state.copy()\n",
    "                            state = next_state\n",
    "                            h = hash(state.tostring())\n",
    "                            if h in hashes.keys():      \n",
    "                                hashes[hash(hstate.tostring())][action] = -999\n",
    "                            else:\n",
    "                                hashes[h] = [0]*env.action_space.n\n",
    "\n",
    "                            tries += 1\n",
    "                            if max_tries:\n",
    "                                if tries >= max_tries:\n",
    "                                    stop = True\n",
    "                        \n",
    "                        length, first_idx = maxDistance(state_hash_seq)\n",
    "                        \n",
    "                        while length > 0:\n",
    "                            state_hash_seq = state_hash_seq[:first_idx] + state_hash_seq[first_idx + length:]\n",
    "                            solution_sequence = solution_sequence[:first_idx] + solution_sequence[first_idx + length:]\n",
    "                            length, first_idx = maxDistance(state_hash_seq)\n",
    "                            \n",
    "                        solution_sequences.append(solution_sequence)\n",
    "                        solve_rate_superflip[i] += done\n",
    "\n",
    "                        if done:\n",
    "                            seq_len_superflip[i] += tries\n",
    "                            seq_len_superflip_heur[i] += len(solution_sequence)\n",
    "\n",
    "        except KeyboardInterrupt:\n",
    "            pass\n",
    "    \n",
    "    print('Second best network, 15 scrambles')\n",
    "    solve_rate_15 = 0\n",
    "    counts_15 = 0\n",
    "    seq_len_15 = 0\n",
    "    \n",
    "    if fifteen:\n",
    "        try:\n",
    "            for i in tqdm_notebook(range(640)):\n",
    "                hashes = defaultdict(list)\n",
    "                env = rubiks2.RubiksEnv2(2, unsolved_reward=-1.0, seed=i)\n",
    "                env.reset(15)\n",
    "                t = time.time()\n",
    "\n",
    "                counts_15 += 1\n",
    "                \n",
    "                hashes = defaultdict(list)\n",
    "                done = 0\n",
    "                tries = 0\n",
    "                state = env.get_observation()\n",
    "                hashes[hash(state.tostring())] = [0]*env.action_space.n\n",
    "                while time.time()-t<1.21 and not done:\n",
    "                    mask = hashes[hash(state.tostring())]\n",
    "                    action = network.act(state, 0, mask, device)\n",
    "                    next_state, reward, done, info = env.step(action)  \n",
    "\n",
    "                    hstate = state.copy()\n",
    "                    state = next_state\n",
    "                    h = hash(state.tostring())\n",
    "                    if h in hashes.keys():\n",
    "                        hashes[hash(hstate.tostring())][action] = -999\n",
    "                    else:\n",
    "                        hashes[h] = [0]*env.action_space.n\n",
    "\n",
    "                    tries += 1\n",
    "\n",
    "\n",
    "                solve_rate_15 += done\n",
    "            \n",
    "\n",
    "                if done:\n",
    "                    seq_len_15 += tries\n",
    "\n",
    "        except KeyboardInterrupt:\n",
    "            pass\n",
    "    \n",
    "    print('Second best network, 1000 scrambles')\n",
    "    solve_rate_1000 = 0\n",
    "    counts_1000 = 0\n",
    "    seq_len_1000 = 0\n",
    "    \n",
    "    if thousand:\n",
    "        try:\n",
    "            for i in tqdm_notebook(range(640)):\n",
    "                env = rubiks2.RubiksEnv2(2, unsolved_reward=-1.0, seed=i)\n",
    "                env.reset(1000)\n",
    "                t = time.time()\n",
    "\n",
    "                counts_1000 += 1\n",
    "\n",
    "                hashes = defaultdict(list)\n",
    "                done = 0\n",
    "                tries = 0\n",
    "                t = time.time()\n",
    "                state = env.get_observation()\n",
    "                hashes[hash(state.tostring())] = [0]*env.action_space.n\n",
    "                stop = False\n",
    "\n",
    "                while time.time()-t<1.21 and not done and not stop:\n",
    "                    mask = hashes[hash(state.tostring())]\n",
    "                    action = network.act(state, 0.0, mask, device)\n",
    "\n",
    "                    next_state, reward, done, info = env.step(action)  \n",
    "\n",
    "                    hstate = state.copy()\n",
    "                    state = next_state\n",
    "                    h = hash(state.tostring())\n",
    "                    if h in hashes.keys():      \n",
    "                        hashes[hash(hstate.tostring())][action] = -999\n",
    "                    else:\n",
    "                        hashes[h] = [0]*env.action_space.n\n",
    "\n",
    "                    tries += 1\n",
    "                    if max_tries:\n",
    "                        if tries >= max_tries:\n",
    "                            stop = True\n",
    "\n",
    "\n",
    "                solve_rate_1000 += done\n",
    "\n",
    "                if done:\n",
    "                    seq_len_1000 += tries\n",
    "\n",
    "        except KeyboardInterrupt:\n",
    "            pass\n",
    "    \n",
    "    score = np.zeros(14)\n",
    "    solve_rate = np.divide(solve_rate_superflip, counts_superflip)\n",
    "    seq_len = np.divide(seq_len_superflip, solve_rate_superflip)\n",
    "    for i in range(14):\n",
    "        score[i] = solve_rate[i] / (1+(seq_len[i] - (i+1)))\n",
    "        \n",
    "    score = np.mean(score) - np.std(score)\n",
    "    \n",
    "    return (np.mean(np.divide(solve_rate_superflip, counts_superflip))-np.std(np.divide(solve_rate_superflip, counts_superflip)),\n",
    "            score,\n",
    "            np.divide(solve_rate_superflip, counts_superflip),\n",
    "np.divide(seq_len_superflip, solve_rate_superflip),\n",
    "            np.divide(seq_len_superflip_heur, solve_rate_superflip),\n",
    "np.array(solve_rate_15)/np.array(counts_15),\n",
    "np.array(seq_len_15)/np.array(solve_rate_15),\n",
    "np.array(solve_rate_1000)/np.array(counts_1000),\n",
    "np.array(seq_len_1000)/np.array(solve_rate_1000),\n",
    "           puzzles, solution_sequences)\n",
    "\n",
    "def raw_test(network, superflip, fifteen, thousand, max_tries=None):\n",
    "    print('Raw network, superflip')\n",
    "    c = 4.0\n",
    "    nu = 10.0\n",
    "\n",
    "    solve_rate_superflip = np.zeros(14)\n",
    "    counts_superflip = np.zeros(14)\n",
    "    seq_len_superflip = np.zeros(14)\n",
    "    \n",
    "    if superflip:\n",
    "        try:\n",
    "            for i in range(14):\n",
    "                hashes_seqs = []\n",
    "                if i > 0:\n",
    "                    if solve_rate_superflip[i-1]==0:\n",
    "                        solve_rate_superflip[i] = 0\n",
    "                        break\n",
    "\n",
    "                for sequence in tqdm_notebook(superflip_set):\n",
    "                    env = rubiks2.RubiksEnv2(2, unsolved_reward=-1.0)\n",
    "\n",
    "                    hashed_sequence = hash(str(sequence[:i+1]))\n",
    "\n",
    "                    if not hashed_sequence in hashes_seqs:\n",
    "\n",
    "                        hashes_seqs.append(hashed_sequence)\n",
    "\n",
    "\n",
    "                        counts_superflip[i] += 1\n",
    "\n",
    "                        for j in range(i + 1):\n",
    "                            env.step(sequence[j])\n",
    "\n",
    "                        done = 0\n",
    "                        tries = 0\n",
    "                        t = time.time()\n",
    "                        state = env.get_observation()\n",
    "                        while time.time()-t<1.21 and not done:\n",
    "                            action = network.act(state, 0.0, [0]*env.action_space.n, device)\n",
    "                            next_state, reward, done, info = env.step(action)  \n",
    "\n",
    "                            state = next_state\n",
    "\n",
    "                            tries += 1\n",
    "                            if max_tries:\n",
    "                                if tries >= max_tries:\n",
    "                                    stop = True\n",
    "\n",
    "                        solve_rate_superflip[i] += done\n",
    "\n",
    "                        if done:\n",
    "                            seq_len_superflip[i] += tries\n",
    "\n",
    "        except KeyboardInterrupt:\n",
    "            pass\n",
    "    \n",
    "    print('Raw network, 15 scrambles')\n",
    "    solve_rate_15 = 0\n",
    "    counts_15 = 0\n",
    "    seq_len_15 = 0\n",
    "    \n",
    "    if fifteen:\n",
    "        try:\n",
    "            for i in tqdm_notebook(range(640)):\n",
    "                env = rubiks2.RubiksEnv2(2, unsolved_reward=-1.0, seed=i)\n",
    "                env.reset(15)\n",
    "                t = time.time()\n",
    "\n",
    "                counts_15 += 1\n",
    "\n",
    "                done = 0\n",
    "                tries = 0\n",
    "\n",
    "                state = env.get_observation()\n",
    "                while time.time()-t<1.21 and not done:\n",
    "                    action = network.act(state, 0.0, [0]*env.action_space.n, device)\n",
    "                    next_state, reward, done, info = env.step(action)  \n",
    "\n",
    "                    state = next_state\n",
    "\n",
    "                    tries += 1\n",
    "\n",
    "\n",
    "                solve_rate_15 += done\n",
    "\n",
    "                if done:\n",
    "                    seq_len_15 += tries\n",
    "\n",
    "        except KeyboardInterrupt:\n",
    "            pass\n",
    "    \n",
    "    print('Raw network, 1000 scrambles')\n",
    "    solve_rate_1000 = 0\n",
    "    counts_1000 = 0\n",
    "    seq_len_1000 = 0\n",
    "    \n",
    "    if thousand:\n",
    "        try:\n",
    "            for i in tqdm_notebook(range(640)):\n",
    "                env = rubiks2.RubiksEnv2(2, unsolved_reward=-1.0, seed=i)\n",
    "                env.reset(1000)\n",
    "                t = time.time()\n",
    "\n",
    "                counts_1000 += 1\n",
    "\n",
    "                done = 0\n",
    "                tries = 0\n",
    "                state = env.get_observation()\n",
    "                while time.time()-t<1.21 and not done:\n",
    "                    action = network.act(state, 0.0, [0]*env.action_space.n, device)\n",
    "                    next_state, reward, done, info = env.step(action)  \n",
    "\n",
    "                    state = next_state\n",
    "\n",
    "                    tries += 1\n",
    "\n",
    "\n",
    "                solve_rate_1000 += done\n",
    "\n",
    "                if done:\n",
    "                    seq_len_1000 += tries\n",
    "\n",
    "        except KeyboardInterrupt:\n",
    "            pass\n",
    "\n",
    "    score = np.zeros(14)\n",
    "    solve_rate = np.divide(solve_rate_superflip, counts_superflip)\n",
    "    seq_len = np.divide(seq_len_superflip, solve_rate_superflip)\n",
    "    for i in range(14):\n",
    "        score[i] = solve_rate[i] / (1+(seq_len[i] - (i+1)))\n",
    "        if np.isnan(score[i]):\n",
    "            score[i] = 0\n",
    "        \n",
    "    score = np.mean(score) - np.std(score)\n",
    "    \n",
    "    return (np.mean(np.divide(solve_rate_superflip, counts_superflip))-np.std(np.divide(solve_rate_superflip, counts_superflip)),\n",
    "            score, \n",
    "            np.divide(solve_rate_superflip, counts_superflip),\n",
    "np.divide(seq_len_superflip, solve_rate_superflip),\n",
    "np.array(solve_rate_15)/np.array(counts_15),\n",
    "np.array(seq_len_15)/np.array(solve_rate_15),\n",
    "np.array(solve_rate_1000)/np.array(counts_1000),\n",
    "np.array(seq_len_1000)/np.array(solve_rate_1000))\n",
    "\n",
    "def test(experiment_name, raw, second_best, mcts):\n",
    "    network = torch.load('./models/' + experiment_name + '/model.pt', map_location='cpu')\n",
    "    network.to(device)\n",
    "    max_tries = 1000\n",
    "    superflip = True\n",
    "    fifteen = False\n",
    "    thousand = False\n",
    "    if raw:\n",
    "        score, score_normalised, solve_rate, seq_len, solve_rate15, seq_len15, solve_rate1000, seq_len1000 = raw_test(network, superflip, fifteen, thousand, max_tries)\n",
    "        print(score, score_normalised, solve_rate, seq_len, solve_rate15, seq_len15, solve_rate1000, seq_len1000)\n",
    "    if second_best:\n",
    "        score, score_normalised, solve_rate, seq_len, seq_len_heur, solve_rate15, seq_len15, solve_rate1000, seq_len1000, puzzles, solution_sequences = second_best_test(network, superflip, fifteen, thousand, max_tries)\n",
    "        print(score, score_normalised, solve_rate, seq_len, seq_len_heur, solve_rate15, seq_len15, solve_rate1000, seq_len1000)\n",
    "    if mcts:\n",
    "        score, _, _, _,_,_,_ = mcts_test(network, superflip, fifteen, thousand, max_tries)\n",
    "        print(score)\n",
    "    return puzzles, solution_sequences\n",
    "    "
   ]
  },
  {
   "cell_type": "code",
   "execution_count": 53,
   "metadata": {},
   "outputs": [
    {
     "name": "stdout",
     "output_type": "stream",
     "text": [
      "LBF_14\n",
      "Raw network, superflip\n"
     ]
    },
    {
     "data": {
      "application/vnd.jupyter.widget-view+json": {
       "model_id": "3f6928f9ce474eae89aef2022ecc0ebc",
       "version_major": 2,
       "version_minor": 0
      },
      "text/html": [
       "<p>Failed to display Jupyter Widget of type <code>HBox</code>.</p>\n",
       "<p>\n",
       "  If you're reading this message in the Jupyter Notebook or JupyterLab Notebook, it may mean\n",
       "  that the widgets JavaScript is still loading. If this message persists, it\n",
       "  likely means that the widgets JavaScript library is either not installed or\n",
       "  not enabled. See the <a href=\"https://ipywidgets.readthedocs.io/en/stable/user_install.html\">Jupyter\n",
       "  Widgets Documentation</a> for setup instructions.\n",
       "</p>\n",
       "<p>\n",
       "  If you're reading this message in another frontend (for example, a static\n",
       "  rendering on GitHub or <a href=\"https://nbviewer.jupyter.org/\">NBViewer</a>),\n",
       "  it may mean that your frontend doesn't currently support widgets.\n",
       "</p>\n"
      ],
      "text/plain": [
       "HBox(children=(IntProgress(value=0, max=276), HTML(value='')))"
      ]
     },
     "metadata": {},
     "output_type": "display_data"
    },
    {
     "data": {
      "application/vnd.jupyter.widget-view+json": {
       "model_id": "4c0cbd983b2b48fdafa321119f837070",
       "version_major": 2,
       "version_minor": 0
      },
      "text/html": [
       "<p>Failed to display Jupyter Widget of type <code>HBox</code>.</p>\n",
       "<p>\n",
       "  If you're reading this message in the Jupyter Notebook or JupyterLab Notebook, it may mean\n",
       "  that the widgets JavaScript is still loading. If this message persists, it\n",
       "  likely means that the widgets JavaScript library is either not installed or\n",
       "  not enabled. See the <a href=\"https://ipywidgets.readthedocs.io/en/stable/user_install.html\">Jupyter\n",
       "  Widgets Documentation</a> for setup instructions.\n",
       "</p>\n",
       "<p>\n",
       "  If you're reading this message in another frontend (for example, a static\n",
       "  rendering on GitHub or <a href=\"https://nbviewer.jupyter.org/\">NBViewer</a>),\n",
       "  it may mean that your frontend doesn't currently support widgets.\n",
       "</p>\n"
      ],
      "text/plain": [
       "HBox(children=(IntProgress(value=0, max=276), HTML(value='')))"
      ]
     },
     "metadata": {},
     "output_type": "display_data"
    },
    {
     "data": {
      "application/vnd.jupyter.widget-view+json": {
       "model_id": "635517b8cb694ecb8c0d6d9907406b40",
       "version_major": 2,
       "version_minor": 0
      },
      "text/html": [
       "<p>Failed to display Jupyter Widget of type <code>HBox</code>.</p>\n",
       "<p>\n",
       "  If you're reading this message in the Jupyter Notebook or JupyterLab Notebook, it may mean\n",
       "  that the widgets JavaScript is still loading. If this message persists, it\n",
       "  likely means that the widgets JavaScript library is either not installed or\n",
       "  not enabled. See the <a href=\"https://ipywidgets.readthedocs.io/en/stable/user_install.html\">Jupyter\n",
       "  Widgets Documentation</a> for setup instructions.\n",
       "</p>\n",
       "<p>\n",
       "  If you're reading this message in another frontend (for example, a static\n",
       "  rendering on GitHub or <a href=\"https://nbviewer.jupyter.org/\">NBViewer</a>),\n",
       "  it may mean that your frontend doesn't currently support widgets.\n",
       "</p>\n"
      ],
      "text/plain": [
       "HBox(children=(IntProgress(value=0, max=276), HTML(value='')))"
      ]
     },
     "metadata": {},
     "output_type": "display_data"
    },
    {
     "data": {
      "application/vnd.jupyter.widget-view+json": {
       "model_id": "254dabbbf7274bcbb0a57855dae6d09f",
       "version_major": 2,
       "version_minor": 0
      },
      "text/html": [
       "<p>Failed to display Jupyter Widget of type <code>HBox</code>.</p>\n",
       "<p>\n",
       "  If you're reading this message in the Jupyter Notebook or JupyterLab Notebook, it may mean\n",
       "  that the widgets JavaScript is still loading. If this message persists, it\n",
       "  likely means that the widgets JavaScript library is either not installed or\n",
       "  not enabled. See the <a href=\"https://ipywidgets.readthedocs.io/en/stable/user_install.html\">Jupyter\n",
       "  Widgets Documentation</a> for setup instructions.\n",
       "</p>\n",
       "<p>\n",
       "  If you're reading this message in another frontend (for example, a static\n",
       "  rendering on GitHub or <a href=\"https://nbviewer.jupyter.org/\">NBViewer</a>),\n",
       "  it may mean that your frontend doesn't currently support widgets.\n",
       "</p>\n"
      ],
      "text/plain": [
       "HBox(children=(IntProgress(value=0, max=276), HTML(value='')))"
      ]
     },
     "metadata": {},
     "output_type": "display_data"
    },
    {
     "data": {
      "application/vnd.jupyter.widget-view+json": {
       "model_id": "7f95f926eb044520bddc35c141ff4796",
       "version_major": 2,
       "version_minor": 0
      },
      "text/html": [
       "<p>Failed to display Jupyter Widget of type <code>HBox</code>.</p>\n",
       "<p>\n",
       "  If you're reading this message in the Jupyter Notebook or JupyterLab Notebook, it may mean\n",
       "  that the widgets JavaScript is still loading. If this message persists, it\n",
       "  likely means that the widgets JavaScript library is either not installed or\n",
       "  not enabled. See the <a href=\"https://ipywidgets.readthedocs.io/en/stable/user_install.html\">Jupyter\n",
       "  Widgets Documentation</a> for setup instructions.\n",
       "</p>\n",
       "<p>\n",
       "  If you're reading this message in another frontend (for example, a static\n",
       "  rendering on GitHub or <a href=\"https://nbviewer.jupyter.org/\">NBViewer</a>),\n",
       "  it may mean that your frontend doesn't currently support widgets.\n",
       "</p>\n"
      ],
      "text/plain": [
       "HBox(children=(IntProgress(value=0, max=276), HTML(value='')))"
      ]
     },
     "metadata": {},
     "output_type": "display_data"
    },
    {
     "data": {
      "application/vnd.jupyter.widget-view+json": {
       "model_id": "a6a4a3f40408481d9f91b600f6ebab2b",
       "version_major": 2,
       "version_minor": 0
      },
      "text/html": [
       "<p>Failed to display Jupyter Widget of type <code>HBox</code>.</p>\n",
       "<p>\n",
       "  If you're reading this message in the Jupyter Notebook or JupyterLab Notebook, it may mean\n",
       "  that the widgets JavaScript is still loading. If this message persists, it\n",
       "  likely means that the widgets JavaScript library is either not installed or\n",
       "  not enabled. See the <a href=\"https://ipywidgets.readthedocs.io/en/stable/user_install.html\">Jupyter\n",
       "  Widgets Documentation</a> for setup instructions.\n",
       "</p>\n",
       "<p>\n",
       "  If you're reading this message in another frontend (for example, a static\n",
       "  rendering on GitHub or <a href=\"https://nbviewer.jupyter.org/\">NBViewer</a>),\n",
       "  it may mean that your frontend doesn't currently support widgets.\n",
       "</p>\n"
      ],
      "text/plain": [
       "HBox(children=(IntProgress(value=0, max=276), HTML(value='')))"
      ]
     },
     "metadata": {},
     "output_type": "display_data"
    },
    {
     "data": {
      "application/vnd.jupyter.widget-view+json": {
       "model_id": "0974ad34d90244c988f88d84d011d6be",
       "version_major": 2,
       "version_minor": 0
      },
      "text/html": [
       "<p>Failed to display Jupyter Widget of type <code>HBox</code>.</p>\n",
       "<p>\n",
       "  If you're reading this message in the Jupyter Notebook or JupyterLab Notebook, it may mean\n",
       "  that the widgets JavaScript is still loading. If this message persists, it\n",
       "  likely means that the widgets JavaScript library is either not installed or\n",
       "  not enabled. See the <a href=\"https://ipywidgets.readthedocs.io/en/stable/user_install.html\">Jupyter\n",
       "  Widgets Documentation</a> for setup instructions.\n",
       "</p>\n",
       "<p>\n",
       "  If you're reading this message in another frontend (for example, a static\n",
       "  rendering on GitHub or <a href=\"https://nbviewer.jupyter.org/\">NBViewer</a>),\n",
       "  it may mean that your frontend doesn't currently support widgets.\n",
       "</p>\n"
      ],
      "text/plain": [
       "HBox(children=(IntProgress(value=0, max=276), HTML(value='')))"
      ]
     },
     "metadata": {},
     "output_type": "display_data"
    },
    {
     "data": {
      "application/vnd.jupyter.widget-view+json": {
       "model_id": "c597cbdd68a04f06b928b21a72aaf3d4",
       "version_major": 2,
       "version_minor": 0
      },
      "text/html": [
       "<p>Failed to display Jupyter Widget of type <code>HBox</code>.</p>\n",
       "<p>\n",
       "  If you're reading this message in the Jupyter Notebook or JupyterLab Notebook, it may mean\n",
       "  that the widgets JavaScript is still loading. If this message persists, it\n",
       "  likely means that the widgets JavaScript library is either not installed or\n",
       "  not enabled. See the <a href=\"https://ipywidgets.readthedocs.io/en/stable/user_install.html\">Jupyter\n",
       "  Widgets Documentation</a> for setup instructions.\n",
       "</p>\n",
       "<p>\n",
       "  If you're reading this message in another frontend (for example, a static\n",
       "  rendering on GitHub or <a href=\"https://nbviewer.jupyter.org/\">NBViewer</a>),\n",
       "  it may mean that your frontend doesn't currently support widgets.\n",
       "</p>\n"
      ],
      "text/plain": [
       "HBox(children=(IntProgress(value=0, max=276), HTML(value='')))"
      ]
     },
     "metadata": {},
     "output_type": "display_data"
    },
    {
     "data": {
      "application/vnd.jupyter.widget-view+json": {
       "model_id": "b2d62ef6d7e04fb8991b164c54619977",
       "version_major": 2,
       "version_minor": 0
      },
      "text/html": [
       "<p>Failed to display Jupyter Widget of type <code>HBox</code>.</p>\n",
       "<p>\n",
       "  If you're reading this message in the Jupyter Notebook or JupyterLab Notebook, it may mean\n",
       "  that the widgets JavaScript is still loading. If this message persists, it\n",
       "  likely means that the widgets JavaScript library is either not installed or\n",
       "  not enabled. See the <a href=\"https://ipywidgets.readthedocs.io/en/stable/user_install.html\">Jupyter\n",
       "  Widgets Documentation</a> for setup instructions.\n",
       "</p>\n",
       "<p>\n",
       "  If you're reading this message in another frontend (for example, a static\n",
       "  rendering on GitHub or <a href=\"https://nbviewer.jupyter.org/\">NBViewer</a>),\n",
       "  it may mean that your frontend doesn't currently support widgets.\n",
       "</p>\n"
      ],
      "text/plain": [
       "HBox(children=(IntProgress(value=0, max=276), HTML(value='')))"
      ]
     },
     "metadata": {},
     "output_type": "display_data"
    },
    {
     "data": {
      "application/vnd.jupyter.widget-view+json": {
       "model_id": "65731b7e06f54df0b597d4120618b7e4",
       "version_major": 2,
       "version_minor": 0
      },
      "text/html": [
       "<p>Failed to display Jupyter Widget of type <code>HBox</code>.</p>\n",
       "<p>\n",
       "  If you're reading this message in the Jupyter Notebook or JupyterLab Notebook, it may mean\n",
       "  that the widgets JavaScript is still loading. If this message persists, it\n",
       "  likely means that the widgets JavaScript library is either not installed or\n",
       "  not enabled. See the <a href=\"https://ipywidgets.readthedocs.io/en/stable/user_install.html\">Jupyter\n",
       "  Widgets Documentation</a> for setup instructions.\n",
       "</p>\n",
       "<p>\n",
       "  If you're reading this message in another frontend (for example, a static\n",
       "  rendering on GitHub or <a href=\"https://nbviewer.jupyter.org/\">NBViewer</a>),\n",
       "  it may mean that your frontend doesn't currently support widgets.\n",
       "</p>\n"
      ],
      "text/plain": [
       "HBox(children=(IntProgress(value=0, max=276), HTML(value='')))"
      ]
     },
     "metadata": {},
     "output_type": "display_data"
    },
    {
     "data": {
      "application/vnd.jupyter.widget-view+json": {
       "model_id": "852b8215f4ae436a9a2b5176d5ffcc0d",
       "version_major": 2,
       "version_minor": 0
      },
      "text/html": [
       "<p>Failed to display Jupyter Widget of type <code>HBox</code>.</p>\n",
       "<p>\n",
       "  If you're reading this message in the Jupyter Notebook or JupyterLab Notebook, it may mean\n",
       "  that the widgets JavaScript is still loading. If this message persists, it\n",
       "  likely means that the widgets JavaScript library is either not installed or\n",
       "  not enabled. See the <a href=\"https://ipywidgets.readthedocs.io/en/stable/user_install.html\">Jupyter\n",
       "  Widgets Documentation</a> for setup instructions.\n",
       "</p>\n",
       "<p>\n",
       "  If you're reading this message in another frontend (for example, a static\n",
       "  rendering on GitHub or <a href=\"https://nbviewer.jupyter.org/\">NBViewer</a>),\n",
       "  it may mean that your frontend doesn't currently support widgets.\n",
       "</p>\n"
      ],
      "text/plain": [
       "HBox(children=(IntProgress(value=0, max=276), HTML(value='')))"
      ]
     },
     "metadata": {},
     "output_type": "display_data"
    },
    {
     "data": {
      "application/vnd.jupyter.widget-view+json": {
       "model_id": "c0fea3af449046b0b6b21e8bc7fc93f1",
       "version_major": 2,
       "version_minor": 0
      },
      "text/html": [
       "<p>Failed to display Jupyter Widget of type <code>HBox</code>.</p>\n",
       "<p>\n",
       "  If you're reading this message in the Jupyter Notebook or JupyterLab Notebook, it may mean\n",
       "  that the widgets JavaScript is still loading. If this message persists, it\n",
       "  likely means that the widgets JavaScript library is either not installed or\n",
       "  not enabled. See the <a href=\"https://ipywidgets.readthedocs.io/en/stable/user_install.html\">Jupyter\n",
       "  Widgets Documentation</a> for setup instructions.\n",
       "</p>\n",
       "<p>\n",
       "  If you're reading this message in another frontend (for example, a static\n",
       "  rendering on GitHub or <a href=\"https://nbviewer.jupyter.org/\">NBViewer</a>),\n",
       "  it may mean that your frontend doesn't currently support widgets.\n",
       "</p>\n"
      ],
      "text/plain": [
       "HBox(children=(IntProgress(value=0, max=276), HTML(value='')))"
      ]
     },
     "metadata": {},
     "output_type": "display_data"
    },
    {
     "name": "stdout",
     "output_type": "stream",
     "text": [
      "Raw network, 15 scrambles\n",
      "Raw network, 1000 scrambles\n",
      "nan -0.051650363036831126 [1.     0.963  0.9706 0.9412 0.8543 0.5506 0.292  0.1168 0.0328 0.0073\n",
      " 0.0036 0.        nan    nan] [ 1.      2.      3.      4.0104  5.1475  6.381   7.975   9.625   9.6667\n",
      " 13.     13.         nan     nan     nan] nan nan nan nan\n",
      "Second best, superflip\n"
     ]
    },
    {
     "name": "stderr",
     "output_type": "stream",
     "text": [
      "/home/joe/anaconda3/lib/python3.6/site-packages/ipykernel_launcher.py:419: RuntimeWarning: invalid value encountered in true_divide\n",
      "/home/joe/anaconda3/lib/python3.6/site-packages/ipykernel_launcher.py:420: RuntimeWarning: invalid value encountered in true_divide\n",
      "/home/joe/anaconda3/lib/python3.6/site-packages/ipykernel_launcher.py:428: RuntimeWarning: invalid value encountered in true_divide\n",
      "/home/joe/anaconda3/lib/python3.6/site-packages/ipykernel_launcher.py:429: RuntimeWarning: invalid value encountered in true_divide\n",
      "/home/joe/anaconda3/lib/python3.6/site-packages/ipykernel_launcher.py:430: RuntimeWarning: invalid value encountered in true_divide\n",
      "/home/joe/anaconda3/lib/python3.6/site-packages/ipykernel_launcher.py:431: RuntimeWarning: invalid value encountered in true_divide\n",
      "/home/joe/anaconda3/lib/python3.6/site-packages/ipykernel_launcher.py:432: RuntimeWarning: invalid value encountered in true_divide\n",
      "/home/joe/anaconda3/lib/python3.6/site-packages/ipykernel_launcher.py:433: RuntimeWarning: invalid value encountered in true_divide\n"
     ]
    },
    {
     "data": {
      "application/vnd.jupyter.widget-view+json": {
       "model_id": "2f36b4bf8d064b8aa7b4da5d282814c3",
       "version_major": 2,
       "version_minor": 0
      },
      "text/html": [
       "<p>Failed to display Jupyter Widget of type <code>HBox</code>.</p>\n",
       "<p>\n",
       "  If you're reading this message in the Jupyter Notebook or JupyterLab Notebook, it may mean\n",
       "  that the widgets JavaScript is still loading. If this message persists, it\n",
       "  likely means that the widgets JavaScript library is either not installed or\n",
       "  not enabled. See the <a href=\"https://ipywidgets.readthedocs.io/en/stable/user_install.html\">Jupyter\n",
       "  Widgets Documentation</a> for setup instructions.\n",
       "</p>\n",
       "<p>\n",
       "  If you're reading this message in another frontend (for example, a static\n",
       "  rendering on GitHub or <a href=\"https://nbviewer.jupyter.org/\">NBViewer</a>),\n",
       "  it may mean that your frontend doesn't currently support widgets.\n",
       "</p>\n"
      ],
      "text/plain": [
       "HBox(children=(IntProgress(value=0, max=276), HTML(value='')))"
      ]
     },
     "metadata": {},
     "output_type": "display_data"
    },
    {
     "data": {
      "application/vnd.jupyter.widget-view+json": {
       "model_id": "4394389a564d4e8a9549184e617db4c8",
       "version_major": 2,
       "version_minor": 0
      },
      "text/html": [
       "<p>Failed to display Jupyter Widget of type <code>HBox</code>.</p>\n",
       "<p>\n",
       "  If you're reading this message in the Jupyter Notebook or JupyterLab Notebook, it may mean\n",
       "  that the widgets JavaScript is still loading. If this message persists, it\n",
       "  likely means that the widgets JavaScript library is either not installed or\n",
       "  not enabled. See the <a href=\"https://ipywidgets.readthedocs.io/en/stable/user_install.html\">Jupyter\n",
       "  Widgets Documentation</a> for setup instructions.\n",
       "</p>\n",
       "<p>\n",
       "  If you're reading this message in another frontend (for example, a static\n",
       "  rendering on GitHub or <a href=\"https://nbviewer.jupyter.org/\">NBViewer</a>),\n",
       "  it may mean that your frontend doesn't currently support widgets.\n",
       "</p>\n"
      ],
      "text/plain": [
       "HBox(children=(IntProgress(value=0, max=276), HTML(value='')))"
      ]
     },
     "metadata": {},
     "output_type": "display_data"
    },
    {
     "data": {
      "application/vnd.jupyter.widget-view+json": {
       "model_id": "6686662f773d471286be541d307d3c3b",
       "version_major": 2,
       "version_minor": 0
      },
      "text/html": [
       "<p>Failed to display Jupyter Widget of type <code>HBox</code>.</p>\n",
       "<p>\n",
       "  If you're reading this message in the Jupyter Notebook or JupyterLab Notebook, it may mean\n",
       "  that the widgets JavaScript is still loading. If this message persists, it\n",
       "  likely means that the widgets JavaScript library is either not installed or\n",
       "  not enabled. See the <a href=\"https://ipywidgets.readthedocs.io/en/stable/user_install.html\">Jupyter\n",
       "  Widgets Documentation</a> for setup instructions.\n",
       "</p>\n",
       "<p>\n",
       "  If you're reading this message in another frontend (for example, a static\n",
       "  rendering on GitHub or <a href=\"https://nbviewer.jupyter.org/\">NBViewer</a>),\n",
       "  it may mean that your frontend doesn't currently support widgets.\n",
       "</p>\n"
      ],
      "text/plain": [
       "HBox(children=(IntProgress(value=0, max=276), HTML(value='')))"
      ]
     },
     "metadata": {},
     "output_type": "display_data"
    },
    {
     "data": {
      "application/vnd.jupyter.widget-view+json": {
       "model_id": "2e69b97c073042e8888ffee33e581152",
       "version_major": 2,
       "version_minor": 0
      },
      "text/html": [
       "<p>Failed to display Jupyter Widget of type <code>HBox</code>.</p>\n",
       "<p>\n",
       "  If you're reading this message in the Jupyter Notebook or JupyterLab Notebook, it may mean\n",
       "  that the widgets JavaScript is still loading. If this message persists, it\n",
       "  likely means that the widgets JavaScript library is either not installed or\n",
       "  not enabled. See the <a href=\"https://ipywidgets.readthedocs.io/en/stable/user_install.html\">Jupyter\n",
       "  Widgets Documentation</a> for setup instructions.\n",
       "</p>\n",
       "<p>\n",
       "  If you're reading this message in another frontend (for example, a static\n",
       "  rendering on GitHub or <a href=\"https://nbviewer.jupyter.org/\">NBViewer</a>),\n",
       "  it may mean that your frontend doesn't currently support widgets.\n",
       "</p>\n"
      ],
      "text/plain": [
       "HBox(children=(IntProgress(value=0, max=276), HTML(value='')))"
      ]
     },
     "metadata": {},
     "output_type": "display_data"
    },
    {
     "data": {
      "application/vnd.jupyter.widget-view+json": {
       "model_id": "c86f713102fd4f1bb638c0ada83bcd3f",
       "version_major": 2,
       "version_minor": 0
      },
      "text/html": [
       "<p>Failed to display Jupyter Widget of type <code>HBox</code>.</p>\n",
       "<p>\n",
       "  If you're reading this message in the Jupyter Notebook or JupyterLab Notebook, it may mean\n",
       "  that the widgets JavaScript is still loading. If this message persists, it\n",
       "  likely means that the widgets JavaScript library is either not installed or\n",
       "  not enabled. See the <a href=\"https://ipywidgets.readthedocs.io/en/stable/user_install.html\">Jupyter\n",
       "  Widgets Documentation</a> for setup instructions.\n",
       "</p>\n",
       "<p>\n",
       "  If you're reading this message in another frontend (for example, a static\n",
       "  rendering on GitHub or <a href=\"https://nbviewer.jupyter.org/\">NBViewer</a>),\n",
       "  it may mean that your frontend doesn't currently support widgets.\n",
       "</p>\n"
      ],
      "text/plain": [
       "HBox(children=(IntProgress(value=0, max=276), HTML(value='')))"
      ]
     },
     "metadata": {},
     "output_type": "display_data"
    },
    {
     "data": {
      "application/vnd.jupyter.widget-view+json": {
       "model_id": "be5fcd2185c1488f9e3ffe18d327b57d",
       "version_major": 2,
       "version_minor": 0
      },
      "text/html": [
       "<p>Failed to display Jupyter Widget of type <code>HBox</code>.</p>\n",
       "<p>\n",
       "  If you're reading this message in the Jupyter Notebook or JupyterLab Notebook, it may mean\n",
       "  that the widgets JavaScript is still loading. If this message persists, it\n",
       "  likely means that the widgets JavaScript library is either not installed or\n",
       "  not enabled. See the <a href=\"https://ipywidgets.readthedocs.io/en/stable/user_install.html\">Jupyter\n",
       "  Widgets Documentation</a> for setup instructions.\n",
       "</p>\n",
       "<p>\n",
       "  If you're reading this message in another frontend (for example, a static\n",
       "  rendering on GitHub or <a href=\"https://nbviewer.jupyter.org/\">NBViewer</a>),\n",
       "  it may mean that your frontend doesn't currently support widgets.\n",
       "</p>\n"
      ],
      "text/plain": [
       "HBox(children=(IntProgress(value=0, max=276), HTML(value='')))"
      ]
     },
     "metadata": {},
     "output_type": "display_data"
    },
    {
     "data": {
      "application/vnd.jupyter.widget-view+json": {
       "model_id": "37959b9bd4f548f19c268d692acf0cc5",
       "version_major": 2,
       "version_minor": 0
      },
      "text/html": [
       "<p>Failed to display Jupyter Widget of type <code>HBox</code>.</p>\n",
       "<p>\n",
       "  If you're reading this message in the Jupyter Notebook or JupyterLab Notebook, it may mean\n",
       "  that the widgets JavaScript is still loading. If this message persists, it\n",
       "  likely means that the widgets JavaScript library is either not installed or\n",
       "  not enabled. See the <a href=\"https://ipywidgets.readthedocs.io/en/stable/user_install.html\">Jupyter\n",
       "  Widgets Documentation</a> for setup instructions.\n",
       "</p>\n",
       "<p>\n",
       "  If you're reading this message in another frontend (for example, a static\n",
       "  rendering on GitHub or <a href=\"https://nbviewer.jupyter.org/\">NBViewer</a>),\n",
       "  it may mean that your frontend doesn't currently support widgets.\n",
       "</p>\n"
      ],
      "text/plain": [
       "HBox(children=(IntProgress(value=0, max=276), HTML(value='')))"
      ]
     },
     "metadata": {},
     "output_type": "display_data"
    },
    {
     "data": {
      "application/vnd.jupyter.widget-view+json": {
       "model_id": "72de30474b004baaba7c39eb3ded6eac",
       "version_major": 2,
       "version_minor": 0
      },
      "text/html": [
       "<p>Failed to display Jupyter Widget of type <code>HBox</code>.</p>\n",
       "<p>\n",
       "  If you're reading this message in the Jupyter Notebook or JupyterLab Notebook, it may mean\n",
       "  that the widgets JavaScript is still loading. If this message persists, it\n",
       "  likely means that the widgets JavaScript library is either not installed or\n",
       "  not enabled. See the <a href=\"https://ipywidgets.readthedocs.io/en/stable/user_install.html\">Jupyter\n",
       "  Widgets Documentation</a> for setup instructions.\n",
       "</p>\n",
       "<p>\n",
       "  If you're reading this message in another frontend (for example, a static\n",
       "  rendering on GitHub or <a href=\"https://nbviewer.jupyter.org/\">NBViewer</a>),\n",
       "  it may mean that your frontend doesn't currently support widgets.\n",
       "</p>\n"
      ],
      "text/plain": [
       "HBox(children=(IntProgress(value=0, max=276), HTML(value='')))"
      ]
     },
     "metadata": {},
     "output_type": "display_data"
    },
    {
     "data": {
      "application/vnd.jupyter.widget-view+json": {
       "model_id": "8dd20a9e54cf48d2997096824fba2965",
       "version_major": 2,
       "version_minor": 0
      },
      "text/html": [
       "<p>Failed to display Jupyter Widget of type <code>HBox</code>.</p>\n",
       "<p>\n",
       "  If you're reading this message in the Jupyter Notebook or JupyterLab Notebook, it may mean\n",
       "  that the widgets JavaScript is still loading. If this message persists, it\n",
       "  likely means that the widgets JavaScript library is either not installed or\n",
       "  not enabled. See the <a href=\"https://ipywidgets.readthedocs.io/en/stable/user_install.html\">Jupyter\n",
       "  Widgets Documentation</a> for setup instructions.\n",
       "</p>\n",
       "<p>\n",
       "  If you're reading this message in another frontend (for example, a static\n",
       "  rendering on GitHub or <a href=\"https://nbviewer.jupyter.org/\">NBViewer</a>),\n",
       "  it may mean that your frontend doesn't currently support widgets.\n",
       "</p>\n"
      ],
      "text/plain": [
       "HBox(children=(IntProgress(value=0, max=276), HTML(value='')))"
      ]
     },
     "metadata": {},
     "output_type": "display_data"
    },
    {
     "data": {
      "application/vnd.jupyter.widget-view+json": {
       "model_id": "a47b487b2e18427da52ab7061cde3f8b",
       "version_major": 2,
       "version_minor": 0
      },
      "text/html": [
       "<p>Failed to display Jupyter Widget of type <code>HBox</code>.</p>\n",
       "<p>\n",
       "  If you're reading this message in the Jupyter Notebook or JupyterLab Notebook, it may mean\n",
       "  that the widgets JavaScript is still loading. If this message persists, it\n",
       "  likely means that the widgets JavaScript library is either not installed or\n",
       "  not enabled. See the <a href=\"https://ipywidgets.readthedocs.io/en/stable/user_install.html\">Jupyter\n",
       "  Widgets Documentation</a> for setup instructions.\n",
       "</p>\n",
       "<p>\n",
       "  If you're reading this message in another frontend (for example, a static\n",
       "  rendering on GitHub or <a href=\"https://nbviewer.jupyter.org/\">NBViewer</a>),\n",
       "  it may mean that your frontend doesn't currently support widgets.\n",
       "</p>\n"
      ],
      "text/plain": [
       "HBox(children=(IntProgress(value=0, max=276), HTML(value='')))"
      ]
     },
     "metadata": {},
     "output_type": "display_data"
    },
    {
     "data": {
      "application/vnd.jupyter.widget-view+json": {
       "model_id": "abf4fa0c40d54e9aa458abbc87884162",
       "version_major": 2,
       "version_minor": 0
      },
      "text/html": [
       "<p>Failed to display Jupyter Widget of type <code>HBox</code>.</p>\n",
       "<p>\n",
       "  If you're reading this message in the Jupyter Notebook or JupyterLab Notebook, it may mean\n",
       "  that the widgets JavaScript is still loading. If this message persists, it\n",
       "  likely means that the widgets JavaScript library is either not installed or\n",
       "  not enabled. See the <a href=\"https://ipywidgets.readthedocs.io/en/stable/user_install.html\">Jupyter\n",
       "  Widgets Documentation</a> for setup instructions.\n",
       "</p>\n",
       "<p>\n",
       "  If you're reading this message in another frontend (for example, a static\n",
       "  rendering on GitHub or <a href=\"https://nbviewer.jupyter.org/\">NBViewer</a>),\n",
       "  it may mean that your frontend doesn't currently support widgets.\n",
       "</p>\n"
      ],
      "text/plain": [
       "HBox(children=(IntProgress(value=0, max=276), HTML(value='')))"
      ]
     },
     "metadata": {},
     "output_type": "display_data"
    },
    {
     "data": {
      "application/vnd.jupyter.widget-view+json": {
       "model_id": "3b336a68b1fe42498a111b6f74c1f960",
       "version_major": 2,
       "version_minor": 0
      },
      "text/html": [
       "<p>Failed to display Jupyter Widget of type <code>HBox</code>.</p>\n",
       "<p>\n",
       "  If you're reading this message in the Jupyter Notebook or JupyterLab Notebook, it may mean\n",
       "  that the widgets JavaScript is still loading. If this message persists, it\n",
       "  likely means that the widgets JavaScript library is either not installed or\n",
       "  not enabled. See the <a href=\"https://ipywidgets.readthedocs.io/en/stable/user_install.html\">Jupyter\n",
       "  Widgets Documentation</a> for setup instructions.\n",
       "</p>\n",
       "<p>\n",
       "  If you're reading this message in another frontend (for example, a static\n",
       "  rendering on GitHub or <a href=\"https://nbviewer.jupyter.org/\">NBViewer</a>),\n",
       "  it may mean that your frontend doesn't currently support widgets.\n",
       "</p>\n"
      ],
      "text/plain": [
       "HBox(children=(IntProgress(value=0, max=276), HTML(value='')))"
      ]
     },
     "metadata": {},
     "output_type": "display_data"
    },
    {
     "data": {
      "application/vnd.jupyter.widget-view+json": {
       "model_id": "e2a63223b4554f8389ce2425054abaab",
       "version_major": 2,
       "version_minor": 0
      },
      "text/html": [
       "<p>Failed to display Jupyter Widget of type <code>HBox</code>.</p>\n",
       "<p>\n",
       "  If you're reading this message in the Jupyter Notebook or JupyterLab Notebook, it may mean\n",
       "  that the widgets JavaScript is still loading. If this message persists, it\n",
       "  likely means that the widgets JavaScript library is either not installed or\n",
       "  not enabled. See the <a href=\"https://ipywidgets.readthedocs.io/en/stable/user_install.html\">Jupyter\n",
       "  Widgets Documentation</a> for setup instructions.\n",
       "</p>\n",
       "<p>\n",
       "  If you're reading this message in another frontend (for example, a static\n",
       "  rendering on GitHub or <a href=\"https://nbviewer.jupyter.org/\">NBViewer</a>),\n",
       "  it may mean that your frontend doesn't currently support widgets.\n",
       "</p>\n"
      ],
      "text/plain": [
       "HBox(children=(IntProgress(value=0, max=276), HTML(value='')))"
      ]
     },
     "metadata": {},
     "output_type": "display_data"
    },
    {
     "data": {
      "application/vnd.jupyter.widget-view+json": {
       "model_id": "dc763ea0963d46ba8a8780feccbdfa7c",
       "version_major": 2,
       "version_minor": 0
      },
      "text/html": [
       "<p>Failed to display Jupyter Widget of type <code>HBox</code>.</p>\n",
       "<p>\n",
       "  If you're reading this message in the Jupyter Notebook or JupyterLab Notebook, it may mean\n",
       "  that the widgets JavaScript is still loading. If this message persists, it\n",
       "  likely means that the widgets JavaScript library is either not installed or\n",
       "  not enabled. See the <a href=\"https://ipywidgets.readthedocs.io/en/stable/user_install.html\">Jupyter\n",
       "  Widgets Documentation</a> for setup instructions.\n",
       "</p>\n",
       "<p>\n",
       "  If you're reading this message in another frontend (for example, a static\n",
       "  rendering on GitHub or <a href=\"https://nbviewer.jupyter.org/\">NBViewer</a>),\n",
       "  it may mean that your frontend doesn't currently support widgets.\n",
       "</p>\n"
      ],
      "text/plain": [
       "HBox(children=(IntProgress(value=0, max=276), HTML(value='')))"
      ]
     },
     "metadata": {},
     "output_type": "display_data"
    },
    {
     "name": "stdout",
     "output_type": "stream",
     "text": [
      "Second best network, 15 scrambles\n",
      "Second best network, 1000 scrambles\n",
      "0.9735899201476 -0.11802748081036948 [1.     1.     1.     1.     1.     1.     0.9927 0.9818 0.9818 0.9745\n",
      " 0.9709 0.9564 0.9745 0.9891] [  1.       3.1852   3.9412   7.0098  15.7008  81.6554 138.3676 190.\n",
      " 235.1413 254.6292 276.5581 281.3156 275.1567 270.0147] [  1.       2.4444   3.3529   5.1863   9.3071  34.1648  56.2721  77.368\n",
      "  93.2677 100.0524 105.4569 109.0875 105.2164 103.1136] nan nan nan nan\n",
      "Mixed_14\n",
      "Raw network, superflip\n"
     ]
    },
    {
     "name": "stderr",
     "output_type": "stream",
     "text": [
      "/home/joe/anaconda3/lib/python3.6/site-packages/ipykernel_launcher.py:287: RuntimeWarning: invalid value encountered in true_divide\n",
      "/home/joe/anaconda3/lib/python3.6/site-packages/ipykernel_launcher.py:288: RuntimeWarning: invalid value encountered in true_divide\n",
      "/home/joe/anaconda3/lib/python3.6/site-packages/ipykernel_launcher.py:289: RuntimeWarning: invalid value encountered in true_divide\n",
      "/home/joe/anaconda3/lib/python3.6/site-packages/ipykernel_launcher.py:290: RuntimeWarning: invalid value encountered in true_divide\n"
     ]
    },
    {
     "data": {
      "application/vnd.jupyter.widget-view+json": {
       "model_id": "786ec10f230d4b77ac9ac85884b4443d",
       "version_major": 2,
       "version_minor": 0
      },
      "text/html": [
       "<p>Failed to display Jupyter Widget of type <code>HBox</code>.</p>\n",
       "<p>\n",
       "  If you're reading this message in the Jupyter Notebook or JupyterLab Notebook, it may mean\n",
       "  that the widgets JavaScript is still loading. If this message persists, it\n",
       "  likely means that the widgets JavaScript library is either not installed or\n",
       "  not enabled. See the <a href=\"https://ipywidgets.readthedocs.io/en/stable/user_install.html\">Jupyter\n",
       "  Widgets Documentation</a> for setup instructions.\n",
       "</p>\n",
       "<p>\n",
       "  If you're reading this message in another frontend (for example, a static\n",
       "  rendering on GitHub or <a href=\"https://nbviewer.jupyter.org/\">NBViewer</a>),\n",
       "  it may mean that your frontend doesn't currently support widgets.\n",
       "</p>\n"
      ],
      "text/plain": [
       "HBox(children=(IntProgress(value=0, max=276), HTML(value='')))"
      ]
     },
     "metadata": {},
     "output_type": "display_data"
    },
    {
     "data": {
      "application/vnd.jupyter.widget-view+json": {
       "model_id": "85e2eb7ac1df4a45988a1c3475f6f8a1",
       "version_major": 2,
       "version_minor": 0
      },
      "text/html": [
       "<p>Failed to display Jupyter Widget of type <code>HBox</code>.</p>\n",
       "<p>\n",
       "  If you're reading this message in the Jupyter Notebook or JupyterLab Notebook, it may mean\n",
       "  that the widgets JavaScript is still loading. If this message persists, it\n",
       "  likely means that the widgets JavaScript library is either not installed or\n",
       "  not enabled. See the <a href=\"https://ipywidgets.readthedocs.io/en/stable/user_install.html\">Jupyter\n",
       "  Widgets Documentation</a> for setup instructions.\n",
       "</p>\n",
       "<p>\n",
       "  If you're reading this message in another frontend (for example, a static\n",
       "  rendering on GitHub or <a href=\"https://nbviewer.jupyter.org/\">NBViewer</a>),\n",
       "  it may mean that your frontend doesn't currently support widgets.\n",
       "</p>\n"
      ],
      "text/plain": [
       "HBox(children=(IntProgress(value=0, max=276), HTML(value='')))"
      ]
     },
     "metadata": {},
     "output_type": "display_data"
    },
    {
     "data": {
      "application/vnd.jupyter.widget-view+json": {
       "model_id": "266df35eba234c85bcf84eeafc38ddd4",
       "version_major": 2,
       "version_minor": 0
      },
      "text/html": [
       "<p>Failed to display Jupyter Widget of type <code>HBox</code>.</p>\n",
       "<p>\n",
       "  If you're reading this message in the Jupyter Notebook or JupyterLab Notebook, it may mean\n",
       "  that the widgets JavaScript is still loading. If this message persists, it\n",
       "  likely means that the widgets JavaScript library is either not installed or\n",
       "  not enabled. See the <a href=\"https://ipywidgets.readthedocs.io/en/stable/user_install.html\">Jupyter\n",
       "  Widgets Documentation</a> for setup instructions.\n",
       "</p>\n",
       "<p>\n",
       "  If you're reading this message in another frontend (for example, a static\n",
       "  rendering on GitHub or <a href=\"https://nbviewer.jupyter.org/\">NBViewer</a>),\n",
       "  it may mean that your frontend doesn't currently support widgets.\n",
       "</p>\n"
      ],
      "text/plain": [
       "HBox(children=(IntProgress(value=0, max=276), HTML(value='')))"
      ]
     },
     "metadata": {},
     "output_type": "display_data"
    },
    {
     "data": {
      "application/vnd.jupyter.widget-view+json": {
       "model_id": "7d7d743cfd764b28969219e5c64180af",
       "version_major": 2,
       "version_minor": 0
      },
      "text/html": [
       "<p>Failed to display Jupyter Widget of type <code>HBox</code>.</p>\n",
       "<p>\n",
       "  If you're reading this message in the Jupyter Notebook or JupyterLab Notebook, it may mean\n",
       "  that the widgets JavaScript is still loading. If this message persists, it\n",
       "  likely means that the widgets JavaScript library is either not installed or\n",
       "  not enabled. See the <a href=\"https://ipywidgets.readthedocs.io/en/stable/user_install.html\">Jupyter\n",
       "  Widgets Documentation</a> for setup instructions.\n",
       "</p>\n",
       "<p>\n",
       "  If you're reading this message in another frontend (for example, a static\n",
       "  rendering on GitHub or <a href=\"https://nbviewer.jupyter.org/\">NBViewer</a>),\n",
       "  it may mean that your frontend doesn't currently support widgets.\n",
       "</p>\n"
      ],
      "text/plain": [
       "HBox(children=(IntProgress(value=0, max=276), HTML(value='')))"
      ]
     },
     "metadata": {},
     "output_type": "display_data"
    },
    {
     "data": {
      "application/vnd.jupyter.widget-view+json": {
       "model_id": "151ef2ff8edd463a97ee545899aebffd",
       "version_major": 2,
       "version_minor": 0
      },
      "text/html": [
       "<p>Failed to display Jupyter Widget of type <code>HBox</code>.</p>\n",
       "<p>\n",
       "  If you're reading this message in the Jupyter Notebook or JupyterLab Notebook, it may mean\n",
       "  that the widgets JavaScript is still loading. If this message persists, it\n",
       "  likely means that the widgets JavaScript library is either not installed or\n",
       "  not enabled. See the <a href=\"https://ipywidgets.readthedocs.io/en/stable/user_install.html\">Jupyter\n",
       "  Widgets Documentation</a> for setup instructions.\n",
       "</p>\n",
       "<p>\n",
       "  If you're reading this message in another frontend (for example, a static\n",
       "  rendering on GitHub or <a href=\"https://nbviewer.jupyter.org/\">NBViewer</a>),\n",
       "  it may mean that your frontend doesn't currently support widgets.\n",
       "</p>\n"
      ],
      "text/plain": [
       "HBox(children=(IntProgress(value=0, max=276), HTML(value='')))"
      ]
     },
     "metadata": {},
     "output_type": "display_data"
    },
    {
     "data": {
      "application/vnd.jupyter.widget-view+json": {
       "model_id": "3e5b23fedb524364853e8bc96e310461",
       "version_major": 2,
       "version_minor": 0
      },
      "text/html": [
       "<p>Failed to display Jupyter Widget of type <code>HBox</code>.</p>\n",
       "<p>\n",
       "  If you're reading this message in the Jupyter Notebook or JupyterLab Notebook, it may mean\n",
       "  that the widgets JavaScript is still loading. If this message persists, it\n",
       "  likely means that the widgets JavaScript library is either not installed or\n",
       "  not enabled. See the <a href=\"https://ipywidgets.readthedocs.io/en/stable/user_install.html\">Jupyter\n",
       "  Widgets Documentation</a> for setup instructions.\n",
       "</p>\n",
       "<p>\n",
       "  If you're reading this message in another frontend (for example, a static\n",
       "  rendering on GitHub or <a href=\"https://nbviewer.jupyter.org/\">NBViewer</a>),\n",
       "  it may mean that your frontend doesn't currently support widgets.\n",
       "</p>\n"
      ],
      "text/plain": [
       "HBox(children=(IntProgress(value=0, max=276), HTML(value='')))"
      ]
     },
     "metadata": {},
     "output_type": "display_data"
    },
    {
     "name": "stdout",
     "output_type": "stream",
     "text": [
      "Raw network, 15 scrambles\n",
      "Raw network, 1000 scrambles\n",
      "nan -0.049305530659527044 [0.3333 0.3333 0.1569 0.0637 0.0236 0.        nan    nan    nan    nan\n",
      "    nan    nan    nan    nan] [1.     2.4444 3.375  5.0769 6.6667    nan    nan    nan    nan    nan\n",
      "    nan    nan    nan    nan] nan nan nan nan\n",
      "Second best, superflip\n"
     ]
    },
    {
     "data": {
      "application/vnd.jupyter.widget-view+json": {
       "model_id": "1a521718fd3e41cab07776013eb482d7",
       "version_major": 2,
       "version_minor": 0
      },
      "text/html": [
       "<p>Failed to display Jupyter Widget of type <code>HBox</code>.</p>\n",
       "<p>\n",
       "  If you're reading this message in the Jupyter Notebook or JupyterLab Notebook, it may mean\n",
       "  that the widgets JavaScript is still loading. If this message persists, it\n",
       "  likely means that the widgets JavaScript library is either not installed or\n",
       "  not enabled. See the <a href=\"https://ipywidgets.readthedocs.io/en/stable/user_install.html\">Jupyter\n",
       "  Widgets Documentation</a> for setup instructions.\n",
       "</p>\n",
       "<p>\n",
       "  If you're reading this message in another frontend (for example, a static\n",
       "  rendering on GitHub or <a href=\"https://nbviewer.jupyter.org/\">NBViewer</a>),\n",
       "  it may mean that your frontend doesn't currently support widgets.\n",
       "</p>\n"
      ],
      "text/plain": [
       "HBox(children=(IntProgress(value=0, max=276), HTML(value='')))"
      ]
     },
     "metadata": {},
     "output_type": "display_data"
    },
    {
     "data": {
      "application/vnd.jupyter.widget-view+json": {
       "model_id": "8f47ff7ffb214dc58c0df7d62e42e30f",
       "version_major": 2,
       "version_minor": 0
      },
      "text/html": [
       "<p>Failed to display Jupyter Widget of type <code>HBox</code>.</p>\n",
       "<p>\n",
       "  If you're reading this message in the Jupyter Notebook or JupyterLab Notebook, it may mean\n",
       "  that the widgets JavaScript is still loading. If this message persists, it\n",
       "  likely means that the widgets JavaScript library is either not installed or\n",
       "  not enabled. See the <a href=\"https://ipywidgets.readthedocs.io/en/stable/user_install.html\">Jupyter\n",
       "  Widgets Documentation</a> for setup instructions.\n",
       "</p>\n",
       "<p>\n",
       "  If you're reading this message in another frontend (for example, a static\n",
       "  rendering on GitHub or <a href=\"https://nbviewer.jupyter.org/\">NBViewer</a>),\n",
       "  it may mean that your frontend doesn't currently support widgets.\n",
       "</p>\n"
      ],
      "text/plain": [
       "HBox(children=(IntProgress(value=0, max=276), HTML(value='')))"
      ]
     },
     "metadata": {},
     "output_type": "display_data"
    },
    {
     "data": {
      "application/vnd.jupyter.widget-view+json": {
       "model_id": "3e0bf295404f49198336823cc9cf3db0",
       "version_major": 2,
       "version_minor": 0
      },
      "text/html": [
       "<p>Failed to display Jupyter Widget of type <code>HBox</code>.</p>\n",
       "<p>\n",
       "  If you're reading this message in the Jupyter Notebook or JupyterLab Notebook, it may mean\n",
       "  that the widgets JavaScript is still loading. If this message persists, it\n",
       "  likely means that the widgets JavaScript library is either not installed or\n",
       "  not enabled. See the <a href=\"https://ipywidgets.readthedocs.io/en/stable/user_install.html\">Jupyter\n",
       "  Widgets Documentation</a> for setup instructions.\n",
       "</p>\n",
       "<p>\n",
       "  If you're reading this message in another frontend (for example, a static\n",
       "  rendering on GitHub or <a href=\"https://nbviewer.jupyter.org/\">NBViewer</a>),\n",
       "  it may mean that your frontend doesn't currently support widgets.\n",
       "</p>\n"
      ],
      "text/plain": [
       "HBox(children=(IntProgress(value=0, max=276), HTML(value='')))"
      ]
     },
     "metadata": {},
     "output_type": "display_data"
    },
    {
     "data": {
      "application/vnd.jupyter.widget-view+json": {
       "model_id": "e2b260c80af749feaf189f7e4d6a87ea",
       "version_major": 2,
       "version_minor": 0
      },
      "text/html": [
       "<p>Failed to display Jupyter Widget of type <code>HBox</code>.</p>\n",
       "<p>\n",
       "  If you're reading this message in the Jupyter Notebook or JupyterLab Notebook, it may mean\n",
       "  that the widgets JavaScript is still loading. If this message persists, it\n",
       "  likely means that the widgets JavaScript library is either not installed or\n",
       "  not enabled. See the <a href=\"https://ipywidgets.readthedocs.io/en/stable/user_install.html\">Jupyter\n",
       "  Widgets Documentation</a> for setup instructions.\n",
       "</p>\n",
       "<p>\n",
       "  If you're reading this message in another frontend (for example, a static\n",
       "  rendering on GitHub or <a href=\"https://nbviewer.jupyter.org/\">NBViewer</a>),\n",
       "  it may mean that your frontend doesn't currently support widgets.\n",
       "</p>\n"
      ],
      "text/plain": [
       "HBox(children=(IntProgress(value=0, max=276), HTML(value='')))"
      ]
     },
     "metadata": {},
     "output_type": "display_data"
    },
    {
     "data": {
      "application/vnd.jupyter.widget-view+json": {
       "model_id": "cd12436cf15a4f10bb8568fb496bc5ed",
       "version_major": 2,
       "version_minor": 0
      },
      "text/html": [
       "<p>Failed to display Jupyter Widget of type <code>HBox</code>.</p>\n",
       "<p>\n",
       "  If you're reading this message in the Jupyter Notebook or JupyterLab Notebook, it may mean\n",
       "  that the widgets JavaScript is still loading. If this message persists, it\n",
       "  likely means that the widgets JavaScript library is either not installed or\n",
       "  not enabled. See the <a href=\"https://ipywidgets.readthedocs.io/en/stable/user_install.html\">Jupyter\n",
       "  Widgets Documentation</a> for setup instructions.\n",
       "</p>\n",
       "<p>\n",
       "  If you're reading this message in another frontend (for example, a static\n",
       "  rendering on GitHub or <a href=\"https://nbviewer.jupyter.org/\">NBViewer</a>),\n",
       "  it may mean that your frontend doesn't currently support widgets.\n",
       "</p>\n"
      ],
      "text/plain": [
       "HBox(children=(IntProgress(value=0, max=276), HTML(value='')))"
      ]
     },
     "metadata": {},
     "output_type": "display_data"
    },
    {
     "data": {
      "application/vnd.jupyter.widget-view+json": {
       "model_id": "6ea5ef4271c04dafb1c14a6ea7818b9d",
       "version_major": 2,
       "version_minor": 0
      },
      "text/html": [
       "<p>Failed to display Jupyter Widget of type <code>HBox</code>.</p>\n",
       "<p>\n",
       "  If you're reading this message in the Jupyter Notebook or JupyterLab Notebook, it may mean\n",
       "  that the widgets JavaScript is still loading. If this message persists, it\n",
       "  likely means that the widgets JavaScript library is either not installed or\n",
       "  not enabled. See the <a href=\"https://ipywidgets.readthedocs.io/en/stable/user_install.html\">Jupyter\n",
       "  Widgets Documentation</a> for setup instructions.\n",
       "</p>\n",
       "<p>\n",
       "  If you're reading this message in another frontend (for example, a static\n",
       "  rendering on GitHub or <a href=\"https://nbviewer.jupyter.org/\">NBViewer</a>),\n",
       "  it may mean that your frontend doesn't currently support widgets.\n",
       "</p>\n"
      ],
      "text/plain": [
       "HBox(children=(IntProgress(value=0, max=276), HTML(value='')))"
      ]
     },
     "metadata": {},
     "output_type": "display_data"
    },
    {
     "data": {
      "application/vnd.jupyter.widget-view+json": {
       "model_id": "6054830e880349dc9c2c88b68049862b",
       "version_major": 2,
       "version_minor": 0
      },
      "text/html": [
       "<p>Failed to display Jupyter Widget of type <code>HBox</code>.</p>\n",
       "<p>\n",
       "  If you're reading this message in the Jupyter Notebook or JupyterLab Notebook, it may mean\n",
       "  that the widgets JavaScript is still loading. If this message persists, it\n",
       "  likely means that the widgets JavaScript library is either not installed or\n",
       "  not enabled. See the <a href=\"https://ipywidgets.readthedocs.io/en/stable/user_install.html\">Jupyter\n",
       "  Widgets Documentation</a> for setup instructions.\n",
       "</p>\n",
       "<p>\n",
       "  If you're reading this message in another frontend (for example, a static\n",
       "  rendering on GitHub or <a href=\"https://nbviewer.jupyter.org/\">NBViewer</a>),\n",
       "  it may mean that your frontend doesn't currently support widgets.\n",
       "</p>\n"
      ],
      "text/plain": [
       "HBox(children=(IntProgress(value=0, max=276), HTML(value='')))"
      ]
     },
     "metadata": {},
     "output_type": "display_data"
    },
    {
     "data": {
      "application/vnd.jupyter.widget-view+json": {
       "model_id": "461949da66e44e4daca1750ebbcb56f5",
       "version_major": 2,
       "version_minor": 0
      },
      "text/html": [
       "<p>Failed to display Jupyter Widget of type <code>HBox</code>.</p>\n",
       "<p>\n",
       "  If you're reading this message in the Jupyter Notebook or JupyterLab Notebook, it may mean\n",
       "  that the widgets JavaScript is still loading. If this message persists, it\n",
       "  likely means that the widgets JavaScript library is either not installed or\n",
       "  not enabled. See the <a href=\"https://ipywidgets.readthedocs.io/en/stable/user_install.html\">Jupyter\n",
       "  Widgets Documentation</a> for setup instructions.\n",
       "</p>\n",
       "<p>\n",
       "  If you're reading this message in another frontend (for example, a static\n",
       "  rendering on GitHub or <a href=\"https://nbviewer.jupyter.org/\">NBViewer</a>),\n",
       "  it may mean that your frontend doesn't currently support widgets.\n",
       "</p>\n"
      ],
      "text/plain": [
       "HBox(children=(IntProgress(value=0, max=276), HTML(value='')))"
      ]
     },
     "metadata": {},
     "output_type": "display_data"
    },
    {
     "data": {
      "application/vnd.jupyter.widget-view+json": {
       "model_id": "4a27c49d1fd440e1889e1d436041f364",
       "version_major": 2,
       "version_minor": 0
      },
      "text/html": [
       "<p>Failed to display Jupyter Widget of type <code>HBox</code>.</p>\n",
       "<p>\n",
       "  If you're reading this message in the Jupyter Notebook or JupyterLab Notebook, it may mean\n",
       "  that the widgets JavaScript is still loading. If this message persists, it\n",
       "  likely means that the widgets JavaScript library is either not installed or\n",
       "  not enabled. See the <a href=\"https://ipywidgets.readthedocs.io/en/stable/user_install.html\">Jupyter\n",
       "  Widgets Documentation</a> for setup instructions.\n",
       "</p>\n",
       "<p>\n",
       "  If you're reading this message in another frontend (for example, a static\n",
       "  rendering on GitHub or <a href=\"https://nbviewer.jupyter.org/\">NBViewer</a>),\n",
       "  it may mean that your frontend doesn't currently support widgets.\n",
       "</p>\n"
      ],
      "text/plain": [
       "HBox(children=(IntProgress(value=0, max=276), HTML(value='')))"
      ]
     },
     "metadata": {},
     "output_type": "display_data"
    },
    {
     "name": "stdout",
     "output_type": "stream",
     "text": [
      "Second best network, 15 scrambles\n",
      "Second best network, 1000 scrambles\n",
      "nan nan [0.8333 0.8148 0.5    0.1667 0.0472 0.0112 0.0109 0.0036 0.        nan\n",
      "    nan    nan    nan    nan] [ 15.4     14.4545  17.4314  18.4118  16.3333  37.3333  62.3333 162.\n",
      "      nan      nan      nan      nan      nan      nan] [ 1.8     3.1818  4.6078  5.9412  7.8333 14.     22.3333 70.         nan\n",
      "     nan     nan     nan     nan     nan] nan nan nan nan\n",
      "Naive_14\n",
      "Raw network, superflip\n"
     ]
    },
    {
     "name": "stderr",
     "output_type": "stream",
     "text": [
      "/home/joe/anaconda3/lib/python3.6/site-packages/ipykernel_launcher.py:275: RuntimeWarning: invalid value encountered in true_divide\n",
      "/home/joe/anaconda3/lib/python3.6/site-packages/ipykernel_launcher.py:276: RuntimeWarning: invalid value encountered in true_divide\n",
      "/home/joe/anaconda3/lib/python3.6/site-packages/ipykernel_launcher.py:282: RuntimeWarning: invalid value encountered in true_divide\n",
      "/home/joe/anaconda3/lib/python3.6/site-packages/ipykernel_launcher.py:284: RuntimeWarning: invalid value encountered in true_divide\n",
      "/home/joe/anaconda3/lib/python3.6/site-packages/ipykernel_launcher.py:285: RuntimeWarning: invalid value encountered in true_divide\n",
      "/home/joe/anaconda3/lib/python3.6/site-packages/ipykernel_launcher.py:286: RuntimeWarning: invalid value encountered in true_divide\n"
     ]
    },
    {
     "data": {
      "application/vnd.jupyter.widget-view+json": {
       "model_id": "456f6d1d209842f58a33530a055525da",
       "version_major": 2,
       "version_minor": 0
      },
      "text/html": [
       "<p>Failed to display Jupyter Widget of type <code>HBox</code>.</p>\n",
       "<p>\n",
       "  If you're reading this message in the Jupyter Notebook or JupyterLab Notebook, it may mean\n",
       "  that the widgets JavaScript is still loading. If this message persists, it\n",
       "  likely means that the widgets JavaScript library is either not installed or\n",
       "  not enabled. See the <a href=\"https://ipywidgets.readthedocs.io/en/stable/user_install.html\">Jupyter\n",
       "  Widgets Documentation</a> for setup instructions.\n",
       "</p>\n",
       "<p>\n",
       "  If you're reading this message in another frontend (for example, a static\n",
       "  rendering on GitHub or <a href=\"https://nbviewer.jupyter.org/\">NBViewer</a>),\n",
       "  it may mean that your frontend doesn't currently support widgets.\n",
       "</p>\n"
      ],
      "text/plain": [
       "HBox(children=(IntProgress(value=0, max=276), HTML(value='')))"
      ]
     },
     "metadata": {},
     "output_type": "display_data"
    },
    {
     "data": {
      "application/vnd.jupyter.widget-view+json": {
       "model_id": "cd8867c1bf5f45c490f843c17704b71b",
       "version_major": 2,
       "version_minor": 0
      },
      "text/html": [
       "<p>Failed to display Jupyter Widget of type <code>HBox</code>.</p>\n",
       "<p>\n",
       "  If you're reading this message in the Jupyter Notebook or JupyterLab Notebook, it may mean\n",
       "  that the widgets JavaScript is still loading. If this message persists, it\n",
       "  likely means that the widgets JavaScript library is either not installed or\n",
       "  not enabled. See the <a href=\"https://ipywidgets.readthedocs.io/en/stable/user_install.html\">Jupyter\n",
       "  Widgets Documentation</a> for setup instructions.\n",
       "</p>\n",
       "<p>\n",
       "  If you're reading this message in another frontend (for example, a static\n",
       "  rendering on GitHub or <a href=\"https://nbviewer.jupyter.org/\">NBViewer</a>),\n",
       "  it may mean that your frontend doesn't currently support widgets.\n",
       "</p>\n"
      ],
      "text/plain": [
       "HBox(children=(IntProgress(value=0, max=276), HTML(value='')))"
      ]
     },
     "metadata": {},
     "output_type": "display_data"
    },
    {
     "data": {
      "application/vnd.jupyter.widget-view+json": {
       "model_id": "6b14a50358fa4fdfbe6347fdb532d4e9",
       "version_major": 2,
       "version_minor": 0
      },
      "text/html": [
       "<p>Failed to display Jupyter Widget of type <code>HBox</code>.</p>\n",
       "<p>\n",
       "  If you're reading this message in the Jupyter Notebook or JupyterLab Notebook, it may mean\n",
       "  that the widgets JavaScript is still loading. If this message persists, it\n",
       "  likely means that the widgets JavaScript library is either not installed or\n",
       "  not enabled. See the <a href=\"https://ipywidgets.readthedocs.io/en/stable/user_install.html\">Jupyter\n",
       "  Widgets Documentation</a> for setup instructions.\n",
       "</p>\n",
       "<p>\n",
       "  If you're reading this message in another frontend (for example, a static\n",
       "  rendering on GitHub or <a href=\"https://nbviewer.jupyter.org/\">NBViewer</a>),\n",
       "  it may mean that your frontend doesn't currently support widgets.\n",
       "</p>\n"
      ],
      "text/plain": [
       "HBox(children=(IntProgress(value=0, max=276), HTML(value='')))"
      ]
     },
     "metadata": {},
     "output_type": "display_data"
    },
    {
     "data": {
      "application/vnd.jupyter.widget-view+json": {
       "model_id": "51ecbf0687834f4991f74881ffdf3291",
       "version_major": 2,
       "version_minor": 0
      },
      "text/html": [
       "<p>Failed to display Jupyter Widget of type <code>HBox</code>.</p>\n",
       "<p>\n",
       "  If you're reading this message in the Jupyter Notebook or JupyterLab Notebook, it may mean\n",
       "  that the widgets JavaScript is still loading. If this message persists, it\n",
       "  likely means that the widgets JavaScript library is either not installed or\n",
       "  not enabled. See the <a href=\"https://ipywidgets.readthedocs.io/en/stable/user_install.html\">Jupyter\n",
       "  Widgets Documentation</a> for setup instructions.\n",
       "</p>\n",
       "<p>\n",
       "  If you're reading this message in another frontend (for example, a static\n",
       "  rendering on GitHub or <a href=\"https://nbviewer.jupyter.org/\">NBViewer</a>),\n",
       "  it may mean that your frontend doesn't currently support widgets.\n",
       "</p>\n"
      ],
      "text/plain": [
       "HBox(children=(IntProgress(value=0, max=276), HTML(value='')))"
      ]
     },
     "metadata": {},
     "output_type": "display_data"
    },
    {
     "data": {
      "application/vnd.jupyter.widget-view+json": {
       "model_id": "e9040aa350344444b9071e852294e010",
       "version_major": 2,
       "version_minor": 0
      },
      "text/html": [
       "<p>Failed to display Jupyter Widget of type <code>HBox</code>.</p>\n",
       "<p>\n",
       "  If you're reading this message in the Jupyter Notebook or JupyterLab Notebook, it may mean\n",
       "  that the widgets JavaScript is still loading. If this message persists, it\n",
       "  likely means that the widgets JavaScript library is either not installed or\n",
       "  not enabled. See the <a href=\"https://ipywidgets.readthedocs.io/en/stable/user_install.html\">Jupyter\n",
       "  Widgets Documentation</a> for setup instructions.\n",
       "</p>\n",
       "<p>\n",
       "  If you're reading this message in another frontend (for example, a static\n",
       "  rendering on GitHub or <a href=\"https://nbviewer.jupyter.org/\">NBViewer</a>),\n",
       "  it may mean that your frontend doesn't currently support widgets.\n",
       "</p>\n"
      ],
      "text/plain": [
       "HBox(children=(IntProgress(value=0, max=276), HTML(value='')))"
      ]
     },
     "metadata": {},
     "output_type": "display_data"
    },
    {
     "data": {
      "application/vnd.jupyter.widget-view+json": {
       "model_id": "ddf1cce5c21c42149ecdd0ef0a8ed6f1",
       "version_major": 2,
       "version_minor": 0
      },
      "text/html": [
       "<p>Failed to display Jupyter Widget of type <code>HBox</code>.</p>\n",
       "<p>\n",
       "  If you're reading this message in the Jupyter Notebook or JupyterLab Notebook, it may mean\n",
       "  that the widgets JavaScript is still loading. If this message persists, it\n",
       "  likely means that the widgets JavaScript library is either not installed or\n",
       "  not enabled. See the <a href=\"https://ipywidgets.readthedocs.io/en/stable/user_install.html\">Jupyter\n",
       "  Widgets Documentation</a> for setup instructions.\n",
       "</p>\n",
       "<p>\n",
       "  If you're reading this message in another frontend (for example, a static\n",
       "  rendering on GitHub or <a href=\"https://nbviewer.jupyter.org/\">NBViewer</a>),\n",
       "  it may mean that your frontend doesn't currently support widgets.\n",
       "</p>\n"
      ],
      "text/plain": [
       "HBox(children=(IntProgress(value=0, max=276), HTML(value='')))"
      ]
     },
     "metadata": {},
     "output_type": "display_data"
    },
    {
     "data": {
      "application/vnd.jupyter.widget-view+json": {
       "model_id": "aaef0b34ca9e4b31adb439db493959cd",
       "version_major": 2,
       "version_minor": 0
      },
      "text/html": [
       "<p>Failed to display Jupyter Widget of type <code>HBox</code>.</p>\n",
       "<p>\n",
       "  If you're reading this message in the Jupyter Notebook or JupyterLab Notebook, it may mean\n",
       "  that the widgets JavaScript is still loading. If this message persists, it\n",
       "  likely means that the widgets JavaScript library is either not installed or\n",
       "  not enabled. See the <a href=\"https://ipywidgets.readthedocs.io/en/stable/user_install.html\">Jupyter\n",
       "  Widgets Documentation</a> for setup instructions.\n",
       "</p>\n",
       "<p>\n",
       "  If you're reading this message in another frontend (for example, a static\n",
       "  rendering on GitHub or <a href=\"https://nbviewer.jupyter.org/\">NBViewer</a>),\n",
       "  it may mean that your frontend doesn't currently support widgets.\n",
       "</p>\n"
      ],
      "text/plain": [
       "HBox(children=(IntProgress(value=0, max=276), HTML(value='')))"
      ]
     },
     "metadata": {},
     "output_type": "display_data"
    },
    {
     "data": {
      "application/vnd.jupyter.widget-view+json": {
       "model_id": "a6a9351f755043c3a71f7673e522cf77",
       "version_major": 2,
       "version_minor": 0
      },
      "text/html": [
       "<p>Failed to display Jupyter Widget of type <code>HBox</code>.</p>\n",
       "<p>\n",
       "  If you're reading this message in the Jupyter Notebook or JupyterLab Notebook, it may mean\n",
       "  that the widgets JavaScript is still loading. If this message persists, it\n",
       "  likely means that the widgets JavaScript library is either not installed or\n",
       "  not enabled. See the <a href=\"https://ipywidgets.readthedocs.io/en/stable/user_install.html\">Jupyter\n",
       "  Widgets Documentation</a> for setup instructions.\n",
       "</p>\n",
       "<p>\n",
       "  If you're reading this message in another frontend (for example, a static\n",
       "  rendering on GitHub or <a href=\"https://nbviewer.jupyter.org/\">NBViewer</a>),\n",
       "  it may mean that your frontend doesn't currently support widgets.\n",
       "</p>\n"
      ],
      "text/plain": [
       "HBox(children=(IntProgress(value=0, max=276), HTML(value='')))"
      ]
     },
     "metadata": {},
     "output_type": "display_data"
    },
    {
     "data": {
      "application/vnd.jupyter.widget-view+json": {
       "model_id": "91dfdd599b9f4dc599d2b6d0d6414dc9",
       "version_major": 2,
       "version_minor": 0
      },
      "text/html": [
       "<p>Failed to display Jupyter Widget of type <code>HBox</code>.</p>\n",
       "<p>\n",
       "  If you're reading this message in the Jupyter Notebook or JupyterLab Notebook, it may mean\n",
       "  that the widgets JavaScript is still loading. If this message persists, it\n",
       "  likely means that the widgets JavaScript library is either not installed or\n",
       "  not enabled. See the <a href=\"https://ipywidgets.readthedocs.io/en/stable/user_install.html\">Jupyter\n",
       "  Widgets Documentation</a> for setup instructions.\n",
       "</p>\n",
       "<p>\n",
       "  If you're reading this message in another frontend (for example, a static\n",
       "  rendering on GitHub or <a href=\"https://nbviewer.jupyter.org/\">NBViewer</a>),\n",
       "  it may mean that your frontend doesn't currently support widgets.\n",
       "</p>\n"
      ],
      "text/plain": [
       "HBox(children=(IntProgress(value=0, max=276), HTML(value='')))"
      ]
     },
     "metadata": {},
     "output_type": "display_data"
    },
    {
     "data": {
      "application/vnd.jupyter.widget-view+json": {
       "model_id": "356990ad8a2b48f882282378d7e38f5b",
       "version_major": 2,
       "version_minor": 0
      },
      "text/html": [
       "<p>Failed to display Jupyter Widget of type <code>HBox</code>.</p>\n",
       "<p>\n",
       "  If you're reading this message in the Jupyter Notebook or JupyterLab Notebook, it may mean\n",
       "  that the widgets JavaScript is still loading. If this message persists, it\n",
       "  likely means that the widgets JavaScript library is either not installed or\n",
       "  not enabled. See the <a href=\"https://ipywidgets.readthedocs.io/en/stable/user_install.html\">Jupyter\n",
       "  Widgets Documentation</a> for setup instructions.\n",
       "</p>\n",
       "<p>\n",
       "  If you're reading this message in another frontend (for example, a static\n",
       "  rendering on GitHub or <a href=\"https://nbviewer.jupyter.org/\">NBViewer</a>),\n",
       "  it may mean that your frontend doesn't currently support widgets.\n",
       "</p>\n"
      ],
      "text/plain": [
       "HBox(children=(IntProgress(value=0, max=276), HTML(value='')))"
      ]
     },
     "metadata": {},
     "output_type": "display_data"
    },
    {
     "data": {
      "application/vnd.jupyter.widget-view+json": {
       "model_id": "fb212c1c92a94c77aab53a7e406e4bd9",
       "version_major": 2,
       "version_minor": 0
      },
      "text/html": [
       "<p>Failed to display Jupyter Widget of type <code>HBox</code>.</p>\n",
       "<p>\n",
       "  If you're reading this message in the Jupyter Notebook or JupyterLab Notebook, it may mean\n",
       "  that the widgets JavaScript is still loading. If this message persists, it\n",
       "  likely means that the widgets JavaScript library is either not installed or\n",
       "  not enabled. See the <a href=\"https://ipywidgets.readthedocs.io/en/stable/user_install.html\">Jupyter\n",
       "  Widgets Documentation</a> for setup instructions.\n",
       "</p>\n",
       "<p>\n",
       "  If you're reading this message in another frontend (for example, a static\n",
       "  rendering on GitHub or <a href=\"https://nbviewer.jupyter.org/\">NBViewer</a>),\n",
       "  it may mean that your frontend doesn't currently support widgets.\n",
       "</p>\n"
      ],
      "text/plain": [
       "HBox(children=(IntProgress(value=0, max=276), HTML(value='')))"
      ]
     },
     "metadata": {},
     "output_type": "display_data"
    },
    {
     "data": {
      "application/vnd.jupyter.widget-view+json": {
       "model_id": "82093797816a4a20852b17c5e8316af6",
       "version_major": 2,
       "version_minor": 0
      },
      "text/html": [
       "<p>Failed to display Jupyter Widget of type <code>HBox</code>.</p>\n",
       "<p>\n",
       "  If you're reading this message in the Jupyter Notebook or JupyterLab Notebook, it may mean\n",
       "  that the widgets JavaScript is still loading. If this message persists, it\n",
       "  likely means that the widgets JavaScript library is either not installed or\n",
       "  not enabled. See the <a href=\"https://ipywidgets.readthedocs.io/en/stable/user_install.html\">Jupyter\n",
       "  Widgets Documentation</a> for setup instructions.\n",
       "</p>\n",
       "<p>\n",
       "  If you're reading this message in another frontend (for example, a static\n",
       "  rendering on GitHub or <a href=\"https://nbviewer.jupyter.org/\">NBViewer</a>),\n",
       "  it may mean that your frontend doesn't currently support widgets.\n",
       "</p>\n"
      ],
      "text/plain": [
       "HBox(children=(IntProgress(value=0, max=276), HTML(value='')))"
      ]
     },
     "metadata": {},
     "output_type": "display_data"
    },
    {
     "name": "stdout",
     "output_type": "stream",
     "text": [
      "Raw network, 15 scrambles\n",
      "Raw network, 1000 scrambles\n",
      "nan -0.028750375470555145 [1.     1.     1.     1.     0.9961 0.8577 0.4562 0.2044 0.073  0.0146\n",
      " 0.0109 0.        nan    nan] [ 1.      2.      3.      4.      5.0237  6.2358  8.184   9.4286 11.3\n",
      " 13.     13.6667     nan     nan     nan] nan nan nan nan\n",
      "Second best, superflip\n"
     ]
    },
    {
     "data": {
      "application/vnd.jupyter.widget-view+json": {
       "model_id": "211cd6e4979a4549848b33cff7022d6e",
       "version_major": 2,
       "version_minor": 0
      },
      "text/html": [
       "<p>Failed to display Jupyter Widget of type <code>HBox</code>.</p>\n",
       "<p>\n",
       "  If you're reading this message in the Jupyter Notebook or JupyterLab Notebook, it may mean\n",
       "  that the widgets JavaScript is still loading. If this message persists, it\n",
       "  likely means that the widgets JavaScript library is either not installed or\n",
       "  not enabled. See the <a href=\"https://ipywidgets.readthedocs.io/en/stable/user_install.html\">Jupyter\n",
       "  Widgets Documentation</a> for setup instructions.\n",
       "</p>\n",
       "<p>\n",
       "  If you're reading this message in another frontend (for example, a static\n",
       "  rendering on GitHub or <a href=\"https://nbviewer.jupyter.org/\">NBViewer</a>),\n",
       "  it may mean that your frontend doesn't currently support widgets.\n",
       "</p>\n"
      ],
      "text/plain": [
       "HBox(children=(IntProgress(value=0, max=276), HTML(value='')))"
      ]
     },
     "metadata": {},
     "output_type": "display_data"
    },
    {
     "data": {
      "application/vnd.jupyter.widget-view+json": {
       "model_id": "b3ade422c05348b1b591282405d86b98",
       "version_major": 2,
       "version_minor": 0
      },
      "text/html": [
       "<p>Failed to display Jupyter Widget of type <code>HBox</code>.</p>\n",
       "<p>\n",
       "  If you're reading this message in the Jupyter Notebook or JupyterLab Notebook, it may mean\n",
       "  that the widgets JavaScript is still loading. If this message persists, it\n",
       "  likely means that the widgets JavaScript library is either not installed or\n",
       "  not enabled. See the <a href=\"https://ipywidgets.readthedocs.io/en/stable/user_install.html\">Jupyter\n",
       "  Widgets Documentation</a> for setup instructions.\n",
       "</p>\n",
       "<p>\n",
       "  If you're reading this message in another frontend (for example, a static\n",
       "  rendering on GitHub or <a href=\"https://nbviewer.jupyter.org/\">NBViewer</a>),\n",
       "  it may mean that your frontend doesn't currently support widgets.\n",
       "</p>\n"
      ],
      "text/plain": [
       "HBox(children=(IntProgress(value=0, max=276), HTML(value='')))"
      ]
     },
     "metadata": {},
     "output_type": "display_data"
    },
    {
     "data": {
      "application/vnd.jupyter.widget-view+json": {
       "model_id": "eccd693fcfc64471b765566ebaa787b9",
       "version_major": 2,
       "version_minor": 0
      },
      "text/html": [
       "<p>Failed to display Jupyter Widget of type <code>HBox</code>.</p>\n",
       "<p>\n",
       "  If you're reading this message in the Jupyter Notebook or JupyterLab Notebook, it may mean\n",
       "  that the widgets JavaScript is still loading. If this message persists, it\n",
       "  likely means that the widgets JavaScript library is either not installed or\n",
       "  not enabled. See the <a href=\"https://ipywidgets.readthedocs.io/en/stable/user_install.html\">Jupyter\n",
       "  Widgets Documentation</a> for setup instructions.\n",
       "</p>\n",
       "<p>\n",
       "  If you're reading this message in another frontend (for example, a static\n",
       "  rendering on GitHub or <a href=\"https://nbviewer.jupyter.org/\">NBViewer</a>),\n",
       "  it may mean that your frontend doesn't currently support widgets.\n",
       "</p>\n"
      ],
      "text/plain": [
       "HBox(children=(IntProgress(value=0, max=276), HTML(value='')))"
      ]
     },
     "metadata": {},
     "output_type": "display_data"
    },
    {
     "data": {
      "application/vnd.jupyter.widget-view+json": {
       "model_id": "c39651b0656c472aae455c118092f679",
       "version_major": 2,
       "version_minor": 0
      },
      "text/html": [
       "<p>Failed to display Jupyter Widget of type <code>HBox</code>.</p>\n",
       "<p>\n",
       "  If you're reading this message in the Jupyter Notebook or JupyterLab Notebook, it may mean\n",
       "  that the widgets JavaScript is still loading. If this message persists, it\n",
       "  likely means that the widgets JavaScript library is either not installed or\n",
       "  not enabled. See the <a href=\"https://ipywidgets.readthedocs.io/en/stable/user_install.html\">Jupyter\n",
       "  Widgets Documentation</a> for setup instructions.\n",
       "</p>\n",
       "<p>\n",
       "  If you're reading this message in another frontend (for example, a static\n",
       "  rendering on GitHub or <a href=\"https://nbviewer.jupyter.org/\">NBViewer</a>),\n",
       "  it may mean that your frontend doesn't currently support widgets.\n",
       "</p>\n"
      ],
      "text/plain": [
       "HBox(children=(IntProgress(value=0, max=276), HTML(value='')))"
      ]
     },
     "metadata": {},
     "output_type": "display_data"
    },
    {
     "data": {
      "application/vnd.jupyter.widget-view+json": {
       "model_id": "b8a026f5c9a046bda333bae52429835d",
       "version_major": 2,
       "version_minor": 0
      },
      "text/html": [
       "<p>Failed to display Jupyter Widget of type <code>HBox</code>.</p>\n",
       "<p>\n",
       "  If you're reading this message in the Jupyter Notebook or JupyterLab Notebook, it may mean\n",
       "  that the widgets JavaScript is still loading. If this message persists, it\n",
       "  likely means that the widgets JavaScript library is either not installed or\n",
       "  not enabled. See the <a href=\"https://ipywidgets.readthedocs.io/en/stable/user_install.html\">Jupyter\n",
       "  Widgets Documentation</a> for setup instructions.\n",
       "</p>\n",
       "<p>\n",
       "  If you're reading this message in another frontend (for example, a static\n",
       "  rendering on GitHub or <a href=\"https://nbviewer.jupyter.org/\">NBViewer</a>),\n",
       "  it may mean that your frontend doesn't currently support widgets.\n",
       "</p>\n"
      ],
      "text/plain": [
       "HBox(children=(IntProgress(value=0, max=276), HTML(value='')))"
      ]
     },
     "metadata": {},
     "output_type": "display_data"
    },
    {
     "data": {
      "application/vnd.jupyter.widget-view+json": {
       "model_id": "ad35f72b3f414c289890048b00bdfcf0",
       "version_major": 2,
       "version_minor": 0
      },
      "text/html": [
       "<p>Failed to display Jupyter Widget of type <code>HBox</code>.</p>\n",
       "<p>\n",
       "  If you're reading this message in the Jupyter Notebook or JupyterLab Notebook, it may mean\n",
       "  that the widgets JavaScript is still loading. If this message persists, it\n",
       "  likely means that the widgets JavaScript library is either not installed or\n",
       "  not enabled. See the <a href=\"https://ipywidgets.readthedocs.io/en/stable/user_install.html\">Jupyter\n",
       "  Widgets Documentation</a> for setup instructions.\n",
       "</p>\n",
       "<p>\n",
       "  If you're reading this message in another frontend (for example, a static\n",
       "  rendering on GitHub or <a href=\"https://nbviewer.jupyter.org/\">NBViewer</a>),\n",
       "  it may mean that your frontend doesn't currently support widgets.\n",
       "</p>\n"
      ],
      "text/plain": [
       "HBox(children=(IntProgress(value=0, max=276), HTML(value='')))"
      ]
     },
     "metadata": {},
     "output_type": "display_data"
    },
    {
     "data": {
      "application/vnd.jupyter.widget-view+json": {
       "model_id": "7e59a320d2dd464cafbe2a287c91ef20",
       "version_major": 2,
       "version_minor": 0
      },
      "text/html": [
       "<p>Failed to display Jupyter Widget of type <code>HBox</code>.</p>\n",
       "<p>\n",
       "  If you're reading this message in the Jupyter Notebook or JupyterLab Notebook, it may mean\n",
       "  that the widgets JavaScript is still loading. If this message persists, it\n",
       "  likely means that the widgets JavaScript library is either not installed or\n",
       "  not enabled. See the <a href=\"https://ipywidgets.readthedocs.io/en/stable/user_install.html\">Jupyter\n",
       "  Widgets Documentation</a> for setup instructions.\n",
       "</p>\n",
       "<p>\n",
       "  If you're reading this message in another frontend (for example, a static\n",
       "  rendering on GitHub or <a href=\"https://nbviewer.jupyter.org/\">NBViewer</a>),\n",
       "  it may mean that your frontend doesn't currently support widgets.\n",
       "</p>\n"
      ],
      "text/plain": [
       "HBox(children=(IntProgress(value=0, max=276), HTML(value='')))"
      ]
     },
     "metadata": {},
     "output_type": "display_data"
    },
    {
     "data": {
      "application/vnd.jupyter.widget-view+json": {
       "model_id": "0a4b83aa046b4b7a8c1420377f4076b1",
       "version_major": 2,
       "version_minor": 0
      },
      "text/html": [
       "<p>Failed to display Jupyter Widget of type <code>HBox</code>.</p>\n",
       "<p>\n",
       "  If you're reading this message in the Jupyter Notebook or JupyterLab Notebook, it may mean\n",
       "  that the widgets JavaScript is still loading. If this message persists, it\n",
       "  likely means that the widgets JavaScript library is either not installed or\n",
       "  not enabled. See the <a href=\"https://ipywidgets.readthedocs.io/en/stable/user_install.html\">Jupyter\n",
       "  Widgets Documentation</a> for setup instructions.\n",
       "</p>\n",
       "<p>\n",
       "  If you're reading this message in another frontend (for example, a static\n",
       "  rendering on GitHub or <a href=\"https://nbviewer.jupyter.org/\">NBViewer</a>),\n",
       "  it may mean that your frontend doesn't currently support widgets.\n",
       "</p>\n"
      ],
      "text/plain": [
       "HBox(children=(IntProgress(value=0, max=276), HTML(value='')))"
      ]
     },
     "metadata": {},
     "output_type": "display_data"
    },
    {
     "data": {
      "application/vnd.jupyter.widget-view+json": {
       "model_id": "e5fa783b3e5941d78034f59a5cff459e",
       "version_major": 2,
       "version_minor": 0
      },
      "text/html": [
       "<p>Failed to display Jupyter Widget of type <code>HBox</code>.</p>\n",
       "<p>\n",
       "  If you're reading this message in the Jupyter Notebook or JupyterLab Notebook, it may mean\n",
       "  that the widgets JavaScript is still loading. If this message persists, it\n",
       "  likely means that the widgets JavaScript library is either not installed or\n",
       "  not enabled. See the <a href=\"https://ipywidgets.readthedocs.io/en/stable/user_install.html\">Jupyter\n",
       "  Widgets Documentation</a> for setup instructions.\n",
       "</p>\n",
       "<p>\n",
       "  If you're reading this message in another frontend (for example, a static\n",
       "  rendering on GitHub or <a href=\"https://nbviewer.jupyter.org/\">NBViewer</a>),\n",
       "  it may mean that your frontend doesn't currently support widgets.\n",
       "</p>\n"
      ],
      "text/plain": [
       "HBox(children=(IntProgress(value=0, max=276), HTML(value='')))"
      ]
     },
     "metadata": {},
     "output_type": "display_data"
    },
    {
     "data": {
      "application/vnd.jupyter.widget-view+json": {
       "model_id": "4ea537a298514287981ca7acd952063b",
       "version_major": 2,
       "version_minor": 0
      },
      "text/html": [
       "<p>Failed to display Jupyter Widget of type <code>HBox</code>.</p>\n",
       "<p>\n",
       "  If you're reading this message in the Jupyter Notebook or JupyterLab Notebook, it may mean\n",
       "  that the widgets JavaScript is still loading. If this message persists, it\n",
       "  likely means that the widgets JavaScript library is either not installed or\n",
       "  not enabled. See the <a href=\"https://ipywidgets.readthedocs.io/en/stable/user_install.html\">Jupyter\n",
       "  Widgets Documentation</a> for setup instructions.\n",
       "</p>\n",
       "<p>\n",
       "  If you're reading this message in another frontend (for example, a static\n",
       "  rendering on GitHub or <a href=\"https://nbviewer.jupyter.org/\">NBViewer</a>),\n",
       "  it may mean that your frontend doesn't currently support widgets.\n",
       "</p>\n"
      ],
      "text/plain": [
       "HBox(children=(IntProgress(value=0, max=276), HTML(value='')))"
      ]
     },
     "metadata": {},
     "output_type": "display_data"
    },
    {
     "data": {
      "application/vnd.jupyter.widget-view+json": {
       "model_id": "c999419eb5834f14a1722c149f7fe20d",
       "version_major": 2,
       "version_minor": 0
      },
      "text/html": [
       "<p>Failed to display Jupyter Widget of type <code>HBox</code>.</p>\n",
       "<p>\n",
       "  If you're reading this message in the Jupyter Notebook or JupyterLab Notebook, it may mean\n",
       "  that the widgets JavaScript is still loading. If this message persists, it\n",
       "  likely means that the widgets JavaScript library is either not installed or\n",
       "  not enabled. See the <a href=\"https://ipywidgets.readthedocs.io/en/stable/user_install.html\">Jupyter\n",
       "  Widgets Documentation</a> for setup instructions.\n",
       "</p>\n",
       "<p>\n",
       "  If you're reading this message in another frontend (for example, a static\n",
       "  rendering on GitHub or <a href=\"https://nbviewer.jupyter.org/\">NBViewer</a>),\n",
       "  it may mean that your frontend doesn't currently support widgets.\n",
       "</p>\n"
      ],
      "text/plain": [
       "HBox(children=(IntProgress(value=0, max=276), HTML(value='')))"
      ]
     },
     "metadata": {},
     "output_type": "display_data"
    },
    {
     "data": {
      "application/vnd.jupyter.widget-view+json": {
       "model_id": "316023ad21684366903c130ef9d9f7c9",
       "version_major": 2,
       "version_minor": 0
      },
      "text/html": [
       "<p>Failed to display Jupyter Widget of type <code>HBox</code>.</p>\n",
       "<p>\n",
       "  If you're reading this message in the Jupyter Notebook or JupyterLab Notebook, it may mean\n",
       "  that the widgets JavaScript is still loading. If this message persists, it\n",
       "  likely means that the widgets JavaScript library is either not installed or\n",
       "  not enabled. See the <a href=\"https://ipywidgets.readthedocs.io/en/stable/user_install.html\">Jupyter\n",
       "  Widgets Documentation</a> for setup instructions.\n",
       "</p>\n",
       "<p>\n",
       "  If you're reading this message in another frontend (for example, a static\n",
       "  rendering on GitHub or <a href=\"https://nbviewer.jupyter.org/\">NBViewer</a>),\n",
       "  it may mean that your frontend doesn't currently support widgets.\n",
       "</p>\n"
      ],
      "text/plain": [
       "HBox(children=(IntProgress(value=0, max=276), HTML(value='')))"
      ]
     },
     "metadata": {},
     "output_type": "display_data"
    },
    {
     "data": {
      "application/vnd.jupyter.widget-view+json": {
       "model_id": "88623c9ca4f340018a12396023169165",
       "version_major": 2,
       "version_minor": 0
      },
      "text/html": [
       "<p>Failed to display Jupyter Widget of type <code>HBox</code>.</p>\n",
       "<p>\n",
       "  If you're reading this message in the Jupyter Notebook or JupyterLab Notebook, it may mean\n",
       "  that the widgets JavaScript is still loading. If this message persists, it\n",
       "  likely means that the widgets JavaScript library is either not installed or\n",
       "  not enabled. See the <a href=\"https://ipywidgets.readthedocs.io/en/stable/user_install.html\">Jupyter\n",
       "  Widgets Documentation</a> for setup instructions.\n",
       "</p>\n",
       "<p>\n",
       "  If you're reading this message in another frontend (for example, a static\n",
       "  rendering on GitHub or <a href=\"https://nbviewer.jupyter.org/\">NBViewer</a>),\n",
       "  it may mean that your frontend doesn't currently support widgets.\n",
       "</p>\n"
      ],
      "text/plain": [
       "HBox(children=(IntProgress(value=0, max=276), HTML(value='')))"
      ]
     },
     "metadata": {},
     "output_type": "display_data"
    },
    {
     "data": {
      "application/vnd.jupyter.widget-view+json": {
       "model_id": "d19322b8b0db4d8e9abf6d97871b3f5f",
       "version_major": 2,
       "version_minor": 0
      },
      "text/html": [
       "<p>Failed to display Jupyter Widget of type <code>HBox</code>.</p>\n",
       "<p>\n",
       "  If you're reading this message in the Jupyter Notebook or JupyterLab Notebook, it may mean\n",
       "  that the widgets JavaScript is still loading. If this message persists, it\n",
       "  likely means that the widgets JavaScript library is either not installed or\n",
       "  not enabled. See the <a href=\"https://ipywidgets.readthedocs.io/en/stable/user_install.html\">Jupyter\n",
       "  Widgets Documentation</a> for setup instructions.\n",
       "</p>\n",
       "<p>\n",
       "  If you're reading this message in another frontend (for example, a static\n",
       "  rendering on GitHub or <a href=\"https://nbviewer.jupyter.org/\">NBViewer</a>),\n",
       "  it may mean that your frontend doesn't currently support widgets.\n",
       "</p>\n"
      ],
      "text/plain": [
       "HBox(children=(IntProgress(value=0, max=276), HTML(value='')))"
      ]
     },
     "metadata": {},
     "output_type": "display_data"
    },
    {
     "name": "stdout",
     "output_type": "stream",
     "text": [
      "Second best network, 15 scrambles\n",
      "Second best network, 1000 scrambles\n",
      "1.0 -0.10968554144777787 [1. 1. 1. 1. 1. 1. 1. 1. 1. 1. 1. 1. 1. 1.] [  1.       2.       3.       4.       5.4252  28.1798 109.7664 169.7883\n",
      " 203.146  224.6788 221.8218 229.3309 238.2655 242.2246] [ 1.      2.      3.      4.      5.2205 15.2135 49.0876 72.2847 86.9197\n",
      " 95.2336 92.8836 94.3636 97.4364 98.2971] nan nan nan nan\n"
     ]
    }
   ],
   "source": [
    "test_strings = ['LBF_14', 'Mixed_14', 'Naive_14']\n",
    "for test_string in test_strings:\n",
    "    print(test_string)\n",
    "    test(test_string, True, True, False)"
   ]
  },
  {
   "cell_type": "code",
   "execution_count": null,
   "metadata": {},
   "outputs": [],
   "source": []
  }
 ],
 "metadata": {
  "kernelspec": {
   "display_name": "Python 3",
   "language": "python",
   "name": "python3"
  },
  "language_info": {
   "codemirror_mode": {
    "name": "ipython",
    "version": 3
   },
   "file_extension": ".py",
   "mimetype": "text/x-python",
   "name": "python",
   "nbconvert_exporter": "python",
   "pygments_lexer": "ipython3",
   "version": "3.6.9"
  }
 },
 "nbformat": 4,
 "nbformat_minor": 2
}
