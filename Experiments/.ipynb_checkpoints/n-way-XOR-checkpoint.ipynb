{
 "cells": [
  {
   "cell_type": "code",
   "execution_count": 23,
   "metadata": {},
   "outputs": [],
   "source": [
    "import random\n",
    "import torch\n",
    "import torch.nn as nn\n",
    "import torch.optim as optim\n",
    "import torch.nn.functional as F\n",
    "import numpy as np\n",
    "import matplotlib.pyplot as plt\n",
    "import matplotlib.animation as animation\n",
    "import copy\n",
    "from networks import DQN\n",
    "from scipy import stats\n",
    "import itertools\n",
    "import time"
   ]
  },
  {
   "cell_type": "code",
   "execution_count": 10,
   "metadata": {},
   "outputs": [
    {
     "name": "stdout",
     "output_type": "stream",
     "text": [
      "Device:  cuda\n",
      "Torch Version:  1.0.1.post2\n"
     ]
    }
   ],
   "source": [
    "device = torch.device(\"cuda\" if torch.cuda.is_available() else \"cpu\")\n",
    "print(\"Device: \", device)\n",
    "print(\"Torch Version: \", torch.__version__)"
   ]
  },
  {
   "cell_type": "code",
   "execution_count": 153,
   "metadata": {},
   "outputs": [],
   "source": [
    "def increase_capacity_keep_lr(network, capacity, optimizer, device):\n",
    "    # Store old ids\n",
    "    old_ids = [id(p) for p in network.parameters()]\n",
    "    old_param_sizes = [p.size() for p in network.parameters()]\n",
    "\n",
    "    network.increase_capacity(capacity)\n",
    "\n",
    "    # Store new ids\n",
    "    new_ids = [id(p) for p in network.parameters()]\n",
    "    new_param_sizes = [p.size() for p in network.parameters()]\n",
    "\n",
    "    # Store old state \n",
    "    opt_state_dict = optimizer.state_dict()\n",
    "    for old_id, new_id, new_param_size, old_param_size in zip(old_ids, new_ids, new_param_sizes, old_param_sizes):\n",
    "        # Store step, and exp_avgs\n",
    "        step = opt_state_dict['state'][old_id]['step']\n",
    "        old_exp_avg = opt_state_dict['state'][old_id]['exp_avg']\n",
    "        old_exp_avg_sq = opt_state_dict['state'][old_id]['exp_avg_sq']\n",
    "        old_max_exp_avg_sq = opt_state_dict['state'][old_id]['max_exp_avg_sq']\n",
    "\n",
    "        exp_avg = torch.zeros(new_param_size)\n",
    "        exp_avg_sq = torch.zeros(new_param_size)\n",
    "        max_exp_avg_sq =  torch.zeros(new_param_size)\n",
    "        # Extend exp_avgs to new shape depending on wether param is bias or weight\n",
    "        if exp_avg.dim()>1:\n",
    "            # Weights\n",
    "            exp_avg[0:old_param_size[0],0:old_param_size[1]] = old_exp_avg\n",
    "            exp_avg_sq[0:old_param_size[0],0:old_param_size[1]] = old_exp_avg_sq\n",
    "            max_exp_avg_sq[0:old_param_size[0],0:old_param_size[1]] = old_max_exp_avg_sq\n",
    "        else:\n",
    "            # Biases/last layer\n",
    "            exp_avg[0:old_param_size[0]] = old_exp_avg\n",
    "            exp_avg_sq[0:old_param_size[0]] = old_exp_avg_sq\n",
    "            max_exp_avg_sq[0:old_param_size[0]] = old_max_exp_avg_sq\n",
    "        \n",
    "        # Delete old id from state_dict and update new params and new id\n",
    "        del opt_state_dict['state'][old_id]\n",
    "        opt_state_dict['state'][new_id] = {\n",
    "            'step': step,\n",
    "            'exp_avg': exp_avg,\n",
    "            'exp_avg_sq': exp_avg_sq.to(device),\n",
    "            'max_exp_avg_sq' : max_exp_avg_sq.to(device)\n",
    "        }\n",
    "        opt_state_dict['param_groups'][0]['params'].remove(old_id)\n",
    "        opt_state_dict['param_groups'][0]['params'].append(new_id)\n",
    "\n",
    "    network.to(device)\n",
    "    optimizer = optim.Adam(network.parameters(), amsgrad=True)\n",
    "    optimizer.load_state_dict(opt_state_dict)\n",
    "    \n",
    "    return network, optimizer"
   ]
  },
  {
   "cell_type": "code",
   "execution_count": 173,
   "metadata": {},
   "outputs": [],
   "source": [
    "# def generate_n_XOR(batch_size, n_inputs, n, p):\n",
    "#     Xs =  torch.zeros(batch_size,n_inputs, dtype=torch.float)\n",
    "#     Ys = torch.zeros(batch_size,1, dtype=torch.float)\n",
    "#     for i in range(batch_size):\n",
    "#         Xs[i] = torch.randint(0,2,(1,n_inputs))\n",
    "#         if random.random() < p:\n",
    "#             Ys[i] = torch.sum(Xs[i][:random.randint(1,n_inputs)]) == 1\n",
    "#         else:\n",
    "#             Ys[i] = torch.sum(Xs[i][:n]) == 1\n",
    "#     return Xs.to(device), Ys.to(device)\n",
    "\n",
    "# def generate_n_XOR_uniform(batch_size, n_inputs, n, p, delta):\n",
    "#     Xs =  torch.zeros(batch_size,n_inputs, dtype=torch.float)\n",
    "#     Ys = torch.zeros(batch_size,1, dtype=torch.float)\n",
    "#     for i in range(batch_size):\n",
    "#         Xs[i] = torch.randint(0,2,(1,n_inputs))\n",
    "#         if random.random() < p:\n",
    "#             Ys[i] = torch.sum(Xs[i][:random.randint(1,n_inputs)]) == 1\n",
    "#         else:\n",
    "#             Ys[i] = torch.sum(Xs[i][:n]) == 1\n",
    "#         Xs[i] += torch.FloatTensor(Xs[i].size()).uniform_(-delta, delta)\n",
    "#     return Xs.to(device), Ys.to(device)\n",
    "\n",
    "# def generate_n_XOR_float(batch_size, n_inputs, n, p):\n",
    "#     Xs =  torch.zeros((batch_size,n_inputs), dtype=torch.float)\n",
    "#     Ys = torch.zeros((batch_size,1), dtype=torch.float)\n",
    "#     for i in range(batch_size):\n",
    "#         Xs[i] = torch.rand((1,n_inputs))\n",
    "#         if random.random() < p:\n",
    "#             Ys[i] = torch.sum(Xs[i][:random.randint(1,n_inputs)]>0.5) == 1\n",
    "#         else:\n",
    "#             Ys[i] = torch.sum(Xs[i][:n]>0.5) == 1\n",
    "#     return Xs, Ys\n",
    "\n",
    "def generate_test_set(n):\n",
    "    combinations = list(itertools.product([0,1], repeat=n))\n",
    "    combinations = np.array(combinations)\n",
    "    combinations = np.flip(combinations,1)\n",
    "    combinations = combinations.tolist()\n",
    "    Xs_test = torch.tensor(combinations, dtype=torch.float)\n",
    "    Ys_test = (torch.sum(Xs_test, dim=1)==1).view(-1,1).float()\n",
    "    return Xs_test.to(device),Ys_test.to(device)\n",
    "\n",
    "def generate_train_sample(n, level, batch_size):\n",
    "    combinations = list(itertools.product([0,1], repeat=n))\n",
    "    combinations = np.array(combinations)\n",
    "    combinations = np.flip(combinations,1)\n",
    "    combinations = combinations.tolist()\n",
    "    Xs_test = torch.tensor(combinations, dtype=torch.float)[:2**level]\n",
    "    Ys_test = (torch.sum(Xs_test, dim=1)==1).view(-1,1).float()[:2**level]\n",
    "    r = torch.randint(0,Xs_test.size(0),(batch_size,))\n",
    "    Xs_test = Xs_test[r]\n",
    "    Ys_test = Ys_test[r]\n",
    "    return Xs_test.to(device),Ys_test.to(device)"
   ]
  },
  {
   "cell_type": "code",
   "execution_count": 177,
   "metadata": {},
   "outputs": [
    {
     "data": {
      "text/plain": [
       "(tensor([[1., 1., 0.],\n",
       "         [0., 1., 0.],\n",
       "         [0., 0., 0.],\n",
       "         [0., 0., 0.],\n",
       "         [0., 0., 0.],\n",
       "         [1., 1., 0.],\n",
       "         [0., 1., 0.],\n",
       "         [1., 1., 0.],\n",
       "         [0., 1., 0.]]), tensor([[0.],\n",
       "         [1.],\n",
       "         [0.],\n",
       "         [0.],\n",
       "         [0.],\n",
       "         [0.],\n",
       "         [1.],\n",
       "         [0.],\n",
       "         [1.]]))"
      ]
     },
     "execution_count": 177,
     "metadata": {},
     "output_type": "execute_result"
    }
   ],
   "source": [
    "generate_train_sample(3, 2, 9)"
   ]
  },
  {
   "cell_type": "code",
   "execution_count": 175,
   "metadata": {},
   "outputs": [],
   "source": [
    "def train(iterations, network, criterion, optimizer, batch_size, non_linearity, n_inputs, level, p, Xs_test, Ys_test):\n",
    "    eval_loss = float(\"inf\")\n",
    "    losses = []\n",
    "    i = 0\n",
    "    # Train untill max iterations reached or loss threshold passed\n",
    "    while i<iterations and eval_loss>0.05:\n",
    "        optimizer.zero_grad()\n",
    "\n",
    "        # Uniform 0.5, Naive 1.0, Zaremba 0.9\n",
    "#         Xs, Ys = generate_n_XOR_uniform(batch_size, n_inputs, level, p, 0.1) \n",
    "        generate_train_sample(n_inputs, level, batch_size)\n",
    "\n",
    "        prediction = non_linearity(network(Xs))\n",
    "        loss = criterion(prediction, Ys)\n",
    "\n",
    "        loss.backward()\n",
    "        optimizer.step()\n",
    "        i += 1\n",
    "        \n",
    "        with torch.no_grad():\n",
    "            prediction = non_linearity(network(Xs_test[:2**level]))\n",
    "            eval_loss = criterion(prediction, Ys_test[:2**level])\n",
    "            losses.append(eval_loss)\n",
    "            \n",
    "    return network, optimizer, eval_loss, i, losses\n",
    "\n",
    "def n_way_xor_experiment(batch_size, initial_capacity, capacity, non_linearity, n_inputs, p, iterations, seeds, keep_lr):\n",
    "    # Generate test set of size n_inputs\n",
    "    Xs_test, Ys_test = generate_test_set(n_inputs)\n",
    "    \n",
    "    # Initialise arrays. First 2 levels are skipped\n",
    "    loss_per_level = np.zeros(n_inputs-1)\n",
    "    duration_per_level = np.zeros(n_inputs-1)\n",
    "    total_loss = np.zeros((n_inputs-1)*iterations)\n",
    "    \n",
    "    for seed in range(seeds):\n",
    "        # Set seeds\n",
    "        random.seed(seed)\n",
    "        np.random.seed(seed)\n",
    "        torch.manual_seed(seed)\n",
    "\n",
    "        # Initialisation network, optimiser and loss\n",
    "        network = DQN(n_inputs, initial_capacity.copy(), 1, non_linearity).to(device)\n",
    "        optimizer = optim.Adam(network.parameters(),lr=0.01, amsgrad=True)\n",
    "        criterion = nn.MSELoss()\n",
    "        \n",
    "        global_i = 0\n",
    "        for level in range(2,n_inputs + 1):\n",
    "            # Train network on level\n",
    "            network, optimizer, loss, duration, losses = train(iterations, network, criterion, optimizer, batch_size, non_linearity, n_inputs, level, p, Xs_test, Ys_test)\n",
    "            \n",
    "            total_loss[global_i:global_i+duration] = total_loss[global_i:global_i+duration] + losses\n",
    "            global_i = global_i+duration\n",
    "            # Increase capacity\n",
    "            if capacity is not None:\n",
    "                network, optimizer = increase_capacity_keep_lr(network, capacity, optimizer, device)\n",
    "                if not keep_lr:\n",
    "                    optimizer = optim.Adam(network.parameters(), amsgrad=True)\n",
    "                network.to(device)\n",
    "            \n",
    "            # Gather stats\n",
    "            duration_per_level[level-2] += duration\n",
    "            loss_per_level[level-2] += loss \n",
    "    \n",
    "    for level in range(n_inputs-1):\n",
    "        print('Number of inputs: ', level + 2)\n",
    "        print(loss_per_level[level]/seeds)\n",
    "        print(duration_per_level[level]/seeds)\n",
    "        \n",
    "    print('Total Duration:', np.sum(duration_per_level)/seeds)\n",
    "    print(network)\n",
    "    # Indicate last index of 0 with vertical line\n",
    "    plt.plot(total_loss/seeds)"
   ]
  },
  {
   "cell_type": "code",
   "execution_count": 176,
   "metadata": {},
   "outputs": [
    {
     "ename": "KeyboardInterrupt",
     "evalue": "",
     "output_type": "error",
     "traceback": [
      "\u001b[0;31m---------------------------------------------------------------------------\u001b[0m",
      "\u001b[0;31mKeyboardInterrupt\u001b[0m                         Traceback (most recent call last)",
      "\u001b[0;32m<ipython-input-176-970d1d77851c>\u001b[0m in \u001b[0;36m<module>\u001b[0;34m()\u001b[0m\n\u001b[1;32m      2\u001b[0m \u001b[0mt\u001b[0m \u001b[0;34m=\u001b[0m \u001b[0mtime\u001b[0m\u001b[0;34m.\u001b[0m\u001b[0mtime\u001b[0m\u001b[0;34m(\u001b[0m\u001b[0;34m)\u001b[0m\u001b[0;34m\u001b[0m\u001b[0;34m\u001b[0m\u001b[0m\n\u001b[1;32m      3\u001b[0m \u001b[0mplt\u001b[0m\u001b[0;34m.\u001b[0m\u001b[0mfigure\u001b[0m\u001b[0;34m(\u001b[0m\u001b[0;34m)\u001b[0m\u001b[0;34m\u001b[0m\u001b[0;34m\u001b[0m\u001b[0m\n\u001b[0;32m----> 4\u001b[0;31m \u001b[0mn_way_xor_experiment\u001b[0m\u001b[0;34m(\u001b[0m\u001b[0;36m4\u001b[0m\u001b[0;34m,\u001b[0m \u001b[0;34m[\u001b[0m\u001b[0;36m5\u001b[0m\u001b[0;34m,\u001b[0m\u001b[0;36m1\u001b[0m\u001b[0;34m]\u001b[0m\u001b[0;34m,\u001b[0m \u001b[0;34m[\u001b[0m\u001b[0;36m1\u001b[0m\u001b[0;34m,\u001b[0m\u001b[0;36m1\u001b[0m\u001b[0;34m]\u001b[0m\u001b[0;34m,\u001b[0m \u001b[0mtorch\u001b[0m\u001b[0;34m.\u001b[0m\u001b[0msigmoid\u001b[0m \u001b[0;34m,\u001b[0m\u001b[0;36m5\u001b[0m\u001b[0;34m,\u001b[0m \u001b[0;36m0.2\u001b[0m\u001b[0;34m,\u001b[0m \u001b[0;36m10000\u001b[0m\u001b[0;34m,\u001b[0m \u001b[0;36m10\u001b[0m\u001b[0;34m,\u001b[0m\u001b[0;32mTrue\u001b[0m\u001b[0;34m)\u001b[0m\u001b[0;34m\u001b[0m\u001b[0;34m\u001b[0m\u001b[0m\n\u001b[0m\u001b[1;32m      5\u001b[0m \u001b[0mplt\u001b[0m\u001b[0;34m.\u001b[0m\u001b[0mshow\u001b[0m\u001b[0;34m(\u001b[0m\u001b[0;34m)\u001b[0m\u001b[0;34m\u001b[0m\u001b[0;34m\u001b[0m\u001b[0m\n\u001b[1;32m      6\u001b[0m \u001b[0;31m# print(time.time()-t)\u001b[0m\u001b[0;34m\u001b[0m\u001b[0;34m\u001b[0m\u001b[0;34m\u001b[0m\u001b[0m\n",
      "\u001b[0;32m<ipython-input-175-6b143cad4873>\u001b[0m in \u001b[0;36mn_way_xor_experiment\u001b[0;34m(batch_size, initial_capacity, capacity, non_linearity, n_inputs, p, iterations, seeds, keep_lr)\u001b[0m\n\u001b[1;32m     48\u001b[0m         \u001b[0;32mfor\u001b[0m \u001b[0mlevel\u001b[0m \u001b[0;32min\u001b[0m \u001b[0mrange\u001b[0m\u001b[0;34m(\u001b[0m\u001b[0;36m2\u001b[0m\u001b[0;34m,\u001b[0m\u001b[0mn_inputs\u001b[0m \u001b[0;34m+\u001b[0m \u001b[0;36m1\u001b[0m\u001b[0;34m)\u001b[0m\u001b[0;34m:\u001b[0m\u001b[0;34m\u001b[0m\u001b[0;34m\u001b[0m\u001b[0m\n\u001b[1;32m     49\u001b[0m             \u001b[0;31m# Train network on level\u001b[0m\u001b[0;34m\u001b[0m\u001b[0;34m\u001b[0m\u001b[0;34m\u001b[0m\u001b[0m\n\u001b[0;32m---> 50\u001b[0;31m             \u001b[0mnetwork\u001b[0m\u001b[0;34m,\u001b[0m \u001b[0moptimizer\u001b[0m\u001b[0;34m,\u001b[0m \u001b[0mloss\u001b[0m\u001b[0;34m,\u001b[0m \u001b[0mduration\u001b[0m\u001b[0;34m,\u001b[0m \u001b[0mlosses\u001b[0m \u001b[0;34m=\u001b[0m \u001b[0mtrain\u001b[0m\u001b[0;34m(\u001b[0m\u001b[0miterations\u001b[0m\u001b[0;34m,\u001b[0m \u001b[0mnetwork\u001b[0m\u001b[0;34m,\u001b[0m \u001b[0mcriterion\u001b[0m\u001b[0;34m,\u001b[0m \u001b[0moptimizer\u001b[0m\u001b[0;34m,\u001b[0m \u001b[0mbatch_size\u001b[0m\u001b[0;34m,\u001b[0m \u001b[0mnon_linearity\u001b[0m\u001b[0;34m,\u001b[0m \u001b[0mn_inputs\u001b[0m\u001b[0;34m,\u001b[0m \u001b[0mlevel\u001b[0m\u001b[0;34m,\u001b[0m \u001b[0mp\u001b[0m\u001b[0;34m,\u001b[0m \u001b[0mXs_test\u001b[0m\u001b[0;34m,\u001b[0m \u001b[0mYs_test\u001b[0m\u001b[0;34m)\u001b[0m\u001b[0;34m\u001b[0m\u001b[0;34m\u001b[0m\u001b[0m\n\u001b[0m\u001b[1;32m     51\u001b[0m \u001b[0;34m\u001b[0m\u001b[0m\n\u001b[1;32m     52\u001b[0m             \u001b[0mtotal_loss\u001b[0m\u001b[0;34m[\u001b[0m\u001b[0mglobal_i\u001b[0m\u001b[0;34m:\u001b[0m\u001b[0mglobal_i\u001b[0m\u001b[0;34m+\u001b[0m\u001b[0mduration\u001b[0m\u001b[0;34m]\u001b[0m \u001b[0;34m=\u001b[0m \u001b[0mtotal_loss\u001b[0m\u001b[0;34m[\u001b[0m\u001b[0mglobal_i\u001b[0m\u001b[0;34m:\u001b[0m\u001b[0mglobal_i\u001b[0m\u001b[0;34m+\u001b[0m\u001b[0mduration\u001b[0m\u001b[0;34m]\u001b[0m \u001b[0;34m+\u001b[0m \u001b[0mlosses\u001b[0m\u001b[0;34m\u001b[0m\u001b[0;34m\u001b[0m\u001b[0m\n",
      "\u001b[0;32m<ipython-input-175-6b143cad4873>\u001b[0m in \u001b[0;36mtrain\u001b[0;34m(iterations, network, criterion, optimizer, batch_size, non_linearity, n_inputs, level, p, Xs_test, Ys_test)\u001b[0m\n\u001b[1;32m     15\u001b[0m \u001b[0;34m\u001b[0m\u001b[0m\n\u001b[1;32m     16\u001b[0m         \u001b[0mloss\u001b[0m\u001b[0;34m.\u001b[0m\u001b[0mbackward\u001b[0m\u001b[0;34m(\u001b[0m\u001b[0;34m)\u001b[0m\u001b[0;34m\u001b[0m\u001b[0;34m\u001b[0m\u001b[0m\n\u001b[0;32m---> 17\u001b[0;31m         \u001b[0moptimizer\u001b[0m\u001b[0;34m.\u001b[0m\u001b[0mstep\u001b[0m\u001b[0;34m(\u001b[0m\u001b[0;34m)\u001b[0m\u001b[0;34m\u001b[0m\u001b[0;34m\u001b[0m\u001b[0m\n\u001b[0m\u001b[1;32m     18\u001b[0m         \u001b[0mi\u001b[0m \u001b[0;34m+=\u001b[0m \u001b[0;36m1\u001b[0m\u001b[0;34m\u001b[0m\u001b[0;34m\u001b[0m\u001b[0m\n\u001b[1;32m     19\u001b[0m \u001b[0;34m\u001b[0m\u001b[0m\n",
      "\u001b[0;32m~/.local/lib/python3.6/site-packages/torch/optim/adam.py\u001b[0m in \u001b[0;36mstep\u001b[0;34m(self, closure)\u001b[0m\n\u001b[1;32m    102\u001b[0m \u001b[0;34m\u001b[0m\u001b[0m\n\u001b[1;32m    103\u001b[0m                 \u001b[0mbias_correction1\u001b[0m \u001b[0;34m=\u001b[0m \u001b[0;36m1\u001b[0m \u001b[0;34m-\u001b[0m \u001b[0mbeta1\u001b[0m \u001b[0;34m**\u001b[0m \u001b[0mstate\u001b[0m\u001b[0;34m[\u001b[0m\u001b[0;34m'step'\u001b[0m\u001b[0;34m]\u001b[0m\u001b[0;34m\u001b[0m\u001b[0;34m\u001b[0m\u001b[0m\n\u001b[0;32m--> 104\u001b[0;31m                 \u001b[0mbias_correction2\u001b[0m \u001b[0;34m=\u001b[0m \u001b[0;36m1\u001b[0m \u001b[0;34m-\u001b[0m \u001b[0mbeta2\u001b[0m \u001b[0;34m**\u001b[0m \u001b[0mstate\u001b[0m\u001b[0;34m[\u001b[0m\u001b[0;34m'step'\u001b[0m\u001b[0;34m]\u001b[0m\u001b[0;34m\u001b[0m\u001b[0;34m\u001b[0m\u001b[0m\n\u001b[0m\u001b[1;32m    105\u001b[0m                 \u001b[0mstep_size\u001b[0m \u001b[0;34m=\u001b[0m \u001b[0mgroup\u001b[0m\u001b[0;34m[\u001b[0m\u001b[0;34m'lr'\u001b[0m\u001b[0;34m]\u001b[0m \u001b[0;34m*\u001b[0m \u001b[0mmath\u001b[0m\u001b[0;34m.\u001b[0m\u001b[0msqrt\u001b[0m\u001b[0;34m(\u001b[0m\u001b[0mbias_correction2\u001b[0m\u001b[0;34m)\u001b[0m \u001b[0;34m/\u001b[0m \u001b[0mbias_correction1\u001b[0m\u001b[0;34m\u001b[0m\u001b[0;34m\u001b[0m\u001b[0m\n\u001b[1;32m    106\u001b[0m \u001b[0;34m\u001b[0m\u001b[0m\n",
      "\u001b[0;31mKeyboardInterrupt\u001b[0m: "
     ]
    },
    {
     "data": {
      "text/plain": [
       "<Figure size 432x288 with 0 Axes>"
      ]
     },
     "metadata": {},
     "output_type": "display_data"
    }
   ],
   "source": [
    "device = 'cpu'\n",
    "t = time.time()\n",
    "plt.figure()\n",
    "n_way_xor_experiment(4, [5,1], [1,1], torch.sigmoid ,5, 0.2, 10000, 10,True)\n",
    "plt.show()\n",
    "# print(time.time()-t)\n",
    "# plt.figure()\n",
    "# n_way_xor_experiment(1, [5], [1], torch.sigmoid ,5, 0.2, 10000, 10,False)\n",
    "# plt.show()\n",
    "print('-----------')\n",
    "t = time.time()\n",
    "plt.figure()\n",
    "n_way_xor_experiment(4, [5,5], None, torch.sigmoid ,5, 0.2, 10000, 10, True)\n",
    "plt.show()\n",
    "print(time.time()-t)"
   ]
  },
  {
   "cell_type": "code",
   "execution_count": 140,
   "metadata": {},
   "outputs": [
    {
     "name": "stdout",
     "output_type": "stream",
     "text": [
      "DQN(\n",
      "  (layers): ModuleList(\n",
      "    (0): Linear(in_features=3, out_features=1, bias=True)\n",
      "    (1): Linear(in_features=1, out_features=1, bias=True)\n",
      "    (2): Linear(in_features=1, out_features=1, bias=True)\n",
      "  )\n",
      ")\n",
      "DQN(\n",
      "  (layers): ModuleList(\n",
      "    (0): Linear(in_features=3, out_features=1, bias=True)\n",
      "    (1): Linear(in_features=1, out_features=2, bias=True)\n",
      "    (2): Linear(in_features=2, out_features=1, bias=True)\n",
      "  )\n",
      ")\n"
     ]
    }
   ],
   "source": []
  },
  {
   "cell_type": "code",
   "execution_count": 24,
   "metadata": {},
   "outputs": [
    {
     "ename": "TypeError",
     "evalue": "n_way_xor_experiment() missing 1 required positional argument: 'keep_lr'",
     "output_type": "error",
     "traceback": [
      "\u001b[0;31m---------------------------------------------------------------------------\u001b[0m",
      "\u001b[0;31mTypeError\u001b[0m                                 Traceback (most recent call last)",
      "\u001b[0;32m<ipython-input-24-c4a0331e4426>\u001b[0m in \u001b[0;36m<module>\u001b[0;34m()\u001b[0m\n\u001b[1;32m      1\u001b[0m \u001b[0mt\u001b[0m \u001b[0;34m=\u001b[0m \u001b[0mtime\u001b[0m\u001b[0;34m.\u001b[0m\u001b[0mtime\u001b[0m\u001b[0;34m(\u001b[0m\u001b[0;34m)\u001b[0m\u001b[0;34m\u001b[0m\u001b[0;34m\u001b[0m\u001b[0m\n\u001b[1;32m      2\u001b[0m \u001b[0mplt\u001b[0m\u001b[0;34m.\u001b[0m\u001b[0mfigure\u001b[0m\u001b[0;34m(\u001b[0m\u001b[0;34m)\u001b[0m\u001b[0;34m\u001b[0m\u001b[0;34m\u001b[0m\u001b[0m\n\u001b[0;32m----> 3\u001b[0;31m \u001b[0mn_way_xor_experiment\u001b[0m\u001b[0;34m(\u001b[0m\u001b[0;36m100\u001b[0m\u001b[0;34m,\u001b[0m \u001b[0;34m[\u001b[0m\u001b[0;36m2\u001b[0m\u001b[0;34m]\u001b[0m\u001b[0;34m,\u001b[0m \u001b[0;34m[\u001b[0m\u001b[0;36m1\u001b[0m\u001b[0;34m]\u001b[0m\u001b[0;34m,\u001b[0m \u001b[0mtorch\u001b[0m\u001b[0;34m.\u001b[0m\u001b[0mrelu\u001b[0m \u001b[0;34m,\u001b[0m\u001b[0;36m5\u001b[0m\u001b[0;34m,\u001b[0m \u001b[0;36m0.2\u001b[0m\u001b[0;34m,\u001b[0m \u001b[0;36m10000\u001b[0m\u001b[0;34m,\u001b[0m \u001b[0;36m5\u001b[0m\u001b[0;34m)\u001b[0m\u001b[0;34m\u001b[0m\u001b[0;34m\u001b[0m\u001b[0m\n\u001b[0m\u001b[1;32m      4\u001b[0m \u001b[0mplt\u001b[0m\u001b[0;34m.\u001b[0m\u001b[0mshow\u001b[0m\u001b[0;34m(\u001b[0m\u001b[0;34m)\u001b[0m\u001b[0;34m\u001b[0m\u001b[0;34m\u001b[0m\u001b[0m\n\u001b[1;32m      5\u001b[0m \u001b[0mprint\u001b[0m\u001b[0;34m(\u001b[0m\u001b[0mtime\u001b[0m\u001b[0;34m.\u001b[0m\u001b[0mtime\u001b[0m\u001b[0;34m(\u001b[0m\u001b[0;34m)\u001b[0m\u001b[0;34m-\u001b[0m\u001b[0mt\u001b[0m\u001b[0;34m)\u001b[0m\u001b[0;34m\u001b[0m\u001b[0;34m\u001b[0m\u001b[0m\n",
      "\u001b[0;31mTypeError\u001b[0m: n_way_xor_experiment() missing 1 required positional argument: 'keep_lr'"
     ]
    },
    {
     "data": {
      "text/plain": [
       "<Figure size 432x288 with 0 Axes>"
      ]
     },
     "metadata": {},
     "output_type": "display_data"
    }
   ],
   "source": [
    "\n",
    "plt.figure()\n",
    "n_way_xor_experiment(1, [2], [1], torch.relu ,5, 0.2, 10000, 5)\n",
    "plt.show()\n",
    "\n",
    "print('-----------')\n",
    "plt.figure()\n",
    "n_way_xor_experiment(100, [5], None, torch.relu ,5, 0.2, 10000, 5)\n",
    "plt.show()"
   ]
  },
  {
   "cell_type": "markdown",
   "metadata": {},
   "source": [
    "# Hirose"
   ]
  },
  {
   "cell_type": "code",
   "execution_count": null,
   "metadata": {},
   "outputs": [],
   "source": [
    "def train_hirose(network, criterion, optimizer, batch_size, non_linearity, n_inputs, n, p, Xs_test, Ys_test):\n",
    "    before_loss = float(\"inf\")\n",
    "    \n",
    "    with torch.no_grad():\n",
    "        prediction = non_linearity(network(Xs_test[:2**n]))\n",
    "        before_loss = criterion(prediction, Ys_test[:2**n])\n",
    "    \n",
    "    eval_loss = float(\"inf\")\n",
    "    i = 0\n",
    "    # Train untill max iterations reached or loss threshold passed\n",
    "    while eval_loss>0.05:        \n",
    "        optimizer.zero_grad()\n",
    "\n",
    "        # Uniform 0.5, Naive 1.0, Zaremba 0.9\n",
    "        Xs, Ys = generate_n_XOR_float(batch_size, n_inputs, n, p) \n",
    "\n",
    "        prediction = non_linearity(network(Xs))\n",
    "        loss = criterion(prediction, Ys)\n",
    "\n",
    "        loss.backward()\n",
    "        optimizer.step()\n",
    "        i += 1\n",
    "        \n",
    "        with torch.no_grad():\n",
    "            prediction = non_linearity(network(Xs_test[:2**n]))\n",
    "            eval_loss = criterion(prediction, Ys_test[:2**n])\n",
    "        \n",
    "        if i%1000==0:\n",
    "            if before_loss*0.99<=eval_loss:\n",
    "                break\n",
    "            else:\n",
    "                before_loss = eval_loss\n",
    "            \n",
    "    return network, optimizer, eval_loss, i\n",
    "\n",
    "def n_way_xor_experiment_hirose(batch_size, initial_capacity, capacity, non_linearity, n_inputs, p, seeds, keep_lr):\n",
    "    # Generate test set of size n_inputs\n",
    "    Xs_test,Ys_test = generate_test_set(n_inputs)\n",
    "    \n",
    "    # Initialise arrays. First 2 levels are skipped\n",
    "    loss_per_level = np.zeros(n_inputs-2)\n",
    "    duration_per_level = np.zeros(n_inputs-2)\n",
    "    \n",
    "    for seed in range(seeds):\n",
    "        # Set seeds\n",
    "        random.seed(seed)\n",
    "        np.random.seed(seed)\n",
    "        torch.manual_seed(seed)\n",
    "        \n",
    "        # Initialisation network, optimiser and loss\n",
    "        network = DQN(n_inputs, initial_capacity.copy(), 1, non_linearity).to(device)\n",
    "        optimizer = optim.Adam(network.parameters(), amsgrad=True)\n",
    "        criterion = nn.MSELoss()\n",
    "        \n",
    "        for level in range(2,n_inputs+1):\n",
    "            loss = float(\"inf\")\n",
    "            while loss>0.01:\n",
    "                # Train network on level\n",
    "                network, optimizer, loss, duration = train_hirose(network, criterion, optimizer, batch_size, non_linearity, n_inputs, level, p, Xs_test, Ys_test)\n",
    "            \n",
    "                if loss>0.01:\n",
    "                    \n",
    "                    # Increase capacity\n",
    "                    if capacity is not None:\n",
    "                        network, optimizer = increase_capacity_keep_lr(network, capacity, optimizer, device)\n",
    "                        if not keep_lr:\n",
    "                            optimizer = optim.Adam(network.parameters(), amsgrad=True)\n",
    "                        network.to(device)\n",
    "                        \n",
    "        \n",
    "                # Gather stats\n",
    "                duration_per_level[level-2] += duration\n",
    "            loss_per_level[level-2] += loss\n",
    "            \n",
    "    for level in range(n_inputs-2):\n",
    "        print('Level: ', level)\n",
    "        print(loss_per_level[level]/seeds)\n",
    "        print(duration_per_level[level]/seeds)\n",
    "        \n",
    "    print('Total Duration:', np.sum(duration_per_level)/seeds)"
   ]
  },
  {
   "cell_type": "code",
   "execution_count": null,
   "metadata": {},
   "outputs": [],
   "source": [
    "t = time.time()\n",
    "n_way_xor_experiment_hirose(100, [2], [1], torch.sigmoid ,5, 0.2, 7, True)\n",
    "print(time.time()-t)\n",
    "t = time.time()\n",
    "n_way_xor_experiment_hirose(100, [2], [1], torch.sigmoid ,5, 0.2, 7, False)\n",
    "print(time.time()-t)"
   ]
  },
  {
   "cell_type": "code",
   "execution_count": 78,
   "metadata": {},
   "outputs": [
    {
     "data": {
      "text/plain": [
       "0.28709999999999997"
      ]
     },
     "execution_count": 78,
     "metadata": {},
     "output_type": "execute_result"
    }
   ],
   "source": [
    "0.29*0.99"
   ]
  },
  {
   "cell_type": "code",
   "execution_count": 109,
   "metadata": {},
   "outputs": [
    {
     "data": {
      "text/plain": [
       "[2]"
      ]
     },
     "execution_count": 109,
     "metadata": {},
     "output_type": "execute_result"
    }
   ],
   "source": [
    "[i for i in range(2,3)]"
   ]
  },
  {
   "cell_type": "code",
   "execution_count": null,
   "metadata": {},
   "outputs": [],
   "source": []
  }
 ],
 "metadata": {
  "kernelspec": {
   "display_name": "Python 3",
   "language": "python",
   "name": "python3"
  },
  "language_info": {
   "codemirror_mode": {
    "name": "ipython",
    "version": 3
   },
   "file_extension": ".py",
   "mimetype": "text/x-python",
   "name": "python",
   "nbconvert_exporter": "python",
   "pygments_lexer": "ipython3",
   "version": "3.6.8"
  }
 },
 "nbformat": 4,
 "nbformat_minor": 2
}
