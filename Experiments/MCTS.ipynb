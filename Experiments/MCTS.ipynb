{
 "cells": [
  {
   "cell_type": "code",
   "execution_count": 1,
   "metadata": {},
   "outputs": [],
   "source": [
    "import numpy as np\n",
    "import torch\n",
    "from networks import DQN\n",
    "import rubiks2\n",
    "import copy\n",
    "import time\n",
    "from tqdm import tqdm_notebook"
   ]
  },
  {
   "cell_type": "code",
   "execution_count": 2,
   "metadata": {},
   "outputs": [],
   "source": [
    "c = 4.0\n",
    "nu = 2.0\n",
    "device = torch.device(\"cuda\" if torch.cuda.is_available() else \"cpu\")"
   ]
  },
  {
   "cell_type": "code",
   "execution_count": 3,
   "metadata": {},
   "outputs": [],
   "source": [
    "class MonteCarloSearchTree(object):\n",
    "    def __init__(self, env, network, max_time, n_actions):\n",
    "        self.env = env\n",
    "        self.network = network\n",
    "        self.max_time = max_time\n",
    "        state = env.get_observation()\n",
    "        prior_probabilities = network.policy(torch.tensor(state, dtype=torch.float32, device=device)).detach().cpu().numpy()\n",
    "        self.root = State(prior_probabilities=prior_probabilities)\n",
    "        \n",
    "    def search(self):\n",
    "        t_0 = time.time()\n",
    "        expansions = 0\n",
    "        \n",
    "        while time.time() - t_0 < self.max_time:\n",
    "            action_seq = []\n",
    "            \n",
    "            current_node = self.root\n",
    "            current_env = copy.deepcopy(self.env)\n",
    "            \n",
    "            current_action = None\n",
    "            while not current_node.is_leaf():\n",
    "                current_node, current_action = current_node.select() \n",
    "                current_env.step(current_action)\n",
    "                action_seq.append(current_action)\n",
    "                \n",
    "            if current_env.solved():\n",
    "#                 print(\"Solved in: \", expansions, \" expansions\")\n",
    "#                 print(action_seq)\n",
    "                return 1.0\n",
    "                \n",
    "            current_node.expand(current_env)\n",
    "            expansions += 1\n",
    "            \n",
    "            state = env.get_observation()\n",
    "            value = network.value(torch.tensor(state, dtype=torch.float32, device=device)).detach().cpu().numpy()\n",
    "            \n",
    "            while current_node is not None and current_action is not None:\n",
    "                current_node.update(current_action, value)\n",
    "                current_node = current_node.parent\n",
    "        return 0.0\n",
    "                \n",
    "        \n",
    "class State(object):\n",
    "    def __init__(self, parent=None, prior_probabilities=None):\n",
    "        self.N = np.zeros(6)\n",
    "        self.W = np.zeros(6)\n",
    "        self.L = np.zeros(6)\n",
    "        self.P = prior_probabilities\n",
    "        self.parent = parent\n",
    "        self.children = []\n",
    "        \n",
    "    def is_leaf(self):\n",
    "        return len(self.children)==0\n",
    "    \n",
    "    def select(self):\n",
    "        highest = 0.0\n",
    "        highest_action = 0\n",
    "        \n",
    "        for action in range(6):\n",
    "            uct = c*self.P[action]*(np.sqrt(np.sum(self.N))/(1+self.N[action])) + self.W[action] - self.L[action]\n",
    "            if uct>highest:\n",
    "                highest = uct\n",
    "                highest_action = action\n",
    "                \n",
    "        return self.children[highest_action], highest_action\n",
    "    \n",
    "    def expand(self, env):\n",
    "        for action in range(6):\n",
    "            tmp_env = copy.deepcopy(env)\n",
    "            tmp_env.step(action)\n",
    "            state = tmp_env.get_observation()\n",
    "            prior_probabilities = network.policy(torch.tensor(state, dtype=torch.float32, device=device)).detach().cpu().numpy()\n",
    "            self.children.append(State(self, prior_probabilities))\n",
    "            \n",
    "    def update(self, action, value):\n",
    "        self.W[action] = max(self.W[action], value)\n",
    "        self.N[action] += 1\n",
    "        self.L[action] -= nu"
   ]
  },
  {
   "cell_type": "code",
   "execution_count": 4,
   "metadata": {},
   "outputs": [
    {
     "data": {
      "image/png": "[encoded data removed]",
      "text/plain": [
       "<Figure size 432x288 with 1 Axes>"
      ]
     },
     "metadata": {
      "needs_background": "light"
     },
     "output_type": "display_data"
    },
    {
     "ename": "KeyboardInterrupt",
     "evalue": "",
     "output_type": "error",
     "traceback": [
      "\u001b[1;31m---------------------------------------------------------------------------\u001b[0m",
      "\u001b[1;31mKeyboardInterrupt\u001b[0m                         Traceback (most recent call last)",
      "\u001b[1;32m<ipython-input-4-5d5cc71be86f>\u001b[0m in \u001b[0;36m<module>\u001b[1;34m\u001b[0m\n\u001b[0;32m      4\u001b[0m \u001b[0menv\u001b[0m\u001b[1;33m.\u001b[0m\u001b[0mrender\u001b[0m\u001b[1;33m(\u001b[0m\u001b[1;33m)\u001b[0m\u001b[1;33m\u001b[0m\u001b[1;33m\u001b[0m\u001b[0m\n\u001b[0;32m      5\u001b[0m \u001b[0mMCTS\u001b[0m \u001b[1;33m=\u001b[0m \u001b[0mMonteCarloSearchTree\u001b[0m\u001b[1;33m(\u001b[0m\u001b[0menv\u001b[0m\u001b[1;33m,\u001b[0m \u001b[0mnetwork\u001b[0m\u001b[1;33m,\u001b[0m \u001b[1;36m60.0\u001b[0m\u001b[1;33m,\u001b[0m \u001b[1;36m6\u001b[0m\u001b[1;33m)\u001b[0m\u001b[1;33m\u001b[0m\u001b[1;33m\u001b[0m\u001b[0m\n\u001b[1;32m----> 6\u001b[1;33m \u001b[0mMCTS\u001b[0m\u001b[1;33m.\u001b[0m\u001b[0msearch\u001b[0m\u001b[1;33m(\u001b[0m\u001b[1;33m)\u001b[0m\u001b[1;33m\u001b[0m\u001b[1;33m\u001b[0m\u001b[0m\n\u001b[0m",
      "\u001b[1;32m<ipython-input-3-b255c0188e0f>\u001b[0m in \u001b[0;36msearch\u001b[1;34m(self)\u001b[0m\n\u001b[0;32m     29\u001b[0m                 \u001b[1;32mreturn\u001b[0m \u001b[1;36m1.0\u001b[0m\u001b[1;33m\u001b[0m\u001b[1;33m\u001b[0m\u001b[0m\n\u001b[0;32m     30\u001b[0m \u001b[1;33m\u001b[0m\u001b[0m\n\u001b[1;32m---> 31\u001b[1;33m             \u001b[0mcurrent_node\u001b[0m\u001b[1;33m.\u001b[0m\u001b[0mexpand\u001b[0m\u001b[1;33m(\u001b[0m\u001b[0mcurrent_env\u001b[0m\u001b[1;33m)\u001b[0m\u001b[1;33m\u001b[0m\u001b[1;33m\u001b[0m\u001b[0m\n\u001b[0m\u001b[0;32m     32\u001b[0m             \u001b[0mexpansions\u001b[0m \u001b[1;33m+=\u001b[0m \u001b[1;36m1\u001b[0m\u001b[1;33m\u001b[0m\u001b[1;33m\u001b[0m\u001b[0m\n\u001b[0;32m     33\u001b[0m \u001b[1;33m\u001b[0m\u001b[0m\n",
      "\u001b[1;32m<ipython-input-3-b255c0188e0f>\u001b[0m in \u001b[0;36mexpand\u001b[1;34m(self, env)\u001b[0m\n\u001b[0;32m     70\u001b[0m             \u001b[0mtmp_env\u001b[0m\u001b[1;33m.\u001b[0m\u001b[0mstep\u001b[0m\u001b[1;33m(\u001b[0m\u001b[0maction\u001b[0m\u001b[1;33m)\u001b[0m\u001b[1;33m\u001b[0m\u001b[1;33m\u001b[0m\u001b[0m\n\u001b[0;32m     71\u001b[0m             \u001b[0mstate\u001b[0m \u001b[1;33m=\u001b[0m \u001b[0mtmp_env\u001b[0m\u001b[1;33m.\u001b[0m\u001b[0mget_observation\u001b[0m\u001b[1;33m(\u001b[0m\u001b[1;33m)\u001b[0m\u001b[1;33m\u001b[0m\u001b[1;33m\u001b[0m\u001b[0m\n\u001b[1;32m---> 72\u001b[1;33m             \u001b[0mprior_probabilities\u001b[0m \u001b[1;33m=\u001b[0m \u001b[0mnetwork\u001b[0m\u001b[1;33m.\u001b[0m\u001b[0mpolicy\u001b[0m\u001b[1;33m(\u001b[0m\u001b[0mtorch\u001b[0m\u001b[1;33m.\u001b[0m\u001b[0mtensor\u001b[0m\u001b[1;33m(\u001b[0m\u001b[0mstate\u001b[0m\u001b[1;33m,\u001b[0m \u001b[0mdtype\u001b[0m\u001b[1;33m=\u001b[0m\u001b[0mtorch\u001b[0m\u001b[1;33m.\u001b[0m\u001b[0mfloat32\u001b[0m\u001b[1;33m,\u001b[0m \u001b[0mdevice\u001b[0m\u001b[1;33m=\u001b[0m\u001b[0mdevice\u001b[0m\u001b[1;33m)\u001b[0m\u001b[1;33m)\u001b[0m\u001b[1;33m.\u001b[0m\u001b[0mdetach\u001b[0m\u001b[1;33m(\u001b[0m\u001b[1;33m)\u001b[0m\u001b[1;33m.\u001b[0m\u001b[0mcpu\u001b[0m\u001b[1;33m(\u001b[0m\u001b[1;33m)\u001b[0m\u001b[1;33m.\u001b[0m\u001b[0mnumpy\u001b[0m\u001b[1;33m(\u001b[0m\u001b[1;33m)\u001b[0m\u001b[1;33m\u001b[0m\u001b[1;33m\u001b[0m\u001b[0m\n\u001b[0m\u001b[0;32m     73\u001b[0m             \u001b[0mself\u001b[0m\u001b[1;33m.\u001b[0m\u001b[0mchildren\u001b[0m\u001b[1;33m.\u001b[0m\u001b[0mappend\u001b[0m\u001b[1;33m(\u001b[0m\u001b[0mState\u001b[0m\u001b[1;33m(\u001b[0m\u001b[0mself\u001b[0m\u001b[1;33m,\u001b[0m \u001b[0mprior_probabilities\u001b[0m\u001b[1;33m)\u001b[0m\u001b[1;33m)\u001b[0m\u001b[1;33m\u001b[0m\u001b[1;33m\u001b[0m\u001b[0m\n\u001b[0;32m     74\u001b[0m \u001b[1;33m\u001b[0m\u001b[0m\n",
      "\u001b[1;32m~\\Documents\\Thesis\\Experiments\\networks.py\u001b[0m in \u001b[0;36mpolicy\u001b[1;34m(self, x)\u001b[0m\n\u001b[0;32m    123\u001b[0m         \u001b[1;32mfor\u001b[0m \u001b[0mi\u001b[0m \u001b[1;32min\u001b[0m \u001b[0mrange\u001b[0m\u001b[1;33m(\u001b[0m\u001b[0mlen\u001b[0m\u001b[1;33m(\u001b[0m\u001b[0mself\u001b[0m\u001b[1;33m.\u001b[0m\u001b[0msharedLayers\u001b[0m\u001b[1;33m)\u001b[0m\u001b[1;33m)\u001b[0m\u001b[1;33m:\u001b[0m\u001b[1;33m\u001b[0m\u001b[1;33m\u001b[0m\u001b[0m\n\u001b[0;32m    124\u001b[0m \u001b[1;33m\u001b[0m\u001b[0m\n\u001b[1;32m--> 125\u001b[1;33m             \u001b[0mx\u001b[0m \u001b[1;33m=\u001b[0m \u001b[0mself\u001b[0m\u001b[1;33m.\u001b[0m\u001b[0mnon_linearity\u001b[0m\u001b[1;33m(\u001b[0m\u001b[0mself\u001b[0m\u001b[1;33m.\u001b[0m\u001b[0msharedLayers\u001b[0m\u001b[1;33m[\u001b[0m\u001b[0mi\u001b[0m\u001b[1;33m]\u001b[0m\u001b[1;33m(\u001b[0m\u001b[0mx\u001b[0m\u001b[1;33m)\u001b[0m\u001b[1;33m)\u001b[0m\u001b[1;33m\u001b[0m\u001b[1;33m\u001b[0m\u001b[0m\n\u001b[0m\u001b[0;32m    126\u001b[0m \u001b[1;33m\u001b[0m\u001b[0m\n\u001b[0;32m    127\u001b[0m         \u001b[0ma\u001b[0m \u001b[1;33m=\u001b[0m \u001b[0mself\u001b[0m\u001b[1;33m.\u001b[0m\u001b[0mnon_linearity\u001b[0m\u001b[1;33m(\u001b[0m\u001b[0mself\u001b[0m\u001b[1;33m.\u001b[0m\u001b[0madv1\u001b[0m\u001b[1;33m(\u001b[0m\u001b[0mx\u001b[0m\u001b[1;33m)\u001b[0m\u001b[1;33m)\u001b[0m\u001b[1;33m\u001b[0m\u001b[1;33m\u001b[0m\u001b[0m\n",
      "\u001b[1;32m~\\Anaconda3\\lib\\site-packages\\torch\\nn\\modules\\module.py\u001b[0m in \u001b[0;36m__call__\u001b[1;34m(self, *input, **kwargs)\u001b[0m\n\u001b[0;32m    491\u001b[0m             \u001b[0mresult\u001b[0m \u001b[1;33m=\u001b[0m \u001b[0mself\u001b[0m\u001b[1;33m.\u001b[0m\u001b[0m_slow_forward\u001b[0m\u001b[1;33m(\u001b[0m\u001b[1;33m*\u001b[0m\u001b[0minput\u001b[0m\u001b[1;33m,\u001b[0m \u001b[1;33m**\u001b[0m\u001b[0mkwargs\u001b[0m\u001b[1;33m)\u001b[0m\u001b[1;33m\u001b[0m\u001b[1;33m\u001b[0m\u001b[0m\n\u001b[0;32m    492\u001b[0m         \u001b[1;32melse\u001b[0m\u001b[1;33m:\u001b[0m\u001b[1;33m\u001b[0m\u001b[1;33m\u001b[0m\u001b[0m\n\u001b[1;32m--> 493\u001b[1;33m             \u001b[0mresult\u001b[0m \u001b[1;33m=\u001b[0m \u001b[0mself\u001b[0m\u001b[1;33m.\u001b[0m\u001b[0mforward\u001b[0m\u001b[1;33m(\u001b[0m\u001b[1;33m*\u001b[0m\u001b[0minput\u001b[0m\u001b[1;33m,\u001b[0m \u001b[1;33m**\u001b[0m\u001b[0mkwargs\u001b[0m\u001b[1;33m)\u001b[0m\u001b[1;33m\u001b[0m\u001b[1;33m\u001b[0m\u001b[0m\n\u001b[0m\u001b[0;32m    494\u001b[0m         \u001b[1;32mfor\u001b[0m \u001b[0mhook\u001b[0m \u001b[1;32min\u001b[0m \u001b[0mself\u001b[0m\u001b[1;33m.\u001b[0m\u001b[0m_forward_hooks\u001b[0m\u001b[1;33m.\u001b[0m\u001b[0mvalues\u001b[0m\u001b[1;33m(\u001b[0m\u001b[1;33m)\u001b[0m\u001b[1;33m:\u001b[0m\u001b[1;33m\u001b[0m\u001b[1;33m\u001b[0m\u001b[0m\n\u001b[0;32m    495\u001b[0m             \u001b[0mhook_result\u001b[0m \u001b[1;33m=\u001b[0m \u001b[0mhook\u001b[0m\u001b[1;33m(\u001b[0m\u001b[0mself\u001b[0m\u001b[1;33m,\u001b[0m \u001b[0minput\u001b[0m\u001b[1;33m,\u001b[0m \u001b[0mresult\u001b[0m\u001b[1;33m)\u001b[0m\u001b[1;33m\u001b[0m\u001b[1;33m\u001b[0m\u001b[0m\n",
      "\u001b[1;32m~\\Anaconda3\\lib\\site-packages\\torch\\nn\\modules\\linear.py\u001b[0m in \u001b[0;36mforward\u001b[1;34m(self, input)\u001b[0m\n\u001b[0;32m     90\u001b[0m     \u001b[1;33m@\u001b[0m\u001b[0mweak_script_method\u001b[0m\u001b[1;33m\u001b[0m\u001b[1;33m\u001b[0m\u001b[0m\n\u001b[0;32m     91\u001b[0m     \u001b[1;32mdef\u001b[0m \u001b[0mforward\u001b[0m\u001b[1;33m(\u001b[0m\u001b[0mself\u001b[0m\u001b[1;33m,\u001b[0m \u001b[0minput\u001b[0m\u001b[1;33m)\u001b[0m\u001b[1;33m:\u001b[0m\u001b[1;33m\u001b[0m\u001b[1;33m\u001b[0m\u001b[0m\n\u001b[1;32m---> 92\u001b[1;33m         \u001b[1;32mreturn\u001b[0m \u001b[0mF\u001b[0m\u001b[1;33m.\u001b[0m\u001b[0mlinear\u001b[0m\u001b[1;33m(\u001b[0m\u001b[0minput\u001b[0m\u001b[1;33m,\u001b[0m \u001b[0mself\u001b[0m\u001b[1;33m.\u001b[0m\u001b[0mweight\u001b[0m\u001b[1;33m,\u001b[0m \u001b[0mself\u001b[0m\u001b[1;33m.\u001b[0m\u001b[0mbias\u001b[0m\u001b[1;33m)\u001b[0m\u001b[1;33m\u001b[0m\u001b[1;33m\u001b[0m\u001b[0m\n\u001b[0m\u001b[0;32m     93\u001b[0m \u001b[1;33m\u001b[0m\u001b[0m\n\u001b[0;32m     94\u001b[0m     \u001b[1;32mdef\u001b[0m \u001b[0mextra_repr\u001b[0m\u001b[1;33m(\u001b[0m\u001b[0mself\u001b[0m\u001b[1;33m)\u001b[0m\u001b[1;33m:\u001b[0m\u001b[1;33m\u001b[0m\u001b[1;33m\u001b[0m\u001b[0m\n",
      "\u001b[1;32m~\\Anaconda3\\lib\\site-packages\\torch\\nn\\functional.py\u001b[0m in \u001b[0;36mlinear\u001b[1;34m(input, weight, bias)\u001b[0m\n\u001b[0;32m   1406\u001b[0m         \u001b[0mret\u001b[0m \u001b[1;33m=\u001b[0m \u001b[0mtorch\u001b[0m\u001b[1;33m.\u001b[0m\u001b[0maddmm\u001b[0m\u001b[1;33m(\u001b[0m\u001b[0mbias\u001b[0m\u001b[1;33m,\u001b[0m \u001b[0minput\u001b[0m\u001b[1;33m,\u001b[0m \u001b[0mweight\u001b[0m\u001b[1;33m.\u001b[0m\u001b[0mt\u001b[0m\u001b[1;33m(\u001b[0m\u001b[1;33m)\u001b[0m\u001b[1;33m)\u001b[0m\u001b[1;33m\u001b[0m\u001b[1;33m\u001b[0m\u001b[0m\n\u001b[0;32m   1407\u001b[0m     \u001b[1;32melse\u001b[0m\u001b[1;33m:\u001b[0m\u001b[1;33m\u001b[0m\u001b[1;33m\u001b[0m\u001b[0m\n\u001b[1;32m-> 1408\u001b[1;33m         \u001b[0moutput\u001b[0m \u001b[1;33m=\u001b[0m \u001b[0minput\u001b[0m\u001b[1;33m.\u001b[0m\u001b[0mmatmul\u001b[0m\u001b[1;33m(\u001b[0m\u001b[0mweight\u001b[0m\u001b[1;33m.\u001b[0m\u001b[0mt\u001b[0m\u001b[1;33m(\u001b[0m\u001b[1;33m)\u001b[0m\u001b[1;33m)\u001b[0m\u001b[1;33m\u001b[0m\u001b[1;33m\u001b[0m\u001b[0m\n\u001b[0m\u001b[0;32m   1409\u001b[0m         \u001b[1;32mif\u001b[0m \u001b[0mbias\u001b[0m \u001b[1;32mis\u001b[0m \u001b[1;32mnot\u001b[0m \u001b[1;32mNone\u001b[0m\u001b[1;33m:\u001b[0m\u001b[1;33m\u001b[0m\u001b[1;33m\u001b[0m\u001b[0m\n\u001b[0;32m   1410\u001b[0m             \u001b[0moutput\u001b[0m \u001b[1;33m+=\u001b[0m \u001b[0mbias\u001b[0m\u001b[1;33m\u001b[0m\u001b[1;33m\u001b[0m\u001b[0m\n",
      "\u001b[1;31mKeyboardInterrupt\u001b[0m: "
     ]
    }
   ],
   "source": [
    "env = rubiks2.RubiksEnv2(2, unsolved_reward = -1.0)\n",
    "network = torch.load('./models/Same/model.pt')\n",
    "env.reset(9)\n",
    "env.render()\n",
    "MCTS = MonteCarloSearchTree(env, network, 60.0, 6)\n",
    "MCTS.search()"
   ]
  },
  {
   "cell_type": "code",
   "execution_count": 5,
   "metadata": {},
   "outputs": [
    {
     "data": {
      "image/png": "[encoded data removed]",
      "text/plain": [
       "<Figure size 432x288 with 1 Axes>"
      ]
     },
     "metadata": {
      "needs_background": "light"
     },
     "output_type": "display_data"
    }
   ],
   "source": [
    "env.step(1)\n",
    "env.render()"
   ]
  },
  {
   "cell_type": "code",
   "execution_count": 9,
   "metadata": {},
   "outputs": [
    {
     "data": {
      "application/vnd.jupyter.widget-view+json": {
       "model_id": "35fa8fa358b04e8fb6857e1bf2162c87",
       "version_major": 2,
       "version_minor": 0
      },
      "text/plain": [
       "HBox(children=(IntProgress(value=0, max=276), HTML(value='')))"
      ]
     },
     "metadata": {},
     "output_type": "display_data"
    },
    {
     "name": "stdout",
     "output_type": "stream",
     "text": [
      "\n"
     ]
    },
    {
     "data": {
      "application/vnd.jupyter.widget-view+json": {
       "model_id": "accfd3b5b98f497dbbdf07136e950598",
       "version_major": 2,
       "version_minor": 0
      },
      "text/plain": [
       "HBox(children=(IntProgress(value=0, max=276), HTML(value='')))"
      ]
     },
     "metadata": {},
     "output_type": "display_data"
    },
    {
     "name": "stdout",
     "output_type": "stream",
     "text": [
      "\n"
     ]
    },
    {
     "data": {
      "application/vnd.jupyter.widget-view+json": {
       "model_id": "a013f7da8c604aa281169326aa62f014",
       "version_major": 2,
       "version_minor": 0
      },
      "text/plain": [
       "HBox(children=(IntProgress(value=0, max=276), HTML(value='')))"
      ]
     },
     "metadata": {},
     "output_type": "display_data"
    },
    {
     "name": "stdout",
     "output_type": "stream",
     "text": [
      "\n"
     ]
    },
    {
     "data": {
      "application/vnd.jupyter.widget-view+json": {
       "model_id": "3be00ce7c0984121af2fc37a7d4e1f0f",
       "version_major": 2,
       "version_minor": 0
      },
      "text/plain": [
       "HBox(children=(IntProgress(value=0, max=276), HTML(value='')))"
      ]
     },
     "metadata": {},
     "output_type": "display_data"
    },
    {
     "name": "stdout",
     "output_type": "stream",
     "text": [
      "\n"
     ]
    },
    {
     "data": {
      "application/vnd.jupyter.widget-view+json": {
       "model_id": "4437c1de17294bfa9780bdb5e70badc2",
       "version_major": 2,
       "version_minor": 0
      },
      "text/plain": [
       "HBox(children=(IntProgress(value=0, max=276), HTML(value='')))"
      ]
     },
     "metadata": {},
     "output_type": "display_data"
    },
    {
     "name": "stdout",
     "output_type": "stream",
     "text": [
      "\n"
     ]
    },
    {
     "data": {
      "application/vnd.jupyter.widget-view+json": {
       "model_id": "c0560b28a8a14e55a9c6fce5293faf62",
       "version_major": 2,
       "version_minor": 0
      },
      "text/plain": [
       "HBox(children=(IntProgress(value=0, max=276), HTML(value='')))"
      ]
     },
     "metadata": {},
     "output_type": "display_data"
    },
    {
     "data": {
      "application/vnd.jupyter.widget-view+json": {
       "model_id": "83f2ad35374d4c998bf941b314a58d56",
       "version_major": 2,
       "version_minor": 0
      },
      "text/plain": [
       "HBox(children=(IntProgress(value=0, max=276), HTML(value='')))"
      ]
     },
     "metadata": {},
     "output_type": "display_data"
    },
    {
     "data": {
      "application/vnd.jupyter.widget-view+json": {
       "model_id": "c14ec391faca457b9d802929e5364593",
       "version_major": 2,
       "version_minor": 0
      },
      "text/plain": [
       "HBox(children=(IntProgress(value=0, max=276), HTML(value='')))"
      ]
     },
     "metadata": {},
     "output_type": "display_data"
    },
    {
     "data": {
      "application/vnd.jupyter.widget-view+json": {
       "model_id": "7773d7c8ccf44b029d5c8b1a008d18c1",
       "version_major": 2,
       "version_minor": 0
      },
      "text/plain": [
       "HBox(children=(IntProgress(value=0, max=276), HTML(value='')))"
      ]
     },
     "metadata": {},
     "output_type": "display_data"
    },
    {
     "data": {
      "application/vnd.jupyter.widget-view+json": {
       "model_id": "bb0c76fc3e5a46b8b72078d4dc6e9a53",
       "version_major": 2,
       "version_minor": 0
      },
      "text/plain": [
       "HBox(children=(IntProgress(value=0, max=276), HTML(value='')))"
      ]
     },
     "metadata": {},
     "output_type": "display_data"
    },
    {
     "data": {
      "application/vnd.jupyter.widget-view+json": {
       "model_id": "197c99ef91af4ccfa07d652de8dc78d2",
       "version_major": 2,
       "version_minor": 0
      },
      "text/plain": [
       "HBox(children=(IntProgress(value=0, max=276), HTML(value='')))"
      ]
     },
     "metadata": {},
     "output_type": "display_data"
    },
    {
     "data": {
      "application/vnd.jupyter.widget-view+json": {
       "model_id": "5e270775a9c2467594ccd4ebb7bf8c58",
       "version_major": 2,
       "version_minor": 0
      },
      "text/plain": [
       "HBox(children=(IntProgress(value=0, max=276), HTML(value='')))"
      ]
     },
     "metadata": {},
     "output_type": "display_data"
    },
    {
     "data": {
      "application/vnd.jupyter.widget-view+json": {
       "model_id": "a12392fb11414d07b7a1df1fa475efa3",
       "version_major": 2,
       "version_minor": 0
      },
      "text/plain": [
       "HBox(children=(IntProgress(value=0, max=276), HTML(value='')))"
      ]
     },
     "metadata": {},
     "output_type": "display_data"
    },
    {
     "data": {
      "application/vnd.jupyter.widget-view+json": {
       "model_id": "129db213cdf1427caa1be57c50be2cc6",
       "version_major": 2,
       "version_minor": 0
      },
      "text/plain": [
       "HBox(children=(IntProgress(value=0, max=276), HTML(value='')))"
      ]
     },
     "metadata": {},
     "output_type": "display_data"
    },
    {
     "name": "stdout",
     "output_type": "stream",
     "text": [
      "[1.         1.         1.         1.         1.         0.81609195\n",
      " 0.60869565 0.29192547 0.11180124 0.02484472 0.         0.00621118\n",
      " 0.00621118 0.        ]\n"
     ]
    }
   ],
   "source": [
    "solve_rate = np.zeros(14)\n",
    "counts = np.zeros(14)\n",
    "for i in range(14):\n",
    "    hashes = []\n",
    "\n",
    "    for sequence in tqdm_notebook(superflip_set):\n",
    "        env = rubiks2.RubiksEnv2(2, unsolved_reward=-1.0)\n",
    "        \n",
    "        hashed_sequence = hash(str(sequence[:i+1]))\n",
    "        \n",
    "        if hashed_sequence in hashes:\n",
    "            break\n",
    "        \n",
    "        counts[i] += 1\n",
    "        \n",
    "        for j in range(i + 1):\n",
    "            env.step(sequence[j])\n",
    "            \n",
    "        MCTS = MonteCarloSearchTree(env, network, 5.0, 6)\n",
    "        solve_rate[i] += MCTS.search()\n",
    "        \n",
    "        hashes.append(hashed_sequence)\n",
    "    \n",
    "print(np.divide(solve_rate, counts))"
   ]
  },
  {
   "cell_type": "code",
   "execution_count": 8,
   "metadata": {},
   "outputs": [],
   "source": [
    "superflip_set = [[4,0,5,1,5,4,5,5,1,3,2,1,3,3],\n",
    "[0,5,1,1,0,0,1,5,0,2,2,4,4,5],\n",
    "[1,2,2,3,3,5,0,4,0,2,4,3,5,0],\n",
    "[1,0,5,0,4,3,3,1,3,1,0,2,3,2],\n",
    "[5,0,5,1,5,1,5,1,5,1,5,3,1,5],\n",
    "[3,5,3,2,4,2,4,5,1,0,4,3,5,0],\n",
    "[2,4,2,0,0,2,4,5,3,1,0,0,4,4],\n",
    "[5,0,5,4,3,2,3,4,3,2,4,2,2,1],\n",
    "[2,0,4,0,4,0,4,0,4,5,3,5,4,5],\n",
    "[2,4,2,4,3,2,2,1,3,5,4,4,2,3],\n",
    "[4,4,0,4,0,5,4,5,0,0,1,3,1,2],\n",
    "[0,4,0,5,1,1,0,2,2,3,2,3,5,5],\n",
    "[0,1,0,4,2,4,2,4,0,2,4,5,4,3],\n",
    "[2,3,2,2,1,5,1,5,3,5,1,5,5,4],\n",
    "[4,0,5,4,0,4,3,2,3,5,1,0,5,0],\n",
    "[2,3,1,2,1,5,3,2,3,1,2,1,2,2],\n",
    "[5,4,0,5,3,1,2,4,2,1,5,1,0,2],\n",
    "[2,4,0,1,3,4,0,0,2,2,4,0,5,4],\n",
    "[5,1,2,3,4,3,5,3,2,4,2,0,2,0],\n",
    "[1,2,0,4,2,3,1,3,1,0,4,5,0,1],\n",
    "[4,2,1,5,0,2,3,5,4,2,3,1,5,3],\n",
    "[2,3,4,5,1,5,0,4,2,3,1,2,1,3],\n",
    "[0,5,1,3,2,4,0,0,4,0,4,0,5,0],\n",
    "[5,1,2,3,5,1,3,4,2,4,5,5,0,2],\n",
    "[0,4,3,5,1,0,5,0,2,3,4,4,3,1],\n",
    "[3,3,4,2,4,5,1,3,3,5,0,2,0,0],\n",
    "[5,3,1,3,5,1,0,0,1,0,1,5,4,4],\n",
    "[2,0,1,5,1,3,1,2,4,3,2,4,0,2],\n",
    "[1,0,4,3,5,3,5,1,5,0,4,3,2,1],\n",
    "[3,1,0,2,2,0,5,3,1,3,4,5,1,3],\n",
    "[1,3,5,4,0,2,2,3,1,3,4,0,2,3],\n",
    "[5,3,1,1,3,2,1,5,0,5,1,1,2,3],\n",
    "[4,3,2,1,3,5,1,5,4,4,2,4,3,4],\n",
    "[4,4,3,5,0,5,5,3,1,3,2,4,5,1],\n",
    "[4,4,5,0,5,3,2,1,1,3,1,0,1,1],\n",
    "[5,1,2,3,2,1,2,3,3,4,3,2,4,4],\n",
    "[3,3,1,2,4,0,4,2,4,3,3,4,2,2],\n",
    "[3,5,0,5,5,3,1,3,2,3,2,1,5,4],\n",
    "[3,4,2,2,4,5,1,5,0,5,1,2,4,5],\n",
    "[4,2,4,2,2,1,0,4,0,1,2,4,5,4],\n",
    "[4,0,4,0,5,1,2,1,3,2,1,0,5,3],\n",
    "[1,2,2,3,3,4,0,2,1,0,4,0,5,0],\n",
    "[2,3,3,5,1,3,2,3,1,5,4,4,2,2],\n",
    "[1,2,2,4,2,4,0,4,3,3,5,5,4,0],\n",
    "[4,0,4,4,5,4,4,2,4,0,5,5,0,4],\n",
    "[5,1,3,2,1,3,2,1,2,1,0,5,4,3],\n",
    "[4,4,2,0,1,1,5,3,1,3,2,0,4,5],\n",
    "[0,1,5,3,2,1,5,3,2,4,0,2,4,2],\n",
    "[1,3,2,3,5,0,1,5,0,1,3,4,0,0],\n",
    "[1,2,1,3,1,5,1,3,1,5,4,3,5,5],\n",
    "[3,1,3,4,2,3,4,3,4,4,0,2,3,1],\n",
    "[5,1,2,2,1,5,0,5,5,3,5,5,1,3],\n",
    "[5,3,2,4,0,5,4,3,2,4,5,3,2,3],\n",
    "[1,2,1,3,2,4,0,4,2,0,1,2,3,5],\n",
    "[3,5,5,3,5,0,5,4,2,2,4,2,3,2],\n",
    "[4,5,1,5,4,2,1,1,3,5,1,2,3,2],\n",
    "[3,5,1,3,3,1,2,3,2,3,1,2,4,2],\n",
    "[2,0,1,3,2,3,1,3,2,4,5,0,4,4],\n",
    "[1,2,4,2,0,0,4,3,1,3,2,2,0,0],\n",
    "[2,3,3,5,4,0,4,0,4,5,4,5,4,0],\n",
    "[2,1,3,2,2,3,1,3,2,0,4,3,3,2],\n",
    "[4,4,5,4,2,2,4,0,5,0,1,3,2,3],\n",
    "[3,2,4,4,3,5,0,4,0,4,5,5,1,0],\n",
    "[3,4,2,4,2,4,2,4,0,2,0,2,0,1],\n",
    "[4,5,3,4,0,4,5,0,1,3,1,2,1,2],\n",
    "[3,5,5,1,3,2,4,3,3,4,3,2,1,1],\n",
    "[3,4,4,3,1,2,3,1,5,0,5,4,5,0],\n",
    "[0,2,0,1,1,5,0,1,3,1,3,5,1,5],\n",
    "[3,1,5,1,2,0,5,3,1,5,5,4,2,4],\n",
    "[2,4,4,5,3,1,3,5,1,2,4,3,3,4],\n",
    "[3,1,3,4,3,5,1,5,0,5,4,4,0,4],\n",
    "[2,3,1,5,3,1,5,1,2,1,5,5,1,2],\n",
    "[3,3,4,0,1,5,3,2,3,3,2,3,1,3],\n",
    "[1,5,3,1,2,0,2,0,4,0,5,3,5,4],\n",
    "[0,1,1,5,0,4,5,0,2,4,5,1,5,4],\n",
    "[3,2,4,2,1,5,0,0,1,2,4,5,4,0],\n",
    "[0,4,0,5,0,4,2,4,2,2,4,2,3,2],\n",
    "[5,0,5,5,4,3,5,1,5,1,5,3,1,5],\n",
    "[0,5,4,5,0,4,0,4,0,1,5,3,3,2],\n",
    "[5,5,3,2,3,1,0,1,5,1,1,3,5,5],\n",
    "[0,5,1,0,5,3,3,5,1,2,0,5,5,4],\n",
    "[0,4,5,5,1,5,0,5,3,1,5,4,3,1],\n",
    "[5,1,0,4,2,2,0,1,2,2,1,5,1,1],\n",
    "[4,4,0,2,3,1,5,1,3,4,4,3,1,1],\n",
    "[0,5,1,5,1,2,2,0,0,1,1,2,4,2],\n",
    "[2,0,2,2,3,1,0,4,0,2,2,3,1,2],\n",
    "[4,0,2,3,1,5,3,1,5,0,2,4,0,4],\n",
    "[1,3,5,4,0,2,4,2,4,3,5,4,4,0],\n",
    "[5,4,3,5,1,5,1,1,2,4,2,0,4,3],\n",
    "[1,5,4,0,5,4,3,1,2,3,4,4,5,3],\n",
    "[0,2,3,2,0,2,3,1,3,1,5,1,0,0],\n",
    "[5,4,3,2,3,2,0,5,0,4,4,2,0,2],\n",
    "[2,1,5,1,2,4,4,0,2,1,2,4,3,3],\n",
    "[2,3,2,2,1,0,1,3,5,1,2,1,1,2],\n",
    "[5,0,4,3,1,3,4,0,1,5,1,0,1,3],\n",
    "[5,5,0,0,2,4,2,1,5,0,4,3,4,4],\n",
    "[1,0,5,0,1,2,4,5,1,3,5,0,2,3],\n",
    "[4,4,2,0,5,1,5,0,5,1,1,5,3,3],\n",
    "[0,2,4,5,5,4,5,3,1,3,3,2,3,1],\n",
    "[4,0,5,5,1,3,5,1,3,1,3,5,0,4],\n",
    "[0,2,2,4,2,4,3,2,2,3,3,1,0,2],\n",
    "[5,1,3,1,2,0,4,2,2,0,4,4,3,1],\n",
    "[1,2,1,1,0,5,0,5,1,2,0,5,3,5],\n",
    "[3,1,5,1,0,4,3,1,0,2,4,5,5,0],\n",
    "[5,5,1,0,4,2,3,2,4,5,5,1,2,2],\n",
    "[2,3,2,3,1,5,0,1,2,3,3,5,1,3],\n",
    "[4,2,4,4,0,4,5,0,5,0,4,3,1,3],\n",
    "[1,3,1,3,4,0,2,2,0,1,0,4,2,2],\n",
    "[3,1,5,1,5,0,4,3,4,5,5,1,3,1],\n",
    "[5,4,0,1,5,0,2,4,0,5,1,1,2,3],\n",
    "[2,1,0,4,5,0,4,2,3,2,4,2,1,0],\n",
    "[0,4,2,1,3,2,4,0,2,1,5,5,3,1],\n",
    "[0,5,3,4,4,3,2,0,5,0,4,5,4,3],\n",
    "[2,3,2,3,5,0,1,5,4,5,0,5,5,4],\n",
    "[4,0,5,5,0,2,0,4,2,0,4,5,0,4],\n",
    "[4,0,4,5,1,5,0,1,2,3,2,1,1,3],\n",
    "[3,4,4,2,1,5,1,3,2,4,4,5,1,1],\n",
    "[0,5,3,3,2,0,2,4,0,4,0,5,1,2],\n",
    "[2,1,5,1,3,1,0,5,0,2,2,3,3,1],\n",
    "[0,4,5,5,0,4,3,1,3,2,3,2,1,3],\n",
    "[1,0,0,5,0,5,1,3,3,1,2,3,2,2],\n",
    "[4,5,1,3,4,2,0,5,4,2,3,5,5,1],\n",
    "[3,2,1,5,3,2,3,4,5,4,4,2,1,3],\n",
    "[3,5,5,1,3,5,3,2,2,1,3,5,1,2],\n",
    "[3,4,2,1,1,2,3,4,3,5,3,5,5,1],\n",
    "[0,4,0,5,0,4,3,2,3,1,1,0,2,1],\n",
    "[2,1,5,0,4,3,4,2,3,3,1,0,0,1],\n",
    "[4,4,3,2,4,2,0,2,0,0,5,0,5,4],\n",
    "[2,0,4,0,4,5,4,2,0,0,2,4,5,0],\n",
    "[1,2,3,1,3,2,4,4,5,3,4,3,5,0],\n",
    "[4,2,3,5,3,2,3,5,3,1,2,3,5,0],\n",
    "[3,4,0,4,2,3,1,0,5,4,4,0,2,2],\n",
    "[4,2,2,4,0,2,3,1,5,1,1,0,4,4],\n",
    "[1,2,0,2,0,4,0,5,3,1,3,4,0,4],\n",
    "[0,1,3,1,1,5,0,1,3,2,4,4,0,5],\n",
    "[2,3,1,3,1,2,3,4,4,2,4,4,3,1],\n",
    "[4,0,5,5,4,5,1,5,0,4,5,3,1,0],\n",
    "[2,4,2,3,2,0,5,4,4,0,5,5,4,0],\n",
    "[5,3,1,5,0,2,1,3,4,2,1,5,1,3],\n",
    "[4,4,0,5,1,3,1,2,1,5,0,1,0,5],\n",
    "[5,1,1,5,1,2,3,1,3,5,5,1,0,0],\n",
    "[1,5,3,2,3,5,0,1,2,2,1,5,1,3],\n",
    "[5,4,0,0,2,1,0,4,2,3,1,3,1,2],\n",
    "[0,1,1,0,4,3,5,0,4,5,3,1,5,3],\n",
    "[5,4,2,4,2,3,2,1,0,0,4,5,0,0],\n",
    "[4,0,5,0,5,0,2,0,4,3,2,3,4,5],\n",
    "[2,0,5,0,4,4,5,4,2,4,0,0,4,4],\n",
    "[0,4,2,3,1,3,4,0,2,2,4,2,2,0],\n",
    "[2,3,4,5,0,1,2,3,2,1,3,5,3,3],\n",
    "[4,2,3,4,3,1,1,3,4,3,4,2,0,4],\n",
    "[0,4,3,2,4,5,5,1,3,2,1,3,5,5],\n",
    "[5,1,0,1,0,5,1,5,4,2,2,4,3,4],\n",
    "[5,5,4,5,4,0,1,5,3,2,1,3,4,4],\n",
    "[4,4,0,5,3,1,5,0,1,3,3,4,2,4],\n",
    "[5,3,2,1,5,1,3,4,5,0,4,4,5,5],\n",
    "[5,0,5,0,5,1,5,5,0,4,3,4,0,2],\n",
    "[0,2,3,4,5,1,5,1,1,3,2,0,4,0],\n",
    "[5,3,2,3,5,0,1,5,4,2,4,3,3,2],\n",
    "[2,4,4,0,4,0,4,2,3,1,2,0,4,5],\n",
    "[5,5,1,3,5,4,3,2,1,5,4,2,3,4],\n",
    "[5,5,4,2,3,1,5,1,2,0,4,3,4,5],\n",
    "[4,2,3,5,3,2,3,5,3,1,2,3,5,3],\n",
    "[1,3,2,4,5,3,3,1,0,2,3,1,0,2],\n",
    "[3,2,4,4,0,5,3,2,0,2,2,1,1,3],\n",
    "[1,0,4,2,1,3,2,2,3,4,5,1,5,5],\n",
    "[3,1,0,4,2,2,4,3,4,0,4,2,2,4],\n",
    "[2,3,1,2,2,4,2,1,5,0,5,1,5,3],\n",
    "[1,5,0,5,3,4,5,4,2,3,5,1,3,2],\n",
    "[0,4,0,4,0,4,5,0,4,5,0,1,2,2],\n",
    "[3,2,4,4,3,4,2,4,5,1,0,0,5,5],\n",
    "[1,3,4,4,5,1,3,5,0,4,2,3,5,3],\n",
    "[3,3,1,5,1,5,1,2,1,3,5,0,5,3],\n",
    "[3,1,0,4,2,3,2,0,2,4,4,3,2,4],\n",
    "[4,2,3,1,1,2,0,2,2,3,1,3,1,5],\n",
    "[5,3,1,5,1,5,3,4,4,2,4,5,4,2],\n",
    "[5,1,2,3,1,1,2,0,5,5,0,5,1,1],\n",
    "[2,4,0,1,3,1,3,2,0,1,1,0,2,2],\n",
    "[4,0,5,5,0,2,2,1,0,1,0,4,5,5],\n",
    "[3,2,1,5,0,5,0,1,5,1,2,0,4,0],\n",
    "[2,4,2,3,5,0,2,2,1,5,3,2,3,1],\n",
    "[3,3,5,1,2,3,3,5,1,3,4,2,2,3],\n",
    "[5,1,3,4,3,5,3,1,2,4,4,0,2,4],\n",
    "[4,4,3,4,5,0,2,3,2,3,4,2,1,2],\n",
    "[2,3,3,2,3,3,1,5,4,5,0,4,0,1],\n",
    "[4,2,3,1,3,5,4,0,1,3,4,2,1,1],\n",
    "[5,0,2,4,5,3,3,1,3,5,4,0,1,1],\n",
    "[3,4,0,1,5,0,0,1,2,4,0,4,4,3],\n",
    "[2,3,5,4,2,4,0,2,0,5,1,1,5,5],\n",
    "[4,2,3,5,1,3,2,1,5,4,3,1,5,3],\n",
    "[5,1,3,5,4,2,3,4,5,1,2,3,4,0],\n",
    "[5,5,3,2,3,4,0,4,3,1,0,5,4,5],\n",
    "[3,5,0,4,3,5,5,1,3,2,0,2,4,2],\n",
    "[3,1,2,0,5,1,0,2,3,5,1,0,4,5],\n",
    "[2,0,5,3,3,5,1,3,4,2,3,5,3,4],\n",
    "[1,0,5,1,2,3,1,1,2,4,4,2,2,0],\n",
    "[1,5,1,5,1,3,5,0,4,3,1,5,4,2],\n",
    "[0,1,3,3,2,3,4,5,1,5,1,0,0,4],\n",
    "[1,3,4,0,5,3,2,0,1,3,2,4,0,2],\n",
    "[3,2,3,2,2,1,2,1,3,1,3,1,2,4],\n",
    "[4,2,4,0,2,0,4,3,5,0,4,0,4,5],\n",
    "[3,1,2,2,4,0,4,2,3,1,0,1,5,1],\n",
    "[0,1,1,5,1,3,1,5,4,3,1,5,3,3],\n",
    "[3,3,2,2,3,1,2,0,4,2,3,4,3,1],\n",
    "[4,4,0,4,3,1,2,1,5,5,4,2,0,2],\n",
    "[2,4,0,0,1,2,4,2,3,1,2,4,4,3],\n",
    "[3,1,0,4,2,2,4,3,4,0,5,5,0,5],\n",
    "[5,3,1,1,0,5,1,2,1,0,2,2,1,2],\n",
    "[5,3,4,0,4,3,3,5,1,2,3,2,4,3],\n",
    "[2,3,5,1,3,3,5,4,2,2,4,2,0,0],\n",
    "[0,5,1,3,2,3,2,4,3,1,1,2,3,4],\n",
    "[4,2,4,4,3,5,0,4,3,2,3,3,1,1],\n",
    "[2,4,0,0,4,3,3,5,3,5,4,0,5,5],\n",
    "[2,3,2,2,1,5,4,2,3,4,5,3,2,4],\n",
    "[2,1,3,1,1,0,4,2,3,1,2,0,5,1],\n",
    "[0,5,0,5,1,3,2,4,5,4,2,1,3,5],\n",
    "[5,1,0,4,3,2,4,2,4,5,5,3,2,4],\n",
    "[5,0,4,0,4,5,0,2,0,4,0,5,0,1],\n",
    "[2,3,2,4,3,1,5,4,2,3,5,0,4,2],\n",
    "[1,5,0,5,1,2,3,2,4,0,0,4,3,4],\n",
    "[2,3,4,0,2,2,1,3,2,4,2,4,2,4],\n",
    "[2,0,1,5,0,0,4,2,4,3,2,0,0,1],\n",
    "[5,5,3,1,3,3,5,0,2,3,2,4,0,4],\n",
    "[0,2,2,4,2,3,2,4,4,2,1,3,4,4],\n",
    "[2,0,4,2,2,1,3,2,3,2,4,3,1,0],\n",
    "[3,1,2,3,5,1,5,5,3,3,1,0,4,0],\n",
    "[3,5,0,1,1,3,2,3,1,5,0,2,0,4],\n",
    "[4,5,1,3,2,2,1,1,3,1,5,0,5,3],\n",
    "[5,0,4,2,3,2,4,3,2,3,5,0,5,4],\n",
    "[3,2,1,2,4,2,1,2,4,4,0,2,4,3],\n",
    "[3,5,5,4,4,2,3,2,0,5,4,4,5,0],\n",
    "[1,0,2,4,2,0,0,5,0,5,1,0,4,2],\n",
    "[4,2,4,3,2,4,2,1,0,5,1,2,2,3],\n",
    "[2,1,0,0,5,0,1,3,2,3,1,1,2,0],\n",
    "[4,2,2,1,2,4,2,3,2,0,2,1,2,4],\n",
    "[2,3,5,4,4,0,1,2,1,5,0,0,1,1],\n",
    "[5,5,1,0,2,3,1,5,5,4,0,5,3,4],\n",
    "[3,1,5,4,2,3,2,0,2,4,0,0,4,0],\n",
    "[3,2,3,4,0,1,3,4,5,0,1,1,5,1],\n",
    "[5,3,1,2,0,4,0,2,4,2,0,1,2,2],\n",
    "[2,4,3,4,2,4,0,4,2,3,1,0,1,5],\n",
    "[3,3,1,2,2,1,0,5,1,3,1,0,5,0],\n",
    "[4,2,1,5,0,4,4,2,2,0,5,3,2,4],\n",
    "[0,5,1,2,2,1,0,1,3,5,0,4,0,1],\n",
    "[2,4,5,4,0,1,1,5,3,1,3,2,3,2],\n",
    "[5,0,4,0,4,5,4,2,1,0,4,0,4,4],\n",
    "[4,4,5,4,2,2,0,1,3,1,3,5,1,2],\n",
    "[2,1,3,5,0,2,3,4,5,1,3,4,5,1],\n",
    "[0,2,3,5,5,3,1,3,4,0,5,3,5,4],\n",
    "[4,3,1,3,2,4,0,4,2,4,5,0,1,1],\n",
    "[0,5,3,4,4,2,4,2,3,5,1,1,0,1],\n",
    "[3,4,4,2,4,0,1,0,0,1,0,0,2,1],\n",
    "[4,3,2,1,5,3,1,5,3,5,3,4,0,1],\n",
    "[2,4,2,3,1,0,2,3,3,4,3,4,5,1],\n",
    "[2,4,2,0,1,5,1,3,5,1,2,3,3,5],\n",
    "[3,4,0,4,4,0,4,2,0,1,1,0,5,5],\n",
    "[5,5,1,0,5,0,4,3,1,3,2,2,3,3],\n",
    "[3,1,5,3,1,5,1,3,5,1,5,1,1,2],\n",
    "[4,2,3,1,5,5,0,5,0,2,1,5,1,1],\n",
    "[5,4,2,1,5,0,4,0,5,4,5,5,4,5],\n",
    "[0,5,4,2,0,4,2,1,2,0,0,5,4,2],\n",
    "[5,0,0,2,2,1,5,4,2,4,4,3,3,4],\n",
    "[3,1,0,5,1,5,4,2,4,5,4,3,5,1],\n",
    "[4,4,5,0,4,5,3,3,5,1,0,4,2,1],\n",
    "[4,2,3,4,0,2,4,2,2,4,0,5,4,4],\n",
    "[2,4,5,4,0,1,5,1,5,3,5,0,0,1],\n",
    "[3,4,2,4,0,1,2,4,4,3,1,0,1,2],\n",
    "[5,1,2,2,3,5,0,5,4,0,5,5,4,4],\n",
    "[3,2,3,1,2,2,4,5,3,3,1,3,1,5],\n",
    "[3,4,3,2,4,0,4,0,1,2,1,5,0,5],\n",
    "[1,5,4,3,1,5,3,2,0,5,0,2,3,1],\n",
    "[4,5,1,3,5,0,4,2,3,2,0,2,4,4],\n",
    "[1,3,2,4,0,2,3,5,4,2,3,2,4,4],\n",
    "[2,0,1,1,5,0,2,3,2,4,2,2,0,2],\n",
    "[3,1,5,0,4,2,4,2,1,0,4,2,1,1],\n",
    "[3,4,2,4,0,5,3,1,1,3,1,2,4,2],\n",
    "[4,4,5,3,5,1,2,3,1,2,2,4,2,1]]"
   ]
  },
  {
   "cell_type": "code",
   "execution_count": null,
   "metadata": {},
   "outputs": [],
   "source": []
  }
 ],
 "metadata": {
  "kernelspec": {
   "display_name": "Python 3",
   "language": "python",
   "name": "python3"
  },
  "language_info": {
   "codemirror_mode": {
    "name": "ipython",
    "version": 3
   },
   "file_extension": ".py",
   "mimetype": "text/x-python",
   "name": "python",
   "nbconvert_exporter": "python",
   "pygments_lexer": "ipython3",
   "version": "3.6.8"
  }
 },
 "nbformat": 4,
 "nbformat_minor": 2
}
