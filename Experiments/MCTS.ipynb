{
 "cells": [
  {
   "cell_type": "code",
   "execution_count": 1,
   "metadata": {},
   "outputs": [],
   "source": [
    "import numpy as np\n",
    "import torch\n",
    "from networks import DQN\n",
    "import rubiks2\n",
    "import copy\n",
    "import time\n",
    "from tqdm import tqdm_notebook\n",
    "from MCTS import MonteCarloSearchTree, State"
   ]
  },
  {
   "cell_type": "code",
   "execution_count": 2,
   "metadata": {},
   "outputs": [
    {
     "ename": "FileNotFoundError",
     "evalue": "[Errno 2] No such file or directory: './models/Exp3sSame/model.pt'",
     "output_type": "error",
     "traceback": [
      "\u001b[0;31m---------------------------------------------------------------------------\u001b[0m",
      "\u001b[0;31mFileNotFoundError\u001b[0m                         Traceback (most recent call last)",
      "\u001b[0;32m<ipython-input-2-c41701d927f1>\u001b[0m in \u001b[0;36m<module>\u001b[0;34m()\u001b[0m\n\u001b[1;32m      1\u001b[0m \u001b[0menv\u001b[0m \u001b[0;34m=\u001b[0m \u001b[0mrubiks2\u001b[0m\u001b[0;34m.\u001b[0m\u001b[0mRubiksEnv2\u001b[0m\u001b[0;34m(\u001b[0m\u001b[0;36m2\u001b[0m\u001b[0;34m,\u001b[0m \u001b[0munsolved_reward\u001b[0m \u001b[0;34m=\u001b[0m \u001b[0;34m-\u001b[0m\u001b[0;36m1.0\u001b[0m\u001b[0;34m)\u001b[0m\u001b[0;34m\u001b[0m\u001b[0;34m\u001b[0m\u001b[0m\n\u001b[0;32m----> 2\u001b[0;31m \u001b[0mnetwork\u001b[0m \u001b[0;34m=\u001b[0m \u001b[0mtorch\u001b[0m\u001b[0;34m.\u001b[0m\u001b[0mload\u001b[0m\u001b[0;34m(\u001b[0m\u001b[0;34m'./models/Exp3sSame/model.pt'\u001b[0m\u001b[0;34m)\u001b[0m\u001b[0;34m\u001b[0m\u001b[0;34m\u001b[0m\u001b[0m\n\u001b[0m\u001b[1;32m      3\u001b[0m \u001b[0mc\u001b[0m \u001b[0;34m=\u001b[0m \u001b[0;36m4.0\u001b[0m\u001b[0;34m\u001b[0m\u001b[0;34m\u001b[0m\u001b[0m\n\u001b[1;32m      4\u001b[0m \u001b[0mnu\u001b[0m \u001b[0;34m=\u001b[0m \u001b[0;36m2.0\u001b[0m\u001b[0;34m\u001b[0m\u001b[0;34m\u001b[0m\u001b[0m\n\u001b[1;32m      5\u001b[0m \u001b[0mdevice\u001b[0m \u001b[0;34m=\u001b[0m \u001b[0mtorch\u001b[0m\u001b[0;34m.\u001b[0m\u001b[0mdevice\u001b[0m\u001b[0;34m(\u001b[0m\u001b[0;34m\"cuda\"\u001b[0m \u001b[0;32mif\u001b[0m \u001b[0mtorch\u001b[0m\u001b[0;34m.\u001b[0m\u001b[0mcuda\u001b[0m\u001b[0;34m.\u001b[0m\u001b[0mis_available\u001b[0m\u001b[0;34m(\u001b[0m\u001b[0;34m)\u001b[0m \u001b[0;32melse\u001b[0m \u001b[0;34m\"cpu\"\u001b[0m\u001b[0;34m)\u001b[0m\u001b[0;34m\u001b[0m\u001b[0;34m\u001b[0m\u001b[0m\n",
      "\u001b[0;32m~/.local/lib/python3.6/site-packages/torch/serialization.py\u001b[0m in \u001b[0;36mload\u001b[0;34m(f, map_location, pickle_module)\u001b[0m\n\u001b[1;32m    364\u001b[0m             \u001b[0;34m(\u001b[0m\u001b[0msys\u001b[0m\u001b[0;34m.\u001b[0m\u001b[0mversion_info\u001b[0m\u001b[0;34m[\u001b[0m\u001b[0;36m0\u001b[0m\u001b[0;34m]\u001b[0m \u001b[0;34m==\u001b[0m \u001b[0;36m3\u001b[0m \u001b[0;32mand\u001b[0m \u001b[0misinstance\u001b[0m\u001b[0;34m(\u001b[0m\u001b[0mf\u001b[0m\u001b[0;34m,\u001b[0m \u001b[0mpathlib\u001b[0m\u001b[0;34m.\u001b[0m\u001b[0mPath\u001b[0m\u001b[0;34m)\u001b[0m\u001b[0;34m)\u001b[0m\u001b[0;34m:\u001b[0m\u001b[0;34m\u001b[0m\u001b[0;34m\u001b[0m\u001b[0m\n\u001b[1;32m    365\u001b[0m         \u001b[0mnew_fd\u001b[0m \u001b[0;34m=\u001b[0m \u001b[0;32mTrue\u001b[0m\u001b[0;34m\u001b[0m\u001b[0;34m\u001b[0m\u001b[0m\n\u001b[0;32m--> 366\u001b[0;31m         \u001b[0mf\u001b[0m \u001b[0;34m=\u001b[0m \u001b[0mopen\u001b[0m\u001b[0;34m(\u001b[0m\u001b[0mf\u001b[0m\u001b[0;34m,\u001b[0m \u001b[0;34m'rb'\u001b[0m\u001b[0;34m)\u001b[0m\u001b[0;34m\u001b[0m\u001b[0;34m\u001b[0m\u001b[0m\n\u001b[0m\u001b[1;32m    367\u001b[0m     \u001b[0;32mtry\u001b[0m\u001b[0;34m:\u001b[0m\u001b[0;34m\u001b[0m\u001b[0;34m\u001b[0m\u001b[0m\n\u001b[1;32m    368\u001b[0m         \u001b[0;32mreturn\u001b[0m \u001b[0m_load\u001b[0m\u001b[0;34m(\u001b[0m\u001b[0mf\u001b[0m\u001b[0;34m,\u001b[0m \u001b[0mmap_location\u001b[0m\u001b[0;34m,\u001b[0m \u001b[0mpickle_module\u001b[0m\u001b[0;34m)\u001b[0m\u001b[0;34m\u001b[0m\u001b[0;34m\u001b[0m\u001b[0m\n",
      "\u001b[0;31mFileNotFoundError\u001b[0m: [Errno 2] No such file or directory: './models/Exp3sSame/model.pt'"
     ]
    }
   ],
   "source": [
    "env = rubiks2.RubiksEnv2(2, unsolved_reward = -1.0)\n",
    "network = torch.load('./models/Exp3sSame/model.pt')\n",
    "c = 4.0\n",
    "nu = 2.0\n",
    "device = torch.device(\"cuda\" if torch.cuda.is_available() else \"cpu\")\n",
    "MCTS = MonteCarloSearchTree(env, network, 60.0, device, c, nu)"
   ]
  },
  {
   "cell_type": "code",
   "execution_count": 4,
   "metadata": {},
   "outputs": [
    {
     "data": {
      "image/png": "[encoded data removed]",
      "text/plain": [
       "<Figure size 432x288 with 1 Axes>"
      ]
     },
     "metadata": {},
     "output_type": "display_data"
    }
   ],
   "source": [
    "env.step(1)\n",
    "env.render()"
   ]
  },
  {
   "cell_type": "code",
   "execution_count": 7,
   "metadata": {
    "scrolled": true
   },
   "outputs": [
    {
     "data": {
      "application/vnd.jupyter.widget-view+json": {
       "model_id": "1cc455e7c319473fb66cc28f6c85944c",
       "version_major": 2,
       "version_minor": 0
      },
      "text/html": [
       "<p>Failed to display Jupyter Widget of type <code>HBox</code>.</p>\n",
       "<p>\n",
       "  If you're reading this message in the Jupyter Notebook or JupyterLab Notebook, it may mean\n",
       "  that the widgets JavaScript is still loading. If this message persists, it\n",
       "  likely means that the widgets JavaScript library is either not installed or\n",
       "  not enabled. See the <a href=\"https://ipywidgets.readthedocs.io/en/stable/user_install.html\">Jupyter\n",
       "  Widgets Documentation</a> for setup instructions.\n",
       "</p>\n",
       "<p>\n",
       "  If you're reading this message in another frontend (for example, a static\n",
       "  rendering on GitHub or <a href=\"https://nbviewer.jupyter.org/\">NBViewer</a>),\n",
       "  it may mean that your frontend doesn't currently support widgets.\n",
       "</p>\n"
      ],
      "text/plain": [
       "HBox(children=(IntProgress(value=0, max=276), HTML(value='')))"
      ]
     },
     "metadata": {},
     "output_type": "display_data"
    },
    {
     "name": "stdout",
     "output_type": "stream",
     "text": [
      "\n"
     ]
    },
    {
     "data": {
      "application/vnd.jupyter.widget-view+json": {
       "model_id": "f070678eedbf48e18504eb0cf8e7932a",
       "version_major": 2,
       "version_minor": 0
      },
      "text/html": [
       "<p>Failed to display Jupyter Widget of type <code>HBox</code>.</p>\n",
       "<p>\n",
       "  If you're reading this message in the Jupyter Notebook or JupyterLab Notebook, it may mean\n",
       "  that the widgets JavaScript is still loading. If this message persists, it\n",
       "  likely means that the widgets JavaScript library is either not installed or\n",
       "  not enabled. See the <a href=\"https://ipywidgets.readthedocs.io/en/stable/user_install.html\">Jupyter\n",
       "  Widgets Documentation</a> for setup instructions.\n",
       "</p>\n",
       "<p>\n",
       "  If you're reading this message in another frontend (for example, a static\n",
       "  rendering on GitHub or <a href=\"https://nbviewer.jupyter.org/\">NBViewer</a>),\n",
       "  it may mean that your frontend doesn't currently support widgets.\n",
       "</p>\n"
      ],
      "text/plain": [
       "HBox(children=(IntProgress(value=0, max=276), HTML(value='')))"
      ]
     },
     "metadata": {},
     "output_type": "display_data"
    },
    {
     "name": "stdout",
     "output_type": "stream",
     "text": [
      "\n"
     ]
    },
    {
     "data": {
      "application/vnd.jupyter.widget-view+json": {
       "model_id": "702db6f4fb57402fa53aaaf7569e0662",
       "version_major": 2,
       "version_minor": 0
      },
      "text/html": [
       "<p>Failed to display Jupyter Widget of type <code>HBox</code>.</p>\n",
       "<p>\n",
       "  If you're reading this message in the Jupyter Notebook or JupyterLab Notebook, it may mean\n",
       "  that the widgets JavaScript is still loading. If this message persists, it\n",
       "  likely means that the widgets JavaScript library is either not installed or\n",
       "  not enabled. See the <a href=\"https://ipywidgets.readthedocs.io/en/stable/user_install.html\">Jupyter\n",
       "  Widgets Documentation</a> for setup instructions.\n",
       "</p>\n",
       "<p>\n",
       "  If you're reading this message in another frontend (for example, a static\n",
       "  rendering on GitHub or <a href=\"https://nbviewer.jupyter.org/\">NBViewer</a>),\n",
       "  it may mean that your frontend doesn't currently support widgets.\n",
       "</p>\n"
      ],
      "text/plain": [
       "HBox(children=(IntProgress(value=0, max=276), HTML(value='')))"
      ]
     },
     "metadata": {},
     "output_type": "display_data"
    },
    {
     "name": "stdout",
     "output_type": "stream",
     "text": [
      "\n"
     ]
    },
    {
     "data": {
      "application/vnd.jupyter.widget-view+json": {
       "model_id": "458fecce35fb4a94b71499a94f168ee8",
       "version_major": 2,
       "version_minor": 0
      },
      "text/html": [
       "<p>Failed to display Jupyter Widget of type <code>HBox</code>.</p>\n",
       "<p>\n",
       "  If you're reading this message in the Jupyter Notebook or JupyterLab Notebook, it may mean\n",
       "  that the widgets JavaScript is still loading. If this message persists, it\n",
       "  likely means that the widgets JavaScript library is either not installed or\n",
       "  not enabled. See the <a href=\"https://ipywidgets.readthedocs.io/en/stable/user_install.html\">Jupyter\n",
       "  Widgets Documentation</a> for setup instructions.\n",
       "</p>\n",
       "<p>\n",
       "  If you're reading this message in another frontend (for example, a static\n",
       "  rendering on GitHub or <a href=\"https://nbviewer.jupyter.org/\">NBViewer</a>),\n",
       "  it may mean that your frontend doesn't currently support widgets.\n",
       "</p>\n"
      ],
      "text/plain": [
       "HBox(children=(IntProgress(value=0, max=276), HTML(value='')))"
      ]
     },
     "metadata": {},
     "output_type": "display_data"
    },
    {
     "name": "stdout",
     "output_type": "stream",
     "text": [
      "\n"
     ]
    },
    {
     "data": {
      "application/vnd.jupyter.widget-view+json": {
       "model_id": "d86b7375091d478eb8a91daf13f4bba6",
       "version_major": 2,
       "version_minor": 0
      },
      "text/html": [
       "<p>Failed to display Jupyter Widget of type <code>HBox</code>.</p>\n",
       "<p>\n",
       "  If you're reading this message in the Jupyter Notebook or JupyterLab Notebook, it may mean\n",
       "  that the widgets JavaScript is still loading. If this message persists, it\n",
       "  likely means that the widgets JavaScript library is either not installed or\n",
       "  not enabled. See the <a href=\"https://ipywidgets.readthedocs.io/en/stable/user_install.html\">Jupyter\n",
       "  Widgets Documentation</a> for setup instructions.\n",
       "</p>\n",
       "<p>\n",
       "  If you're reading this message in another frontend (for example, a static\n",
       "  rendering on GitHub or <a href=\"https://nbviewer.jupyter.org/\">NBViewer</a>),\n",
       "  it may mean that your frontend doesn't currently support widgets.\n",
       "</p>\n"
      ],
      "text/plain": [
       "HBox(children=(IntProgress(value=0, max=276), HTML(value='')))"
      ]
     },
     "metadata": {},
     "output_type": "display_data"
    },
    {
     "name": "stdout",
     "output_type": "stream",
     "text": [
      "\n"
     ]
    },
    {
     "data": {
      "application/vnd.jupyter.widget-view+json": {
       "model_id": "5508b047f23246ea9a3b49d92c980832",
       "version_major": 2,
       "version_minor": 0
      },
      "text/html": [
       "<p>Failed to display Jupyter Widget of type <code>HBox</code>.</p>\n",
       "<p>\n",
       "  If you're reading this message in the Jupyter Notebook or JupyterLab Notebook, it may mean\n",
       "  that the widgets JavaScript is still loading. If this message persists, it\n",
       "  likely means that the widgets JavaScript library is either not installed or\n",
       "  not enabled. See the <a href=\"https://ipywidgets.readthedocs.io/en/stable/user_install.html\">Jupyter\n",
       "  Widgets Documentation</a> for setup instructions.\n",
       "</p>\n",
       "<p>\n",
       "  If you're reading this message in another frontend (for example, a static\n",
       "  rendering on GitHub or <a href=\"https://nbviewer.jupyter.org/\">NBViewer</a>),\n",
       "  it may mean that your frontend doesn't currently support widgets.\n",
       "</p>\n"
      ],
      "text/plain": [
       "HBox(children=(IntProgress(value=0, max=276), HTML(value='')))"
      ]
     },
     "metadata": {},
     "output_type": "display_data"
    },
    {
     "name": "stdout",
     "output_type": "stream",
     "text": [
      "\n"
     ]
    },
    {
     "data": {
      "application/vnd.jupyter.widget-view+json": {
       "model_id": "9fb0215fbc7d495e80c89d30a350a0a3",
       "version_major": 2,
       "version_minor": 0
      },
      "text/html": [
       "<p>Failed to display Jupyter Widget of type <code>HBox</code>.</p>\n",
       "<p>\n",
       "  If you're reading this message in the Jupyter Notebook or JupyterLab Notebook, it may mean\n",
       "  that the widgets JavaScript is still loading. If this message persists, it\n",
       "  likely means that the widgets JavaScript library is either not installed or\n",
       "  not enabled. See the <a href=\"https://ipywidgets.readthedocs.io/en/stable/user_install.html\">Jupyter\n",
       "  Widgets Documentation</a> for setup instructions.\n",
       "</p>\n",
       "<p>\n",
       "  If you're reading this message in another frontend (for example, a static\n",
       "  rendering on GitHub or <a href=\"https://nbviewer.jupyter.org/\">NBViewer</a>),\n",
       "  it may mean that your frontend doesn't currently support widgets.\n",
       "</p>\n"
      ],
      "text/plain": [
       "HBox(children=(IntProgress(value=0, max=276), HTML(value='')))"
      ]
     },
     "metadata": {},
     "output_type": "display_data"
    },
    {
     "name": "stdout",
     "output_type": "stream",
     "text": [
      "[1.         1.         0.99019608 0.98529412 0.96850394 0.83520599\n",
      " 0.60606061        nan        nan        nan        nan        nan\n",
      "        nan        nan]\n",
      "[1.         2.         3.15841584 4.14925373 5.14634146 6.34977578\n",
      " 7.3               nan        nan        nan        nan        nan\n",
      "        nan        nan]\n"
     ]
    },
    {
     "name": "stderr",
     "output_type": "stream",
     "text": [
      "/home/joe/anaconda3/lib/python3.6/site-packages/ipykernel_launcher.py:41: RuntimeWarning: invalid value encountered in true_divide\n",
      "/home/joe/anaconda3/lib/python3.6/site-packages/ipykernel_launcher.py:42: RuntimeWarning: invalid value encountered in true_divide\n"
     ]
    }
   ],
   "source": [
    "c = 4.0\n",
    "nu = 10.0\n",
    "\n",
    "solve_rate = np.zeros(14)\n",
    "counts = np.zeros(14)\n",
    "seq_len = np.zeros(14)\n",
    "\n",
    "try:\n",
    "    for i in range(14):\n",
    "        hashes = []\n",
    "        if i > 0:\n",
    "            if solve_rate[i-1]==0:\n",
    "                break\n",
    "\n",
    "        for sequence in tqdm_notebook(superflip_set):\n",
    "            env = rubiks2.RubiksEnv2(2, unsolved_reward=-1.0)\n",
    "\n",
    "            hashed_sequence = hash(str(sequence[:i+1]))\n",
    "\n",
    "            if not hashed_sequence in hashes:\n",
    "\n",
    "                hashes.append(hashed_sequence)\n",
    "\n",
    "\n",
    "                counts[i] += 1\n",
    "\n",
    "                for j in range(i + 1):\n",
    "                    env.step(sequence[j])\n",
    "\n",
    "                MCTS = MonteCarloSearchTree(env, network, 5.0, device, c, nu)\n",
    "                solved, solve_sequence = MCTS.search()\n",
    "                solve_rate[i] += solved\n",
    "\n",
    "                if solved:\n",
    "                    seq_len[i] += len(solve_sequence)\n",
    "\n",
    "\n",
    "except KeyboardInterrupt:\n",
    "    pass\n",
    "\n",
    "print(np.divide(solve_rate, counts))\n",
    "print(np.divide(seq_len, solve_rate))"
   ]
  },
  {
   "cell_type": "code",
   "execution_count": 58,
   "metadata": {},
   "outputs": [
    {
     "name": "stdout",
     "output_type": "stream",
     "text": [
      "[  6.  27. 102. 204. 254. 267. 274. 274. 274. 274. 275. 275. 275. 276.]\n"
     ]
    },
    {
     "data": {
      "text/plain": [
       "array([  6.,  27., 100., 189., 226., 232., 183.,  90.,  42.,  10.,   6.,\n",
       "         6.,   3.,   1.])"
      ]
     },
     "execution_count": 58,
     "metadata": {},
     "output_type": "execute_result"
    }
   ],
   "source": [
    "print(counts)\n",
    "solve_rate"
   ]
  },
  {
   "cell_type": "code",
   "execution_count": 59,
   "metadata": {},
   "outputs": [
    {
     "data": {
      "application/vnd.jupyter.widget-view+json": {
       "model_id": "6274af8591c34571b492cff0e7406ac7",
       "version_major": 2,
       "version_minor": 0
      },
      "text/html": [
       "<p>Failed to display Jupyter Widget of type <code>HBox</code>.</p>\n",
       "<p>\n",
       "  If you're reading this message in the Jupyter Notebook or JupyterLab Notebook, it may mean\n",
       "  that the widgets JavaScript is still loading. If this message persists, it\n",
       "  likely means that the widgets JavaScript library is either not installed or\n",
       "  not enabled. See the <a href=\"https://ipywidgets.readthedocs.io/en/stable/user_install.html\">Jupyter\n",
       "  Widgets Documentation</a> for setup instructions.\n",
       "</p>\n",
       "<p>\n",
       "  If you're reading this message in another frontend (for example, a static\n",
       "  rendering on GitHub or <a href=\"https://nbviewer.jupyter.org/\">NBViewer</a>),\n",
       "  it may mean that your frontend doesn't currently support widgets.\n",
       "</p>\n"
      ],
      "text/plain": [
       "HBox(children=(IntProgress(value=0, max=640), HTML(value='')))"
      ]
     },
     "metadata": {},
     "output_type": "display_data"
    },
    {
     "name": "stdout",
     "output_type": "stream",
     "text": [
      "0.4390625\n",
      "7.797153024911032\n"
     ]
    }
   ],
   "source": [
    "c = 4.0\n",
    "nu = 10.0\n",
    "\n",
    "solve_rate = 0\n",
    "counts = 0\n",
    "seq_len = 0\n",
    "\n",
    "try:\n",
    "    for i in tqdm_notebook(range(640)):\n",
    "        env = rubiks2.RubiksEnv2(2, unsolved_reward=-1.0)\n",
    "        env.reset(15)\n",
    "        \n",
    "        counts += 1\n",
    "\n",
    "        MCTS = MonteCarloSearchTree(env, network, 5.0, device, c, nu)\n",
    "        solved, solve_sequence = MCTS.search()\n",
    "        solve_rate += solved\n",
    "\n",
    "        if solved:\n",
    "            seq_len += len(solve_sequence)\n",
    "        \n",
    "except KeyboardInterrupt:\n",
    "    pass\n",
    "\n",
    "print(solve_rate/counts)\n",
    "print(seq_len/solve_rate)"
   ]
  },
  {
   "cell_type": "code",
   "execution_count": 61,
   "metadata": {},
   "outputs": [
    {
     "data": {
      "application/vnd.jupyter.widget-view+json": {
       "model_id": "04dbd5b5409c4863977900944c124cdc",
       "version_major": 2,
       "version_minor": 0
      },
      "text/html": [
       "<p>Failed to display Jupyter Widget of type <code>HBox</code>.</p>\n",
       "<p>\n",
       "  If you're reading this message in the Jupyter Notebook or JupyterLab Notebook, it may mean\n",
       "  that the widgets JavaScript is still loading. If this message persists, it\n",
       "  likely means that the widgets JavaScript library is either not installed or\n",
       "  not enabled. See the <a href=\"https://ipywidgets.readthedocs.io/en/stable/user_install.html\">Jupyter\n",
       "  Widgets Documentation</a> for setup instructions.\n",
       "</p>\n",
       "<p>\n",
       "  If you're reading this message in another frontend (for example, a static\n",
       "  rendering on GitHub or <a href=\"https://nbviewer.jupyter.org/\">NBViewer</a>),\n",
       "  it may mean that your frontend doesn't currently support widgets.\n",
       "</p>\n"
      ],
      "text/plain": [
       "HBox(children=(IntProgress(value=0, max=640), HTML(value='')))"
      ]
     },
     "metadata": {},
     "output_type": "display_data"
    },
    {
     "ename": "RuntimeError",
     "evalue": "CUDA error: unspecified launch failure",
     "output_type": "error",
     "traceback": [
      "\u001b[0;31m---------------------------------------------------------------------------\u001b[0m",
      "\u001b[0;31mRuntimeError\u001b[0m                              Traceback (most recent call last)",
      "\u001b[0;32m<ipython-input-61-fb08add09584>\u001b[0m in \u001b[0;36m<module>\u001b[0;34m()\u001b[0m\n\u001b[1;32m     13\u001b[0m         \u001b[0mcounts\u001b[0m \u001b[0;34m+=\u001b[0m \u001b[0;36m1\u001b[0m\u001b[0;34m\u001b[0m\u001b[0;34m\u001b[0m\u001b[0m\n\u001b[1;32m     14\u001b[0m \u001b[0;34m\u001b[0m\u001b[0m\n\u001b[0;32m---> 15\u001b[0;31m         \u001b[0mMCTS\u001b[0m \u001b[0;34m=\u001b[0m \u001b[0mMonteCarloSearchTree\u001b[0m\u001b[0;34m(\u001b[0m\u001b[0menv\u001b[0m\u001b[0;34m,\u001b[0m \u001b[0mnetwork\u001b[0m\u001b[0;34m,\u001b[0m \u001b[0;36m5.0\u001b[0m\u001b[0;34m,\u001b[0m \u001b[0mdevice\u001b[0m\u001b[0;34m,\u001b[0m \u001b[0mc\u001b[0m\u001b[0;34m,\u001b[0m \u001b[0mnu\u001b[0m\u001b[0;34m)\u001b[0m\u001b[0;34m\u001b[0m\u001b[0;34m\u001b[0m\u001b[0m\n\u001b[0m\u001b[1;32m     16\u001b[0m         \u001b[0msolved\u001b[0m\u001b[0;34m,\u001b[0m \u001b[0msolve_sequence\u001b[0m \u001b[0;34m=\u001b[0m \u001b[0mMCTS\u001b[0m\u001b[0;34m.\u001b[0m\u001b[0msearch\u001b[0m\u001b[0;34m(\u001b[0m\u001b[0;34m)\u001b[0m\u001b[0;34m\u001b[0m\u001b[0;34m\u001b[0m\u001b[0m\n\u001b[1;32m     17\u001b[0m         \u001b[0msolve_rate\u001b[0m \u001b[0;34m+=\u001b[0m \u001b[0msolved\u001b[0m\u001b[0;34m\u001b[0m\u001b[0;34m\u001b[0m\u001b[0m\n",
      "\u001b[0;32m~/Documents/Thesis/Code/Experiments/MCTS.py\u001b[0m in \u001b[0;36m__init__\u001b[0;34m(self, env, network, max_time, device, c, nu)\u001b[0m\n\u001b[1;32m     13\u001b[0m         \u001b[0mself\u001b[0m\u001b[0;34m.\u001b[0m\u001b[0mmax_time\u001b[0m \u001b[0;34m=\u001b[0m \u001b[0mmax_time\u001b[0m\u001b[0;34m\u001b[0m\u001b[0;34m\u001b[0m\u001b[0m\n\u001b[1;32m     14\u001b[0m         \u001b[0mstate\u001b[0m \u001b[0;34m=\u001b[0m \u001b[0menv\u001b[0m\u001b[0;34m.\u001b[0m\u001b[0mget_observation\u001b[0m\u001b[0;34m(\u001b[0m\u001b[0;34m)\u001b[0m\u001b[0;34m\u001b[0m\u001b[0;34m\u001b[0m\u001b[0m\n\u001b[0;32m---> 15\u001b[0;31m         \u001b[0mprior_probabilities\u001b[0m \u001b[0;34m=\u001b[0m \u001b[0mself\u001b[0m\u001b[0;34m.\u001b[0m\u001b[0mnetwork\u001b[0m\u001b[0;34m.\u001b[0m\u001b[0mpolicy\u001b[0m\u001b[0;34m(\u001b[0m\u001b[0mtorch\u001b[0m\u001b[0;34m.\u001b[0m\u001b[0mtensor\u001b[0m\u001b[0;34m(\u001b[0m\u001b[0mstate\u001b[0m\u001b[0;34m,\u001b[0m \u001b[0mdtype\u001b[0m\u001b[0;34m=\u001b[0m\u001b[0mtorch\u001b[0m\u001b[0;34m.\u001b[0m\u001b[0mfloat32\u001b[0m\u001b[0;34m,\u001b[0m \u001b[0mdevice\u001b[0m\u001b[0;34m=\u001b[0m\u001b[0mself\u001b[0m\u001b[0;34m.\u001b[0m\u001b[0mdevice\u001b[0m\u001b[0;34m)\u001b[0m\u001b[0;34m)\u001b[0m\u001b[0;34m.\u001b[0m\u001b[0mdetach\u001b[0m\u001b[0;34m(\u001b[0m\u001b[0;34m)\u001b[0m\u001b[0;34m.\u001b[0m\u001b[0mcpu\u001b[0m\u001b[0;34m(\u001b[0m\u001b[0;34m)\u001b[0m\u001b[0;34m.\u001b[0m\u001b[0mnumpy\u001b[0m\u001b[0;34m(\u001b[0m\u001b[0;34m)\u001b[0m\u001b[0;34m\u001b[0m\u001b[0;34m\u001b[0m\u001b[0m\n\u001b[0m\u001b[1;32m     16\u001b[0m         \u001b[0mself\u001b[0m\u001b[0;34m.\u001b[0m\u001b[0mroot\u001b[0m \u001b[0;34m=\u001b[0m \u001b[0mState\u001b[0m\u001b[0;34m(\u001b[0m\u001b[0mdevice\u001b[0m\u001b[0;34m,\u001b[0m \u001b[0mc\u001b[0m\u001b[0;34m,\u001b[0m \u001b[0mnu\u001b[0m\u001b[0;34m,\u001b[0m \u001b[0mprior_probabilities\u001b[0m\u001b[0;34m=\u001b[0m\u001b[0mprior_probabilities\u001b[0m\u001b[0;34m)\u001b[0m\u001b[0;34m\u001b[0m\u001b[0;34m\u001b[0m\u001b[0m\n\u001b[1;32m     17\u001b[0m \u001b[0;34m\u001b[0m\u001b[0m\n",
      "\u001b[0;31mRuntimeError\u001b[0m: CUDA error: unspecified launch failure"
     ]
    }
   ],
   "source": [
    "c = 4.0\n",
    "nu = 10.0\n",
    "\n",
    "solve_rate = 0\n",
    "counts = 0\n",
    "seq_len = 0\n",
    "\n",
    "try:\n",
    "    for i in tqdm_notebook(range(640)):\n",
    "        env = rubiks2.RubiksEnv2(2, unsolved_reward=-1.0)\n",
    "        env.reset(1000)\n",
    "        \n",
    "        counts += 1\n",
    "\n",
    "        MCTS = MonteCarloSearchTree(env, network, 5.0, device, c, nu)\n",
    "        solved, solve_sequence = MCTS.search()\n",
    "        solve_rate += solved\n",
    "\n",
    "        if solved:\n",
    "            seq_len += len(solve_sequence)\n",
    "        \n",
    "except KeyboardInterrupt:\n",
    "    pass\n",
    "\n",
    "print(solve_rate/counts)\n",
    "print(seq_len/solve_rate)"
   ]
  },
  {
   "cell_type": "code",
   "execution_count": 6,
   "metadata": {},
   "outputs": [],
   "source": [
    "superflip_set = [[4,0,5,1,5,4,5,5,1,3,2,1,3,3],\n",
    "[0,5,1,1,0,0,1,5,0,2,2,4,4,5],\n",
    "[1,2,2,3,3,5,0,4,0,2,4,3,5,0],\n",
    "[1,0,5,0,4,3,3,1,3,1,0,2,3,2],\n",
    "[5,0,5,1,5,1,5,1,5,1,5,3,1,5],\n",
    "[3,5,3,2,4,2,4,5,1,0,4,3,5,0],\n",
    "[2,4,2,0,0,2,4,5,3,1,0,0,4,4],\n",
    "[5,0,5,4,3,2,3,4,3,2,4,2,2,1],\n",
    "[2,0,4,0,4,0,4,0,4,5,3,5,4,5],\n",
    "[2,4,2,4,3,2,2,1,3,5,4,4,2,3],\n",
    "[4,4,0,4,0,5,4,5,0,0,1,3,1,2],\n",
    "[0,4,0,5,1,1,0,2,2,3,2,3,5,5],\n",
    "[0,1,0,4,2,4,2,4,0,2,4,5,4,3],\n",
    "[2,3,2,2,1,5,1,5,3,5,1,5,5,4],\n",
    "[4,0,5,4,0,4,3,2,3,5,1,0,5,0],\n",
    "[2,3,1,2,1,5,3,2,3,1,2,1,2,2],\n",
    "[5,4,0,5,3,1,2,4,2,1,5,1,0,2],\n",
    "[2,4,0,1,3,4,0,0,2,2,4,0,5,4],\n",
    "[5,1,2,3,4,3,5,3,2,4,2,0,2,0],\n",
    "[1,2,0,4,2,3,1,3,1,0,4,5,0,1],\n",
    "[4,2,1,5,0,2,3,5,4,2,3,1,5,3],\n",
    "[2,3,4,5,1,5,0,4,2,3,1,2,1,3],\n",
    "[0,5,1,3,2,4,0,0,4,0,4,0,5,0],\n",
    "[5,1,2,3,5,1,3,4,2,4,5,5,0,2],\n",
    "[0,4,3,5,1,0,5,0,2,3,4,4,3,1],\n",
    "[3,3,4,2,4,5,1,3,3,5,0,2,0,0],\n",
    "[5,3,1,3,5,1,0,0,1,0,1,5,4,4],\n",
    "[2,0,1,5,1,3,1,2,4,3,2,4,0,2],\n",
    "[1,0,4,3,5,3,5,1,5,0,4,3,2,1],\n",
    "[3,1,0,2,2,0,5,3,1,3,4,5,1,3],\n",
    "[1,3,5,4,0,2,2,3,1,3,4,0,2,3],\n",
    "[5,3,1,1,3,2,1,5,0,5,1,1,2,3],\n",
    "[4,3,2,1,3,5,1,5,4,4,2,4,3,4],\n",
    "[4,4,3,5,0,5,5,3,1,3,2,4,5,1],\n",
    "[4,4,5,0,5,3,2,1,1,3,1,0,1,1],\n",
    "[5,1,2,3,2,1,2,3,3,4,3,2,4,4],\n",
    "[3,3,1,2,4,0,4,2,4,3,3,4,2,2],\n",
    "[3,5,0,5,5,3,1,3,2,3,2,1,5,4],\n",
    "[3,4,2,2,4,5,1,5,0,5,1,2,4,5],\n",
    "[4,2,4,2,2,1,0,4,0,1,2,4,5,4],\n",
    "[4,0,4,0,5,1,2,1,3,2,1,0,5,3],\n",
    "[1,2,2,3,3,4,0,2,1,0,4,0,5,0],\n",
    "[2,3,3,5,1,3,2,3,1,5,4,4,2,2],\n",
    "[1,2,2,4,2,4,0,4,3,3,5,5,4,0],\n",
    "[4,0,4,4,5,4,4,2,4,0,5,5,0,4],\n",
    "[5,1,3,2,1,3,2,1,2,1,0,5,4,3],\n",
    "[4,4,2,0,1,1,5,3,1,3,2,0,4,5],\n",
    "[0,1,5,3,2,1,5,3,2,4,0,2,4,2],\n",
    "[1,3,2,3,5,0,1,5,0,1,3,4,0,0],\n",
    "[1,2,1,3,1,5,1,3,1,5,4,3,5,5],\n",
    "[3,1,3,4,2,3,4,3,4,4,0,2,3,1],\n",
    "[5,1,2,2,1,5,0,5,5,3,5,5,1,3],\n",
    "[5,3,2,4,0,5,4,3,2,4,5,3,2,3],\n",
    "[1,2,1,3,2,4,0,4,2,0,1,2,3,5],\n",
    "[3,5,5,3,5,0,5,4,2,2,4,2,3,2],\n",
    "[4,5,1,5,4,2,1,1,3,5,1,2,3,2],\n",
    "[3,5,1,3,3,1,2,3,2,3,1,2,4,2],\n",
    "[2,0,1,3,2,3,1,3,2,4,5,0,4,4],\n",
    "[1,2,4,2,0,0,4,3,1,3,2,2,0,0],\n",
    "[2,3,3,5,4,0,4,0,4,5,4,5,4,0],\n",
    "[2,1,3,2,2,3,1,3,2,0,4,3,3,2],\n",
    "[4,4,5,4,2,2,4,0,5,0,1,3,2,3],\n",
    "[3,2,4,4,3,5,0,4,0,4,5,5,1,0],\n",
    "[3,4,2,4,2,4,2,4,0,2,0,2,0,1],\n",
    "[4,5,3,4,0,4,5,0,1,3,1,2,1,2],\n",
    "[3,5,5,1,3,2,4,3,3,4,3,2,1,1],\n",
    "[3,4,4,3,1,2,3,1,5,0,5,4,5,0],\n",
    "[0,2,0,1,1,5,0,1,3,1,3,5,1,5],\n",
    "[3,1,5,1,2,0,5,3,1,5,5,4,2,4],\n",
    "[2,4,4,5,3,1,3,5,1,2,4,3,3,4],\n",
    "[3,1,3,4,3,5,1,5,0,5,4,4,0,4],\n",
    "[2,3,1,5,3,1,5,1,2,1,5,5,1,2],\n",
    "[3,3,4,0,1,5,3,2,3,3,2,3,1,3],\n",
    "[1,5,3,1,2,0,2,0,4,0,5,3,5,4],\n",
    "[0,1,1,5,0,4,5,0,2,4,5,1,5,4],\n",
    "[3,2,4,2,1,5,0,0,1,2,4,5,4,0],\n",
    "[0,4,0,5,0,4,2,4,2,2,4,2,3,2],\n",
    "[5,0,5,5,4,3,5,1,5,1,5,3,1,5],\n",
    "[0,5,4,5,0,4,0,4,0,1,5,3,3,2],\n",
    "[5,5,3,2,3,1,0,1,5,1,1,3,5,5],\n",
    "[0,5,1,0,5,3,3,5,1,2,0,5,5,4],\n",
    "[0,4,5,5,1,5,0,5,3,1,5,4,3,1],\n",
    "[5,1,0,4,2,2,0,1,2,2,1,5,1,1],\n",
    "[4,4,0,2,3,1,5,1,3,4,4,3,1,1],\n",
    "[0,5,1,5,1,2,2,0,0,1,1,2,4,2],\n",
    "[2,0,2,2,3,1,0,4,0,2,2,3,1,2],\n",
    "[4,0,2,3,1,5,3,1,5,0,2,4,0,4],\n",
    "[1,3,5,4,0,2,4,2,4,3,5,4,4,0],\n",
    "[5,4,3,5,1,5,1,1,2,4,2,0,4,3],\n",
    "[1,5,4,0,5,4,3,1,2,3,4,4,5,3],\n",
    "[0,2,3,2,0,2,3,1,3,1,5,1,0,0],\n",
    "[5,4,3,2,3,2,0,5,0,4,4,2,0,2],\n",
    "[2,1,5,1,2,4,4,0,2,1,2,4,3,3],\n",
    "[2,3,2,2,1,0,1,3,5,1,2,1,1,2],\n",
    "[5,0,4,3,1,3,4,0,1,5,1,0,1,3],\n",
    "[5,5,0,0,2,4,2,1,5,0,4,3,4,4],\n",
    "[1,0,5,0,1,2,4,5,1,3,5,0,2,3],\n",
    "[4,4,2,0,5,1,5,0,5,1,1,5,3,3],\n",
    "[0,2,4,5,5,4,5,3,1,3,3,2,3,1],\n",
    "[4,0,5,5,1,3,5,1,3,1,3,5,0,4],\n",
    "[0,2,2,4,2,4,3,2,2,3,3,1,0,2],\n",
    "[5,1,3,1,2,0,4,2,2,0,4,4,3,1],\n",
    "[1,2,1,1,0,5,0,5,1,2,0,5,3,5],\n",
    "[3,1,5,1,0,4,3,1,0,2,4,5,5,0],\n",
    "[5,5,1,0,4,2,3,2,4,5,5,1,2,2],\n",
    "[2,3,2,3,1,5,0,1,2,3,3,5,1,3],\n",
    "[4,2,4,4,0,4,5,0,5,0,4,3,1,3],\n",
    "[1,3,1,3,4,0,2,2,0,1,0,4,2,2],\n",
    "[3,1,5,1,5,0,4,3,4,5,5,1,3,1],\n",
    "[5,4,0,1,5,0,2,4,0,5,1,1,2,3],\n",
    "[2,1,0,4,5,0,4,2,3,2,4,2,1,0],\n",
    "[0,4,2,1,3,2,4,0,2,1,5,5,3,1],\n",
    "[0,5,3,4,4,3,2,0,5,0,4,5,4,3],\n",
    "[2,3,2,3,5,0,1,5,4,5,0,5,5,4],\n",
    "[4,0,5,5,0,2,0,4,2,0,4,5,0,4],\n",
    "[4,0,4,5,1,5,0,1,2,3,2,1,1,3],\n",
    "[3,4,4,2,1,5,1,3,2,4,4,5,1,1],\n",
    "[0,5,3,3,2,0,2,4,0,4,0,5,1,2],\n",
    "[2,1,5,1,3,1,0,5,0,2,2,3,3,1],\n",
    "[0,4,5,5,0,4,3,1,3,2,3,2,1,3],\n",
    "[1,0,0,5,0,5,1,3,3,1,2,3,2,2],\n",
    "[4,5,1,3,4,2,0,5,4,2,3,5,5,1],\n",
    "[3,2,1,5,3,2,3,4,5,4,4,2,1,3],\n",
    "[3,5,5,1,3,5,3,2,2,1,3,5,1,2],\n",
    "[3,4,2,1,1,2,3,4,3,5,3,5,5,1],\n",
    "[0,4,0,5,0,4,3,2,3,1,1,0,2,1],\n",
    "[2,1,5,0,4,3,4,2,3,3,1,0,0,1],\n",
    "[4,4,3,2,4,2,0,2,0,0,5,0,5,4],\n",
    "[2,0,4,0,4,5,4,2,0,0,2,4,5,0],\n",
    "[1,2,3,1,3,2,4,4,5,3,4,3,5,0],\n",
    "[4,2,3,5,3,2,3,5,3,1,2,3,5,0],\n",
    "[3,4,0,4,2,3,1,0,5,4,4,0,2,2],\n",
    "[4,2,2,4,0,2,3,1,5,1,1,0,4,4],\n",
    "[1,2,0,2,0,4,0,5,3,1,3,4,0,4],\n",
    "[0,1,3,1,1,5,0,1,3,2,4,4,0,5],\n",
    "[2,3,1,3,1,2,3,4,4,2,4,4,3,1],\n",
    "[4,0,5,5,4,5,1,5,0,4,5,3,1,0],\n",
    "[2,4,2,3,2,0,5,4,4,0,5,5,4,0],\n",
    "[5,3,1,5,0,2,1,3,4,2,1,5,1,3],\n",
    "[4,4,0,5,1,3,1,2,1,5,0,1,0,5],\n",
    "[5,1,1,5,1,2,3,1,3,5,5,1,0,0],\n",
    "[1,5,3,2,3,5,0,1,2,2,1,5,1,3],\n",
    "[5,4,0,0,2,1,0,4,2,3,1,3,1,2],\n",
    "[0,1,1,0,4,3,5,0,4,5,3,1,5,3],\n",
    "[5,4,2,4,2,3,2,1,0,0,4,5,0,0],\n",
    "[4,0,5,0,5,0,2,0,4,3,2,3,4,5],\n",
    "[2,0,5,0,4,4,5,4,2,4,0,0,4,4],\n",
    "[0,4,2,3,1,3,4,0,2,2,4,2,2,0],\n",
    "[2,3,4,5,0,1,2,3,2,1,3,5,3,3],\n",
    "[4,2,3,4,3,1,1,3,4,3,4,2,0,4],\n",
    "[0,4,3,2,4,5,5,1,3,2,1,3,5,5],\n",
    "[5,1,0,1,0,5,1,5,4,2,2,4,3,4],\n",
    "[5,5,4,5,4,0,1,5,3,2,1,3,4,4],\n",
    "[4,4,0,5,3,1,5,0,1,3,3,4,2,4],\n",
    "[5,3,2,1,5,1,3,4,5,0,4,4,5,5],\n",
    "[5,0,5,0,5,1,5,5,0,4,3,4,0,2],\n",
    "[0,2,3,4,5,1,5,1,1,3,2,0,4,0],\n",
    "[5,3,2,3,5,0,1,5,4,2,4,3,3,2],\n",
    "[2,4,4,0,4,0,4,2,3,1,2,0,4,5],\n",
    "[5,5,1,3,5,4,3,2,1,5,4,2,3,4],\n",
    "[5,5,4,2,3,1,5,1,2,0,4,3,4,5],\n",
    "[4,2,3,5,3,2,3,5,3,1,2,3,5,3],\n",
    "[1,3,2,4,5,3,3,1,0,2,3,1,0,2],\n",
    "[3,2,4,4,0,5,3,2,0,2,2,1,1,3],\n",
    "[1,0,4,2,1,3,2,2,3,4,5,1,5,5],\n",
    "[3,1,0,4,2,2,4,3,4,0,4,2,2,4],\n",
    "[2,3,1,2,2,4,2,1,5,0,5,1,5,3],\n",
    "[1,5,0,5,3,4,5,4,2,3,5,1,3,2],\n",
    "[0,4,0,4,0,4,5,0,4,5,0,1,2,2],\n",
    "[3,2,4,4,3,4,2,4,5,1,0,0,5,5],\n",
    "[1,3,4,4,5,1,3,5,0,4,2,3,5,3],\n",
    "[3,3,1,5,1,5,1,2,1,3,5,0,5,3],\n",
    "[3,1,0,4,2,3,2,0,2,4,4,3,2,4],\n",
    "[4,2,3,1,1,2,0,2,2,3,1,3,1,5],\n",
    "[5,3,1,5,1,5,3,4,4,2,4,5,4,2],\n",
    "[5,1,2,3,1,1,2,0,5,5,0,5,1,1],\n",
    "[2,4,0,1,3,1,3,2,0,1,1,0,2,2],\n",
    "[4,0,5,5,0,2,2,1,0,1,0,4,5,5],\n",
    "[3,2,1,5,0,5,0,1,5,1,2,0,4,0],\n",
    "[2,4,2,3,5,0,2,2,1,5,3,2,3,1],\n",
    "[3,3,5,1,2,3,3,5,1,3,4,2,2,3],\n",
    "[5,1,3,4,3,5,3,1,2,4,4,0,2,4],\n",
    "[4,4,3,4,5,0,2,3,2,3,4,2,1,2],\n",
    "[2,3,3,2,3,3,1,5,4,5,0,4,0,1],\n",
    "[4,2,3,1,3,5,4,0,1,3,4,2,1,1],\n",
    "[5,0,2,4,5,3,3,1,3,5,4,0,1,1],\n",
    "[3,4,0,1,5,0,0,1,2,4,0,4,4,3],\n",
    "[2,3,5,4,2,4,0,2,0,5,1,1,5,5],\n",
    "[4,2,3,5,1,3,2,1,5,4,3,1,5,3],\n",
    "[5,1,3,5,4,2,3,4,5,1,2,3,4,0],\n",
    "[5,5,3,2,3,4,0,4,3,1,0,5,4,5],\n",
    "[3,5,0,4,3,5,5,1,3,2,0,2,4,2],\n",
    "[3,1,2,0,5,1,0,2,3,5,1,0,4,5],\n",
    "[2,0,5,3,3,5,1,3,4,2,3,5,3,4],\n",
    "[1,0,5,1,2,3,1,1,2,4,4,2,2,0],\n",
    "[1,5,1,5,1,3,5,0,4,3,1,5,4,2],\n",
    "[0,1,3,3,2,3,4,5,1,5,1,0,0,4],\n",
    "[1,3,4,0,5,3,2,0,1,3,2,4,0,2],\n",
    "[3,2,3,2,2,1,2,1,3,1,3,1,2,4],\n",
    "[4,2,4,0,2,0,4,3,5,0,4,0,4,5],\n",
    "[3,1,2,2,4,0,4,2,3,1,0,1,5,1],\n",
    "[0,1,1,5,1,3,1,5,4,3,1,5,3,3],\n",
    "[3,3,2,2,3,1,2,0,4,2,3,4,3,1],\n",
    "[4,4,0,4,3,1,2,1,5,5,4,2,0,2],\n",
    "[2,4,0,0,1,2,4,2,3,1,2,4,4,3],\n",
    "[3,1,0,4,2,2,4,3,4,0,5,5,0,5],\n",
    "[5,3,1,1,0,5,1,2,1,0,2,2,1,2],\n",
    "[5,3,4,0,4,3,3,5,1,2,3,2,4,3],\n",
    "[2,3,5,1,3,3,5,4,2,2,4,2,0,0],\n",
    "[0,5,1,3,2,3,2,4,3,1,1,2,3,4],\n",
    "[4,2,4,4,3,5,0,4,3,2,3,3,1,1],\n",
    "[2,4,0,0,4,3,3,5,3,5,4,0,5,5],\n",
    "[2,3,2,2,1,5,4,2,3,4,5,3,2,4],\n",
    "[2,1,3,1,1,0,4,2,3,1,2,0,5,1],\n",
    "[0,5,0,5,1,3,2,4,5,4,2,1,3,5],\n",
    "[5,1,0,4,3,2,4,2,4,5,5,3,2,4],\n",
    "[5,0,4,0,4,5,0,2,0,4,0,5,0,1],\n",
    "[2,3,2,4,3,1,5,4,2,3,5,0,4,2],\n",
    "[1,5,0,5,1,2,3,2,4,0,0,4,3,4],\n",
    "[2,3,4,0,2,2,1,3,2,4,2,4,2,4],\n",
    "[2,0,1,5,0,0,4,2,4,3,2,0,0,1],\n",
    "[5,5,3,1,3,3,5,0,2,3,2,4,0,4],\n",
    "[0,2,2,4,2,3,2,4,4,2,1,3,4,4],\n",
    "[2,0,4,2,2,1,3,2,3,2,4,3,1,0],\n",
    "[3,1,2,3,5,1,5,5,3,3,1,0,4,0],\n",
    "[3,5,0,1,1,3,2,3,1,5,0,2,0,4],\n",
    "[4,5,1,3,2,2,1,1,3,1,5,0,5,3],\n",
    "[5,0,4,2,3,2,4,3,2,3,5,0,5,4],\n",
    "[3,2,1,2,4,2,1,2,4,4,0,2,4,3],\n",
    "[3,5,5,4,4,2,3,2,0,5,4,4,5,0],\n",
    "[1,0,2,4,2,0,0,5,0,5,1,0,4,2],\n",
    "[4,2,4,3,2,4,2,1,0,5,1,2,2,3],\n",
    "[2,1,0,0,5,0,1,3,2,3,1,1,2,0],\n",
    "[4,2,2,1,2,4,2,3,2,0,2,1,2,4],\n",
    "[2,3,5,4,4,0,1,2,1,5,0,0,1,1],\n",
    "[5,5,1,0,2,3,1,5,5,4,0,5,3,4],\n",
    "[3,1,5,4,2,3,2,0,2,4,0,0,4,0],\n",
    "[3,2,3,4,0,1,3,4,5,0,1,1,5,1],\n",
    "[5,3,1,2,0,4,0,2,4,2,0,1,2,2],\n",
    "[2,4,3,4,2,4,0,4,2,3,1,0,1,5],\n",
    "[3,3,1,2,2,1,0,5,1,3,1,0,5,0],\n",
    "[4,2,1,5,0,4,4,2,2,0,5,3,2,4],\n",
    "[0,5,1,2,2,1,0,1,3,5,0,4,0,1],\n",
    "[2,4,5,4,0,1,1,5,3,1,3,2,3,2],\n",
    "[5,0,4,0,4,5,4,2,1,0,4,0,4,4],\n",
    "[4,4,5,4,2,2,0,1,3,1,3,5,1,2],\n",
    "[2,1,3,5,0,2,3,4,5,1,3,4,5,1],\n",
    "[0,2,3,5,5,3,1,3,4,0,5,3,5,4],\n",
    "[4,3,1,3,2,4,0,4,2,4,5,0,1,1],\n",
    "[0,5,3,4,4,2,4,2,3,5,1,1,0,1],\n",
    "[3,4,4,2,4,0,1,0,0,1,0,0,2,1],\n",
    "[4,3,2,1,5,3,1,5,3,5,3,4,0,1],\n",
    "[2,4,2,3,1,0,2,3,3,4,3,4,5,1],\n",
    "[2,4,2,0,1,5,1,3,5,1,2,3,3,5],\n",
    "[3,4,0,4,4,0,4,2,0,1,1,0,5,5],\n",
    "[5,5,1,0,5,0,4,3,1,3,2,2,3,3],\n",
    "[3,1,5,3,1,5,1,3,5,1,5,1,1,2],\n",
    "[4,2,3,1,5,5,0,5,0,2,1,5,1,1],\n",
    "[5,4,2,1,5,0,4,0,5,4,5,5,4,5],\n",
    "[0,5,4,2,0,4,2,1,2,0,0,5,4,2],\n",
    "[5,0,0,2,2,1,5,4,2,4,4,3,3,4],\n",
    "[3,1,0,5,1,5,4,2,4,5,4,3,5,1],\n",
    "[4,4,5,0,4,5,3,3,5,1,0,4,2,1],\n",
    "[4,2,3,4,0,2,4,2,2,4,0,5,4,4],\n",
    "[2,4,5,4,0,1,5,1,5,3,5,0,0,1],\n",
    "[3,4,2,4,0,1,2,4,4,3,1,0,1,2],\n",
    "[5,1,2,2,3,5,0,5,4,0,5,5,4,4],\n",
    "[3,2,3,1,2,2,4,5,3,3,1,3,1,5],\n",
    "[3,4,3,2,4,0,4,0,1,2,1,5,0,5],\n",
    "[1,5,4,3,1,5,3,2,0,5,0,2,3,1],\n",
    "[4,5,1,3,5,0,4,2,3,2,0,2,4,4],\n",
    "[1,3,2,4,0,2,3,5,4,2,3,2,4,4],\n",
    "[2,0,1,1,5,0,2,3,2,4,2,2,0,2],\n",
    "[3,1,5,0,4,2,4,2,1,0,4,2,1,1],\n",
    "[3,4,2,4,0,5,3,1,1,3,1,2,4,2],\n",
    "[4,4,5,3,5,1,2,3,1,2,2,4,2,1]]"
   ]
  },
  {
   "cell_type": "code",
   "execution_count": null,
   "metadata": {},
   "outputs": [],
   "source": []
  },
  {
   "cell_type": "code",
   "execution_count": null,
   "metadata": {},
   "outputs": [],
   "source": []
  }
 ],
 "metadata": {
  "kernelspec": {
   "display_name": "Python 3",
   "language": "python",
   "name": "python3"
  },
  "language_info": {
   "codemirror_mode": {
    "name": "ipython",
    "version": 3
   },
   "file_extension": ".py",
   "mimetype": "text/x-python",
   "name": "python",
   "nbconvert_exporter": "python",
   "pygments_lexer": "ipython3",
   "version": "3.6.9"
  }
 },
 "nbformat": 4,
 "nbformat_minor": 2
}
